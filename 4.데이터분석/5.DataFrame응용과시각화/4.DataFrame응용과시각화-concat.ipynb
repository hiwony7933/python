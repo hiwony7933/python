{
 "nbformat": 4,
 "nbformat_minor": 2,
 "metadata": {
  "language_info": {
   "name": "python",
   "codemirror_mode": {
    "name": "ipython",
    "version": 3
   },
   "version": "3.7.4-final"
  },
  "orig_nbformat": 2,
  "file_extension": ".py",
  "mimetype": "text/x-python",
  "name": "python",
  "npconvert_exporter": "python",
  "pygments_lexer": "ipython3",
  "version": 3,
  "kernelspec": {
   "name": "python37464bitanaconda3condae788c5fa592f4db3927eca9f2fe371f6",
   "display_name": "Python 3.7.4 64-bit ('anaconda3': conda)"
  }
 },
 "cells": [
  {
   "cell_type": "code",
   "execution_count": 1,
   "metadata": {},
   "outputs": [
    {
     "name": "stdout",
     "output_type": "stream",
     "text": "a\n1  a0\n2  a1\n3  a2\n    a   b\n2  a2  b2\n3  a3  b3\n4  a4  b4\n"
    }
   ],
   "source": [
    "import pandas as pd \n",
    "\n",
    "# concat - 열 행 방향으로 DataFrame을 합쳐주는 함수 \n",
    "\n",
    "df1 = pd.DataFrame({'a': ['a0','a1', 'a2']}, index=[1,2,3])\n",
    "df2 = pd.DataFrame({'a': ['a2','a3', 'a4'], 'b':['b2', 'b3','b4']}, index=[2,3,4])\n",
    "\n",
    "print(df1)\n",
    "print(df2)"
   ]
  },
  {
   "cell_type": "code",
   "execution_count": 2,
   "metadata": {},
   "outputs": [
    {
     "name": "stdout",
     "output_type": "stream",
     "text": "a    b\n1  a0  NaN\n2  a1  NaN\n3  a2  NaN\n2  a2   b2\n3  a3   b3\n4  a4   b4\n"
    }
   ],
   "source": [
    "# 열방향(위 아래)로 합침\n",
    "print(pd.concat([df1,df2]))"
   ]
  },
  {
   "cell_type": "code",
   "execution_count": 3,
   "metadata": {},
   "outputs": [
    {
     "name": "stdout",
     "output_type": "stream",
     "text": "a    a    b\n1   a0  NaN  NaN\n2   a1   a2   b2\n3   a2   a3   b3\n4  NaN   a4   b4\n"
    }
   ],
   "source": [
    "# 행방향(좌우)로 합치기\n",
    "print(pd.concat([df1,df2], axis=1))"
   ]
  },
  {
   "cell_type": "code",
   "execution_count": 4,
   "metadata": {},
   "outputs": [
    {
     "name": "stdout",
     "output_type": "stream",
     "text": "a   a   b\n2  a1  a2  b2\n3  a2  a3  b3\n"
    }
   ],
   "source": [
    "# 한쪽에만 존재하는 데이터 제거 \n",
    "print(pd.concat([df1, df2], axis=1, join='inner'))"
   ]
  },
  {
   "cell_type": "code",
   "execution_count": 5,
   "metadata": {},
   "outputs": [
    {
     "name": "stdout",
     "output_type": "stream",
     "text": "a    b\n1  a0  NaN\n2  a1  NaN\n3  a2  NaN\n2  a2   b2\n3  a3   b3\n4  a4   b4\n"
    }
   ],
   "source": [
    "# 행방향으로 무조건 합치기 \n",
    "print(df1.append(df2))"
   ]
  },
  {
   "cell_type": "code",
   "execution_count": 6,
   "metadata": {},
   "outputs": [
    {
     "name": "stdout",
     "output_type": "stream",
     "text": "a    b\n1  a0  NaN\n2  a1   b2\n3  a2   b3\n4  a4   b4\n"
    }
   ],
   "source": [
    "# 인덱스를 가지고 합치는데 호출하는 쪽의 데이터를 우선 적용 \n",
    "print(df1.combine_first(df2))"
   ]
  }
 ]
}