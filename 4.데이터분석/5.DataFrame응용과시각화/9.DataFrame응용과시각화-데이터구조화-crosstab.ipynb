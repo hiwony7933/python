{
 "nbformat": 4,
 "nbformat_minor": 2,
 "metadata": {
  "language_info": {
   "name": "python",
   "codemirror_mode": {
    "name": "ipython",
    "version": 3
   },
   "version": "3.7.4-final"
  },
  "orig_nbformat": 2,
  "file_extension": ".py",
  "mimetype": "text/x-python",
  "name": "python",
  "npconvert_exporter": "python",
  "pygments_lexer": "ipython3",
  "version": 3,
  "kernelspec": {
   "name": "python37464bitanaconda3condae788c5fa592f4db3927eca9f2fe371f6",
   "display_name": "Python 3.7.4 64-bit ('anaconda3': conda)"
  }
 },
 "cells": [
  {
   "cell_type": "code",
   "execution_count": 8,
   "metadata": {},
   "outputs": [
    {
     "name": "stdout",
     "output_type": "stream",
     "text": "id fac_1 fac_2\n0  id1     a     c\n1  id1     a     c\n2  id1     a     c\n3  id2     b     c\n4  id2     b     d\n5  id2     b     d\n\nfac_2  c  d\nfac_1      \na      3  0\nb      1  2\n"
    }
   ],
   "source": [
    "# 3. Crosstab (도수분포표)\n",
    "import pandas as pd \n",
    "import numpy as np \n",
    "\n",
    "data = pd.DataFrame({\n",
    "    'id' : ['id1', 'id1','id1','id2','id2','id2'],\n",
    "    'fac_1' : ['a','a','a','b','b','b'],\n",
    "    'fac_2' : ['c','c','c','c','d','d']})\n",
    "\n",
    "print(data)\n",
    "print()\n",
    "# 분류 할때 실제값, 예측결과 대입하면 맞다 틀리다 나옴 \n",
    "# fac_1 : 실제 데이터값, fac_2 : 테스트한 데이터값\n",
    "print(pd.crosstab(data['fac_1'], data['fac_2']))"
   ]
  },
  {
   "cell_type": "code",
   "execution_count": 9,
   "metadata": {},
   "outputs": [
    {
     "name": "stdout",
     "output_type": "stream",
     "text": "fac_2         c         d\nfac_1                    \na      0.500000  0.000000\nb      0.166667  0.333333\n"
    }
   ],
   "source": [
    "# 비율로 출력하기 \n",
    "print(pd.crosstab(data['fac_1'], data['fac_2'], normalize=True))"
   ]
  },
  {
   "cell_type": "code",
   "execution_count": null,
   "metadata": {},
   "outputs": [],
   "source": [
    "# 평가지표, 리콜, \n",
    "# 어커런시, 재현율\n",
    "# 평가 - 잔차(error)의 합 (회귀에서 씀, 예측값-실제값)\n",
    "# 분류 - 도수분포표로 실제값 대비 예측값\n",
    "\n",
    "# 비오는날 10, 비안오는날 90 \n",
    "# 비안오는날을 업샘플링 하든지, 비오는날을 다운샘플링하던지\n",
    "# 비율을 둘이 같게 해서 분석해야된다."
   ]
  }
 ]
}