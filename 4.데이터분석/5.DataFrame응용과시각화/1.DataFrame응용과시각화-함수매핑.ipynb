{
 "nbformat": 4,
 "nbformat_minor": 2,
 "metadata": {
  "language_info": {
   "name": "python",
   "codemirror_mode": {
    "name": "ipython",
    "version": 3
   },
   "version": "3.7.4-final"
  },
  "orig_nbformat": 2,
  "file_extension": ".py",
  "mimetype": "text/x-python",
  "name": "python",
  "npconvert_exporter": "python",
  "pygments_lexer": "ipython3",
  "version": 3,
  "kernelspec": {
   "name": "python37464bitanaconda3condae788c5fa592f4db3927eca9f2fe371f6",
   "display_name": "Python 3.7.4 64-bit ('anaconda3': conda)"
  }
 },
 "cells": [
  {
   "cell_type": "code",
   "execution_count": 1,
   "metadata": {},
   "outputs": [
    {
     "name": "stdout",
     "output_type": "stream",
     "text": "<class 'pandas.core.frame.DataFrame'>\nRangeIndex: 891 entries, 0 to 890\nData columns (total 15 columns):\nsurvived       891 non-null int64\npclass         891 non-null int64\nsex            891 non-null object\nage            714 non-null float64\nsibsp          891 non-null int64\nparch          891 non-null int64\nfare           891 non-null float64\nembarked       889 non-null object\nclass          891 non-null category\nwho            891 non-null object\nadult_male     891 non-null bool\ndeck           203 non-null category\nembark_town    889 non-null object\nalive          891 non-null object\nalone          891 non-null bool\ndtypes: bool(2), category(2), float64(2), int64(4), object(5)\nmemory usage: 80.6+ KB\n"
    }
   ],
   "source": [
    "import seaborn as sns \n",
    "import numpy as np \n",
    "import pandas as pd \n",
    "\n",
    "# seaborn 패키지에 존재하는 titanic 데이터 가져오기\n",
    "# 인터넷에서 가져오기 때문에 인터넷 안되면 안됨.\n",
    "# seaborn 패키지 : 샘플 데이터 셋과 matplotlib보다 시각적인 효과가 뛰어난 그래프를 만들어주는 패키지 \n",
    "# numpy, pandas, matplotlib, seaborn, sklearn(전처리 preprocessing, 머신러닝)\n",
    "\n",
    "titanic = sns.load_dataset('titanic')\n",
    "titanic.info()"
   ]
  },
  {
   "cell_type": "code",
   "execution_count": 2,
   "metadata": {},
   "outputs": [
    {
     "name": "stdout",
     "output_type": "stream",
     "text": "<class 'pandas.core.frame.DataFrame'>\nRangeIndex: 891 entries, 0 to 890\nData columns (total 2 columns):\nage     714 non-null float64\nfare    891 non-null float64\ndtypes: float64(2)\nmemory usage: 14.0 KB\nNone\n"
    }
   ],
   "source": [
    "# 2개의 컬럼을 추출해서 새로운 DataFrame 만들기\n",
    "# age, fare \n",
    "df = titanic[['age', 'fare']]\n",
    "print(df.info())"
   ]
  },
  {
   "cell_type": "code",
   "execution_count": 3,
   "metadata": {},
   "outputs": [
    {
     "name": "stdout",
     "output_type": "stream",
     "text": "<class 'pandas.core.frame.DataFrame'>\nRangeIndex: 891 entries, 0 to 890\nData columns (total 2 columns):\nage     714 non-null float64\nfare    891 non-null float64\ndtypes: float64(2)\nmemory usage: 14.0 KB\n"
    }
   ],
   "source": [
    "# 행 전체의 age와 fare 열 가져오기 \n",
    "df = titanic.loc[:, ['age', 'fare']]\n",
    "df.info()"
   ]
  },
  {
   "cell_type": "code",
   "execution_count": 4,
   "metadata": {},
   "outputs": [
    {
     "name": "stdout",
     "output_type": "stream",
     "text": "age     fare\n0  32.0  17.2500\n1  48.0  81.2833\n2  36.0  17.9250\n3  45.0  63.1000\n4  45.0  18.0500\n<class 'pandas.core.frame.DataFrame'>\nRangeIndex: 891 entries, 0 to 890\nData columns (total 2 columns):\nage     714 non-null float64\nfare    891 non-null float64\ndtypes: float64(2)\nmemory usage: 14.0 KB\nNone\n"
    }
   ],
   "source": [
    "def add_10(x) : \n",
    "    return x+10\n",
    "\n",
    "# 데이터 프레임에 함수 적용 - 열 단위로 적용 \n",
    "result = df.apply(add_10)\n",
    "\n",
    "print(result.head())\n",
    "print(result.info())"
   ]
  }
 ]
}