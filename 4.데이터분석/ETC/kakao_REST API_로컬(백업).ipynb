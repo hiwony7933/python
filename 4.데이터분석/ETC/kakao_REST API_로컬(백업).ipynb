{
 "nbformat": 4,
 "nbformat_minor": 2,
 "metadata": {
  "language_info": {
   "name": "python",
   "codemirror_mode": {
    "name": "ipython",
    "version": 3
   }
  },
  "orig_nbformat": 2,
  "file_extension": ".py",
  "mimetype": "text/x-python",
  "name": "python",
  "npconvert_exporter": "python",
  "pygments_lexer": "ipython3",
  "version": 3
 },
 "cells": [
  {
   "cell_type": "code",
   "execution_count": null,
   "metadata": {},
   "outputs": [],
   "source": [
    "# 웹에서 정적인 데이터를 가져오기 위한 라이브러리를 import\n",
    "import requests\n",
    "\n",
    "# 다운로드 받을 URL 만들기\n",
    "addr = \"https://dapi.kakao.com/v2/local/search/category.json?category_group_code=PM9&rect=127.0561466,37.5058277,127.0602340,37.5142554\"\n",
    "\n",
    "#header 만들기\n",
    "headers = {'Authorization': 'KakaoAK 0ae14c42ae0198bceb42b4e627d3464f'}\n",
    "\n",
    "resp = requests.get(addr, headers=headers)  # 데이터 가져와서 \n",
    "text = resp.text\n",
    "print(text) # 가져온 데이터는 json 임"
   ]
  },
  {
   "cell_type": "code",
   "execution_count": null,
   "metadata": {},
   "outputs": [],
   "source": [
    "import json #json 파싱 모듈을 가져오기 \n",
    "jsondata = json.loads(text)\n",
    "print(type(jsondata)) # 맨 처음 시작이 {} 이므로 dict\n",
    "print(jsondata['documents']) # documents 키의 데이터가져오기 - list "
   ]
  },
  {
   "cell_type": "code",
   "execution_count": null,
   "metadata": {},
   "outputs": [],
   "source": [
    "li=[]\n",
    "# 가져온 배열을 행 단위로 읽어서\n",
    "for imsi in jsondata['documents'] :\n",
    "    # print(imsi['address_name'], ':', imsi['place_name'])\n",
    "    # place_name과 address_name을 가지고 dict를 생성\n",
    "    d = {'명칭' : imsi['place_name'],'주소':imsi['address_name']}\n",
    "    li.append(d) #dict를 list에 추가 \n",
    "\n",
    "# 확인\n",
    "for temp in li :\n",
    "    print(temp)"
   ]
  }
 ]
}