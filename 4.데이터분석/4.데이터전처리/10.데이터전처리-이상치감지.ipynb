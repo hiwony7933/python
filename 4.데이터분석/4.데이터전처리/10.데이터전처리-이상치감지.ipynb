{
 "nbformat": 4,
 "nbformat_minor": 2,
 "metadata": {
  "language_info": {
   "name": "python",
   "codemirror_mode": {
    "name": "ipython",
    "version": 3
   },
   "version": "3.7.4-final"
  },
  "orig_nbformat": 2,
  "file_extension": ".py",
  "mimetype": "text/x-python",
  "name": "python",
  "npconvert_exporter": "python",
  "pygments_lexer": "ipython3",
  "version": 3,
  "kernelspec": {
   "name": "python37464bitanaconda3condae788c5fa592f4db3927eca9f2fe371f6",
   "display_name": "Python 3.7.4 64-bit ('anaconda3': conda)"
  }
 },
 "cells": [
  {
   "cell_type": "code",
   "execution_count": 11,
   "metadata": {},
   "outputs": [
    {
     "name": "stdout",
     "output_type": "stream",
     "text": "(array([0, 1]), array([32, 64]))\n"
    }
   ],
   "source": [
    "import numpy as np \n",
    "import pandas as pd\n",
    "\n",
    "# array를 입력받아서 z 점수(평균의 표준편차3범위) 밖에 있는 데이터를 리턴해주는 함수\n",
    "def z_score_outlier(ar) : \n",
    "    threshold = 3\n",
    "    # 평균가져오기\n",
    "    meandata = np.mean(ar)\n",
    "    stdevdata =  np.std(ar)\n",
    "    # ar의 요소를 y에 하나씩 대입하고 앞에 수식을 적용해서 결과를 가지고 다시 list를 만드는것 \n",
    "    z_scores = [(y-meandata) / stdevdata for y in ar]\n",
    "    return np.where(np.abs(z_scores) > threshold)\n",
    "\n",
    "# 샘플 데이터 생성\n",
    "featrues = np.array([\n",
    "                    [10, 13, 20, 5, -30, 4,10, 13, 20, 5, -30, 4,10, 13, 20, 5, -30, 4,10, 13, 20, 5, -30, 4,10, 13, 20, 5, -30, 4,10, 13, 2330, \n",
    "                    5, -30, 4,10, 13, 20, 5, -30, 4,10, 13, 20, 5, -30, 4,10, 13, 20, 5, -30, 4,10, 13, 20, 5, -30, 4,10, 13, 20, 5, -30, 4,10, 13, \n",
    "                    20, 5, -30, 4,10, 13, 20, 5, -30, 4,10, 13, 20, 5, -30, 4,10, 13, 20, 5, -30, 4,10, 13, 20, 5, -30, 4,10, 13, 20, 5, -30, 4,10, \n",
    "                    13, 20, 5, -30, 4,10, 13, 20, 5, -30, 4], \n",
    "                    [10, 13, 20, 5, -30, 4,10, 13, 20, 5, -30, 4,10, 13, 20, 5, -30, 4,10, 13, 20, 5, -30, 4,10, 13, 20, 5, -30, 4,10, 13, 20, 5, -30, \n",
    "                    4,10, 13, 20, 5, -30, 4,10, 13, 20, 5, -30, 4,10, 13, 20, 5, -30, 4,10, 13, 20, 5, -30, 4,10, 13, 20, 5, -3440, 4,10, 13, 20, 5, -30, \n",
    "                    4,10, 13, 20, 5, -30, 4,10, 13, 20, 5, -30, 4,10, 13, 20, 5, -30, 4,10, 13, 20, 5, -30, 4,10, 13, 20, 5, -30, 4,10, 13, 20, 5, -30, \n",
    "                    4,10, 13, 20, 5, -30, 4]])\n",
    "result = z_score_outlier(featrues)\n",
    "print(result)\n",
    "# 데이터가 적으면 출력값(참고) : (array([1]), array([5])) # 2행 6열이 이상치이다.\n",
    "# 데이터가 많을때 출력값(참고) : (array([0, 1]), array([32, 64]))"
   ]
  },
  {
   "cell_type": "code",
   "execution_count": 12,
   "metadata": {},
   "outputs": [
    {
     "name": "stdout",
     "output_type": "stream",
     "text": "(array([0, 1]), array([32, 64]))\n"
    }
   ],
   "source": [
    "# z score 보정 - 범위를 3.5배로 늘리고 표준편차 0.6875를 곱해준다. \n",
    "def modify_z_score_outlier(ar) : \n",
    "    threshold = 3.5\n",
    "    # 평균가져오기\n",
    "    meandata = np.mean(ar)\n",
    "    stdevdata =  np.std(ar) \n",
    "    z_scores = [0.6875 * (y-meandata) / stdevdata for y in ar]\n",
    "    return np.where(np.abs(z_scores) > threshold)\n",
    "\n",
    "result = modify_z_score_outlier(featrues)\n",
    "print(result)"
   ]
  },
  {
   "cell_type": "code",
   "execution_count": 13,
   "metadata": {},
   "outputs": [
    {
     "name": "stdout",
     "output_type": "stream",
     "text": "4.0 13.0\n(array([0, 0, 0, 0, 0, 0, 0, 0, 0, 0, 0, 0, 0, 0, 0, 0, 0, 0, 0, 0, 1, 1,\n       1, 1, 1, 1, 1, 1, 1, 1, 1, 1, 1, 1, 1, 1, 1, 1, 1]), array([  4,  10,  16,  22,  28,  32,  34,  40,  46,  52,  58,  64,  70,\n        76,  82,  88,  94, 100, 106, 112,   4,  10,  16,  22,  28,  34,\n        40,  46,  52,  58,  64,  70,  76,  82,  88,  94, 100, 106, 112]))\n"
    }
   ],
   "source": [
    "# IQR 이용 : 3사분위수 - 1사분위수의 +- 1.5 배 이상 차이나면 이상치로 간주\n",
    "def iqr_outlier(ar) : \n",
    "    # 25% 와 75% 값 찾기 \n",
    "    q1, q3 = np.percentile(ar,[25,75])\n",
    "    print(q1, q3)\n",
    "    # IQR 값 찾기 \n",
    "    iqr = q3 - q1 \n",
    "    # 25% 값과 1.5 iqr 보다 작은 값 찾기 \n",
    "    lower = q1 - iqr * 1.5\n",
    "    upper = q3 + iqr * 1.5\n",
    "    return np.where((ar > upper) | (ar < lower))\n",
    "\n",
    "result = iqr_outlier(featrues)\n",
    "print(result)"
   ]
  }
 ]
}