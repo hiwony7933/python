{
 "nbformat": 4,
 "nbformat_minor": 2,
 "metadata": {
  "language_info": {
   "name": "python",
   "codemirror_mode": {
    "name": "ipython",
    "version": 3
   }
  },
  "orig_nbformat": 2,
  "file_extension": ".py",
  "mimetype": "text/x-python",
  "name": "python",
  "npconvert_exporter": "python",
  "pygments_lexer": "ipython3",
  "version": 3
 },
 "cells": [
  {
   "cell_type": "code",
   "execution_count": 5,
   "metadata": {},
   "outputs": [
    {
     "name": "stdout",
     "output_type": "stream",
     "text": "2017-01-01   -0.203897\n2017-01-04   -0.812132\n2017-01-07   -1.171423\ndtype: float64\n"
    }
   ],
   "source": [
    "import pandas as pd \n",
    "import numpy as np \n",
    "from datetime import datetime\n",
    "\n",
    "dates = [datetime(2017,1,1),\n",
    "         datetime(2017,1,4),\n",
    "         datetime(2017,1,7)]\n",
    "\n",
    "ts = pd.Series(np.random.randn(3), index=dates)\n",
    "print(ts)\n"
   ]
  },
  {
   "cell_type": "code",
   "execution_count": 11,
   "metadata": {},
   "outputs": [
    {
     "name": "stdout",
     "output_type": "stream",
     "text": "2017-01-01   -0.812132\n2017-01-04   -1.171423\n2017-01-07         NaN\ndtype: float64\n"
    }
   ],
   "source": [
    "print(ts.shift(-1))"
   ]
  }
 ]
}