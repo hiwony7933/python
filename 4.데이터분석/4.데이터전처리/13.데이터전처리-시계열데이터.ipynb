{
 "nbformat": 4,
 "nbformat_minor": 2,
 "metadata": {
  "language_info": {
   "name": "python",
   "codemirror_mode": {
    "name": "ipython",
    "version": 3
   },
   "version": "3.7.4-final"
  },
  "orig_nbformat": 2,
  "file_extension": ".py",
  "mimetype": "text/x-python",
  "name": "python",
  "npconvert_exporter": "python",
  "pygments_lexer": "ipython3",
  "version": 3,
  "kernelspec": {
   "name": "python37464bitanaconda3condae788c5fa592f4db3927eca9f2fe371f6",
   "display_name": "Python 3.7.4 64-bit ('anaconda3': conda)"
  }
 },
 "cells": [
  {
   "cell_type": "code",
   "execution_count": 1,
   "metadata": {},
   "outputs": [
    {
     "output_type": "stream",
     "name": "stdout",
     "text": "Date  Close  Start   High    Low  Volume\n0   2018-07-02  10100  10850  10900  10000  137977\n1   2018-06-29  10700  10550  10900   9990  170253\n2   2018-06-28  10400  10900  10950  10150  155769\n3   2018-06-27  10900  10800  11050  10500  133548\n4   2018-06-26  10800  10900  11000  10700   63039\n5   2018-06-25  11150  11400  11450  11000   55519\n6   2018-06-22  11300  11250  11450  10750  134805\n7   2018-06-21  11200  11350  11750  11200  133002\n8   2018-06-20  11550  11200  11600  10900  308596\n9   2018-06-19  11300  11850  11950  11300  180656\n10  2018-06-18  12000  13400  13400  12000  309787\n11  2018-06-15  13400  13600  13600  12900  201376\n12  2018-06-14  13450  13200  13700  13150  347451\n13  2018-06-12  13200  12200  13300  12050  558148\n14  2018-06-11  11950  12000  12250  11950   62293\n15  2018-06-08  11950  11950  12200  11800   59258\n16  2018-06-07  11950  12200  12300  11900   49088\n17  2018-06-05  12150  11800  12250  11800   42485\n18  2018-06-04  11900  11900  12200  11700   25171\n19  2018-06-01  11900  11800  12100  11750   32062\n"
    }
   ],
   "source": [
    "import pandas as pd\n",
    "import numpy as np \n",
    "\n",
    "df = pd.read_csv('../data/stock-data.csv')\n",
    "print(df)"
   ]
  },
  {
   "cell_type": "code",
   "execution_count": 2,
   "metadata": {},
   "outputs": [
    {
     "output_type": "stream",
     "name": "stdout",
     "text": "<class 'pandas.core.frame.DataFrame'>\nRangeIndex: 20 entries, 0 to 19\nData columns (total 6 columns):\nDate      20 non-null object\nClose     20 non-null int64\nStart     20 non-null int64\nHigh      20 non-null int64\nLow       20 non-null int64\nVolume    20 non-null int64\ndtypes: int64(5), object(1)\nmemory usage: 1.1+ KB\nNone\n"
    }
   ],
   "source": [
    "# 자료형 확인\n",
    "print(df.info())"
   ]
  },
  {
   "cell_type": "code",
   "execution_count": 3,
   "metadata": {},
   "outputs": [
    {
     "output_type": "stream",
     "name": "stdout",
     "text": "<class 'pandas.core.frame.DataFrame'>\nRangeIndex: 20 entries, 0 to 19\nData columns (total 7 columns):\nDate       20 non-null object\nClose      20 non-null int64\nStart      20 non-null int64\nHigh       20 non-null int64\nLow        20 non-null int64\nVolume     20 non-null int64\nnewDate    20 non-null datetime64[ns]\ndtypes: datetime64[ns](1), int64(5), object(1)\nmemory usage: 1.2+ KB\nNone\n"
    }
   ],
   "source": [
    "# Date 컬럼의 값을 시계열로 변경해서 추가 \n",
    "df['newDate'] = pd.to_datetime(df['Date'])\n",
    "print(df.info())"
   ]
  },
  {
   "cell_type": "code",
   "execution_count": 4,
   "metadata": {},
   "outputs": [
    {
     "output_type": "stream",
     "name": "stdout",
     "text": "Date  Close  Start   High    Low  Volume\nnewDate                                                   \n2018-07-02  2018-07-02  10100  10850  10900  10000  137977\n2018-06-29  2018-06-29  10700  10550  10900   9990  170253\n2018-06-28  2018-06-28  10400  10900  10950  10150  155769\n2018-06-27  2018-06-27  10900  10800  11050  10500  133548\n2018-06-26  2018-06-26  10800  10900  11000  10700   63039\n            Close  Start   High    Low  Volume\nnewDate                                       \n2018-07-02  10100  10850  10900  10000  137977\n2018-06-29  10700  10550  10900   9990  170253\n2018-06-28  10400  10900  10950  10150  155769\n2018-06-27  10900  10800  11050  10500  133548\n2018-06-26  10800  10900  11000  10700   63039\n"
    }
   ],
   "source": [
    "# 위와 같은 데이터프레임에서는\n",
    "# 날짜를 index로 설정하는 경우가 많다\n",
    "df.set_index('newDate', inplace=True)\n",
    "print(df.head())\n",
    "df.drop('Date', axis=1, inplace=True)\n",
    "print(df.head())"
   ]
  }
 ]
}