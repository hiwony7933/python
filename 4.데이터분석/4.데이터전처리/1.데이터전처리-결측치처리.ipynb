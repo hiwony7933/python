{
 "nbformat": 4,
 "nbformat_minor": 2,
 "metadata": {
  "language_info": {
   "name": "python",
   "codemirror_mode": {
    "name": "ipython",
    "version": 3
   },
   "version": "3.7.4-final"
  },
  "orig_nbformat": 2,
  "file_extension": ".py",
  "mimetype": "text/x-python",
  "name": "python",
  "npconvert_exporter": "python",
  "pygments_lexer": "ipython3",
  "version": 3,
  "kernelspec": {
   "name": "python37464bitanaconda3condae788c5fa592f4db3927eca9f2fe371f6",
   "display_name": "Python 3.7.4 64-bit ('anaconda3': conda)"
  }
 },
 "cells": [
  {
   "cell_type": "code",
   "execution_count": 1,
   "metadata": {},
   "outputs": [],
   "source": [
    "# 수치연산과 선형대수 , ndarray 자료구조를 가진 패키지\n",
    "import numpy as np \n",
    "# Series와 Dataframe 자료구조를 가진 패키지\n",
    "import pandas as pd \n",
    "# 샘플 데이터와 시각화를 위한 패키지 \n",
    "import seaborn as sns "
   ]
  },
  {
   "cell_type": "code",
   "execution_count": 2,
   "metadata": {},
   "outputs": [
    {
     "name": "stdout",
     "output_type": "stream",
     "text": "survived  pclass     sex   age  sibsp  parch     fare embarked  class  \\\n0         0       3    male  22.0      1      0   7.2500        S  Third   \n1         1       1  female  38.0      1      0  71.2833        C  First   \n2         1       3  female  26.0      0      0   7.9250        S  Third   \n3         1       1  female  35.0      1      0  53.1000        S  First   \n4         0       3    male  35.0      0      0   8.0500        S  Third   \n\n     who  adult_male deck  embark_town alive  alone  \n0    man        True  NaN  Southampton    no  False  \n1  woman       False    C    Cherbourg   yes  False  \n2  woman       False  NaN  Southampton   yes   True  \n3  woman       False    C  Southampton   yes  False  \n4    man        True  NaN  Southampton    no   True  \n\n<class 'pandas.core.frame.DataFrame'>\nRangeIndex: 891 entries, 0 to 890\nData columns (total 15 columns):\nsurvived       891 non-null int64\npclass         891 non-null int64\nsex            891 non-null object\nage            714 non-null float64\nsibsp          891 non-null int64\nparch          891 non-null int64\nfare           891 non-null float64\nembarked       889 non-null object\nclass          891 non-null category\nwho            891 non-null object\nadult_male     891 non-null bool\ndeck           203 non-null category\nembark_town    889 non-null object\nalive          891 non-null object\nalone          891 non-null bool\ndtypes: bool(2), category(2), float64(2), int64(4), object(5)\nmemory usage: 80.6+ KB\nNone\n"
    }
   ],
   "source": [
    "#titanic 데이터 가져오고 데이터형태 보기 \n",
    "titanic = sns.load_dataset('titanic')\n",
    "print(titanic.head())\n",
    "print()\n",
    "print(titanic.info())\n",
    "# object = string 문자열\n",
    "# int64 = 정수\n",
    "# category = 범주형(라디오버튼, 남여 등)\n",
    "# info() 는 print 빼고 해도됨. None <- 나오는 이유 "
   ]
  },
  {
   "cell_type": "code",
   "execution_count": 4,
   "metadata": {},
   "outputs": [
    {
     "name": "stdout",
     "output_type": "stream",
     "text": "survived  pclass    sex    age  sibsp  parch   fare  embarked  class  \\\n0     False   False  False  False  False  False  False     False  False   \n1     False   False  False  False  False  False  False     False  False   \n2     False   False  False  False  False  False  False     False  False   \n3     False   False  False  False  False  False  False     False  False   \n4     False   False  False  False  False  False  False     False  False   \n5     False   False  False   True  False  False  False     False  False   \n6     False   False  False  False  False  False  False     False  False   \n7     False   False  False  False  False  False  False     False  False   \n8     False   False  False  False  False  False  False     False  False   \n9     False   False  False  False  False  False  False     False  False   \n\n     who  adult_male   deck  embark_town  alive  alone  \n0  False       False   True        False  False  False  \n1  False       False  False        False  False  False  \n2  False       False   True        False  False  False  \n3  False       False  False        False  False  False  \n4  False       False   True        False  False  False  \n5  False       False   True        False  False  False  \n6  False       False  False        False  False  False  \n7  False       False   True        False  False  False  \n8  False       False   True        False  False  False  \n9  False       False   True        False  False  False  \n"
    }
   ],
   "source": [
    "# NaN이 존재하는 지 확인\n",
    "# titanic에서 앞 쪽 10개의 데이터가 NaN을 포함하는지 확인 \n",
    "print(titanic.head(10).isnull())"
   ]
  },
  {
   "cell_type": "code",
   "execution_count": 3,
   "metadata": {},
   "outputs": [
    {
     "name": "stdout",
     "output_type": "stream",
     "text": "survived         0\npclass           0\nsex              0\nage            177\nsibsp            0\nparch            0\nfare             0\nembarked         2\nclass            0\nwho              0\nadult_male       0\ndeck           688\nembark_town      2\nalive            0\nalone            0\ndtype: int64\n"
    }
   ],
   "source": [
    "#titanic에서 NaN을 포함한 행의 개수를 파악 \n",
    "# Ture 는 1, False 는 0 \n",
    "print(titanic.isnull().sum(axis=0))"
   ]
  },
  {
   "cell_type": "code",
   "execution_count": 5,
   "metadata": {},
   "outputs": [
    {
     "name": "stdout",
     "output_type": "stream",
     "text": "<class 'pandas.core.frame.DataFrame'>\nRangeIndex: 891 entries, 0 to 890\nData columns (total 14 columns):\nsurvived       891 non-null int64\npclass         891 non-null int64\nsex            891 non-null object\nage            714 non-null float64\nsibsp          891 non-null int64\nparch          891 non-null int64\nfare           891 non-null float64\nembarked       889 non-null object\nclass          891 non-null category\nwho            891 non-null object\nadult_male     891 non-null bool\nembark_town    889 non-null object\nalive          891 non-null object\nalone          891 non-null bool\ndtypes: bool(2), category(1), float64(2), int64(4), object(5)\nmemory usage: 79.4+ KB\nNone\n"
    }
   ],
   "source": [
    "# NaN이 300개 이상인 열을 제거 \n",
    "# NaN이 너무 많아서 제거 ( columns 수가 14개로 1개 줄어들었음, deck )\n",
    "titanic.dropna(thresh=300, axis=1, inplace=True)\n",
    "print(titanic.info())"
   ]
  },
  {
   "cell_type": "code",
   "execution_count": 6,
   "metadata": {},
   "outputs": [
    {
     "name": "stdout",
     "output_type": "stream",
     "text": "<class 'pandas.core.frame.DataFrame'>\nInt64Index: 714 entries, 0 to 890\nData columns (total 14 columns):\nsurvived       714 non-null int64\npclass         714 non-null int64\nsex            714 non-null object\nage            714 non-null float64\nsibsp          714 non-null int64\nparch          714 non-null int64\nfare           714 non-null float64\nembarked       712 non-null object\nclass          714 non-null category\nwho            714 non-null object\nadult_male     714 non-null bool\nembark_town    712 non-null object\nalive          714 non-null object\nalone          714 non-null bool\ndtypes: bool(2), category(1), float64(2), int64(4), object(5)\nmemory usage: 69.1+ KB\nNone\n"
    }
   ],
   "source": [
    "# age 열의 값이 NaN 인 행을 제거 - 아주 많지 않으면 행을 제거 \n",
    "titanic.dropna(subset=['age'], how='any', axis=0, inplace=True)\n",
    "print(titanic.info())"
   ]
  }
 ]
}