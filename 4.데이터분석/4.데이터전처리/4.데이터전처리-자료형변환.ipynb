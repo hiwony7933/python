{
 "nbformat": 4,
 "nbformat_minor": 2,
 "metadata": {
  "language_info": {
   "name": "python",
   "codemirror_mode": {
    "name": "ipython",
    "version": 3
   },
   "version": "3.7.4-final"
  },
  "orig_nbformat": 2,
  "file_extension": ".py",
  "mimetype": "text/x-python",
  "name": "python",
  "npconvert_exporter": "python",
  "pygments_lexer": "ipython3",
  "version": 3,
  "kernelspec": {
   "name": "python37464bitanaconda3condae788c5fa592f4db3927eca9f2fe371f6",
   "display_name": "Python 3.7.4 64-bit ('anaconda3': conda)"
  }
 },
 "cells": [
  {
   "cell_type": "code",
   "execution_count": 1,
   "metadata": {},
   "outputs": [
    {
     "name": "stdout",
     "output_type": "stream",
     "text": "mpg cylinders displacement horsepower  weight acceleration model year  \\\n0  mpg       cyl        displ         hp  weight        accel         yr   \n1   18         8          307        130    3504           12         70   \n2   15         8          350        165    3693         11.5         70   \n3   18         8          318        150    3436           11         70   \n4   16         8          304        150    3433           12         70   \n\n   origin                       name  \n0  origin                       name  \n1       1  chevrolet chevelle malibu  \n2       1          buick skylark 320  \n3       1         plymouth satellite  \n4       1              amc rebel sst  \n<class 'pandas.core.frame.DataFrame'>\nRangeIndex: 393 entries, 0 to 392\nData columns (total 9 columns):\nmpg             393 non-null object\ncylinders       393 non-null object\ndisplacement    393 non-null object\nhorsepower      393 non-null object\nweight          393 non-null object\nacceleration    393 non-null object\nmodel year      393 non-null object\norigin          393 non-null object\nname            393 non-null object\ndtypes: object(9)\nmemory usage: 27.8+ KB\nNone\n"
    }
   ],
   "source": [
    "import pandas as pd \n",
    "df = pd.read_csv('../data/auto-mpg.csv', header=None)\n",
    "df.columns = ['mpg', 'cylinders', 'displacement', 'horsepower', 'weight', 'acceleration', 'model year', 'origin', 'name']\n",
    "print(df.head())\n",
    "print(df.info())"
   ]
  },
  {
   "cell_type": "code",
   "execution_count": 4,
   "metadata": {},
   "outputs": [
    {
     "name": "stdout",
     "output_type": "stream",
     "text": "mpg cylinders displacement horsepower  weight acceleration model year  \\\n0  mpg       cyl        displ         hp  weight        accel         yr   \n1   18         8          307        130    3504           12         70   \n2   15         8          350        165    3693         11.5         70   \n3   18         8          318        150    3436           11         70   \n4   16         8          304        150    3433           12         70   \n\n   origin                       name  \n0  origin                       name  \n1       1  chevrolet chevelle malibu  \n2       1          buick skylark 320  \n3       1         plymouth satellite  \n4       1              amc rebel sst  \ncategory\n"
    }
   ],
   "source": [
    "# origin의 경우는 생산국가\n",
    "# 1이면 미국, 2이면 유렵, 3이면 일본 \n",
    "# 현재 데이터는 1, 2, 3 숫자형태로 존재\n",
    "# origin 데이터를 문자열로 치환하고 자료형을 category로 변환\n",
    "# 자료형 변환은 astype('자료형')으로 가능 \n",
    "\n",
    "# origin이 값들을 문자열로 치환 \n",
    "df['origin'].replace({1:'미국', 2:'유럽', 3:'일본'}, inplace=True)\n",
    "print(df.head())\n",
    "print(df['origin'].dtype)"
   ]
  },
  {
   "cell_type": "code",
   "execution_count": 3,
   "metadata": {},
   "outputs": [
    {
     "name": "stdout",
     "output_type": "stream",
     "text": "category\n"
    }
   ],
   "source": [
    "# 데이터를 범주형으로 변환 \n",
    "df['origin'] = df['origin'].astype('category')\n",
    "print(df['origin'].dtypes)"
   ]
  },
  {
   "cell_type": "code",
   "execution_count": 2,
   "metadata": {},
   "outputs": [
    {
     "name": "stdout",
     "output_type": "stream",
     "text": "object\n"
    }
   ],
   "source": [
    "# 문자열로 변환  \n",
    "df['origin'] = df['origin'].astype('str')   # int, float 대입 가능함.\n",
    "print(df['origin'].dtypes)"
   ]
  }
 ]
}