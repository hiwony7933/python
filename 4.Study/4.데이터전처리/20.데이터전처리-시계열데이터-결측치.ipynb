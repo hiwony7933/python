{
 "nbformat": 4,
 "nbformat_minor": 2,
 "metadata": {
  "language_info": {
   "name": "python",
   "codemirror_mode": {
    "name": "ipython",
    "version": 3
   },
   "version": "3.7.4-final"
  },
  "orig_nbformat": 2,
  "file_extension": ".py",
  "mimetype": "text/x-python",
  "name": "python",
  "npconvert_exporter": "python",
  "pygments_lexer": "ipython3",
  "version": 3,
  "kernelspec": {
   "name": "python37464bitanaconda3condae788c5fa592f4db3927eca9f2fe371f6",
   "display_name": "Python 3.7.4 64-bit ('anaconda3': conda)"
  }
 },
 "cells": [
  {
   "cell_type": "code",
   "execution_count": null,
   "metadata": {},
   "outputs": [],
   "source": [
    "import numpy as np \n",
    "import pandas as pd \n",
    "\n",
    "#2020년 1월 1일 부터 월 단위로 12개의 데이터를 생성\n",
    "timeindex = pd.date_range('01/01/2020', periods=12, freq=\"M\")\n",
    "df=pd.DataFrame(index=timeindex)\n",
    "\n",
    "# 누락된 데이터( 결측치 - None, null, np.nan) 만들기\n",
    "df['price'] = [10, 20, np.NaN,30, 40, 50,np.NaN, 60, 70, 90, np.NaN, 110 ]\n",
    "\n",
    "# 선형으로 누락된 값 채우기\n",
    "print(df.interpolate())"
   ]
  },
  {
   "cell_type": "code",
   "execution_count": null,
   "metadata": {},
   "outputs": [],
   "source": [
    "df['price'] = [10, 20, np.NaN,303, 404, 506,np.NaN, 3033, 705, 2000, np.NaN, 1310 ]\n",
    "\n",
    "# 비선형으로 누락된 값 채우기\n",
    "# method 를 주지 않았을 때는 부자연스러운 값들이 생성됨\n",
    "print(df.interpolate())"
   ]
  },
  {
   "cell_type": "code",
   "execution_count": null,
   "metadata": {},
   "outputs": [],
   "source": [
    "# 비선형으로 누락된 값 채우기\n",
    "# method='quadratic' 를 입력하니 그렇지 않을때보다 조금은 자연스러워졌다.\n",
    "print(df.interpolate(method='quadratic'))\n"
   ]
  },
  {
   "cell_type": "code",
   "execution_count": null,
   "metadata": {},
   "outputs": [],
   "source": []
  }
 ]
}