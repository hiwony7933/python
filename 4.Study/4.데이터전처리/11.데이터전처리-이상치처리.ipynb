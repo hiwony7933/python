{
 "nbformat": 4,
 "nbformat_minor": 2,
 "metadata": {
  "language_info": {
   "name": "python",
   "codemirror_mode": {
    "name": "ipython",
    "version": 3
   },
   "version": "3.7.4-final"
  },
  "orig_nbformat": 2,
  "file_extension": ".py",
  "mimetype": "text/x-python",
  "name": "python",
  "npconvert_exporter": "python",
  "pygments_lexer": "ipython3",
  "version": 3,
  "kernelspec": {
   "name": "python37464bitanaconda3condae788c5fa592f4db3927eca9f2fe371f6",
   "display_name": "Python 3.7.4 64-bit ('anaconda3': conda)"
  }
 },
 "cells": [
  {
   "cell_type": "code",
   "execution_count": null,
   "metadata": {},
   "outputs": [],
   "source": [
    "import numpy as np \n",
    "import pandas as pd\n",
    "\n",
    "house = pd.DataFrame()\n",
    "house['price'] = [100000, 200000, 150000, 100000000]\n",
    "house['rooms'] = [1,2,3,100]\n",
    "house['square'] = [11,23,16,3000]\n",
    "print(house)"
   ]
  },
  {
   "cell_type": "code",
   "execution_count": null,
   "metadata": {},
   "outputs": [],
   "source": [
    "# 이상한 데이터 제거 : 방이 5개 이상 제거 \n",
    "print(house[house['rooms']<6])"
   ]
  },
  {
   "cell_type": "code",
   "execution_count": null,
   "metadata": {},
   "outputs": [],
   "source": [
    "# 이상한 데이터를 별도로 표시\n",
    "# 6보다 작으면 0 아니면 1을 대입 \n",
    "house['outlier'] = np.where(house['rooms']<6, 0, 1)\n",
    "print(house)"
   ]
  },
  {
   "cell_type": "code",
   "execution_count": null,
   "metadata": {},
   "outputs": [],
   "source": [
    "# 값의 범위 줄이기 - np.log는 자연로그를 계산 \n",
    "house['log'] = [np.log(x) for x in house['rooms']]\n",
    "print(house)"
   ]
  }
 ]
}