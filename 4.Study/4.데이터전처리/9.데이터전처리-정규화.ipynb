{
 "nbformat": 4,
 "nbformat_minor": 2,
 "metadata": {
  "language_info": {
   "name": "python",
   "codemirror_mode": {
    "name": "ipython",
    "version": 3
   },
   "version": "3.7.4-final"
  },
  "orig_nbformat": 2,
  "file_extension": ".py",
  "mimetype": "text/x-python",
  "name": "python",
  "npconvert_exporter": "python",
  "pygments_lexer": "ipython3",
  "version": 3,
  "kernelspec": {
   "name": "python37464bitanaconda3condae788c5fa592f4db3927eca9f2fe371f6",
   "display_name": "Python 3.7.4 64-bit ('anaconda3': conda)"
  }
 },
 "cells": [
  {
   "cell_type": "code",
   "execution_count": 10,
   "metadata": {},
   "outputs": [],
   "source": [
    "import platform\n",
    "from matplotlib import font_manager, rc\n",
    "import numpy as np \n",
    "import pandas as pd\n",
    "\n",
    "df = pd.read_csv('/Users/jw/python/4.Study/data/student.csv', encoding='cp949', index_col='이름')\n",
    "\n",
    "# 그래프의 한글 깨짐\n",
    "if platform.system() == 'Darwin':\n",
    "    rc('font', family='AppleGothic')\n",
    "elif platform.system() == 'Windows':\n",
    "    font_name = font_manager.FontProperties(\n",
    "        fname=\"c:/Windows/Fonts/malgun.ttf\").get_name()\n",
    "    rc('font', family=font_name)"
   ]
  },
  {
   "cell_type": "code",
   "execution_count": 11,
   "metadata": {},
   "outputs": [
    {
     "name": "stdout",
     "output_type": "stream",
     "text": "[[90 85]\n [70 65]\n [92 95]\n [76 89]\n [97 87]\n [80 86]\n [20 30]\n [50 52]\n [95 70]]\n\n[[30 20]\n [10 30]\n [30 40]]\n"
    }
   ],
   "source": [
    "# 2차원 행렬을 생성\n",
    "matrix = df[['국어', '영어']].values\n",
    "print(matrix)\n",
    "print()\n",
    "matrix = np.array([[30,20], [10, 30], [30,40]])\n",
    "print(matrix)"
   ]
  },
  {
   "cell_type": "code",
   "execution_count": 12,
   "metadata": {},
   "outputs": [
    {
     "name": "stdout",
     "output_type": "stream",
     "text": "[[0.83205029 0.5547002 ]\n [0.31622777 0.9486833 ]\n [0.6        0.8       ]]\n"
    }
   ],
   "source": [
    "from sklearn import preprocessing\n",
    "\n",
    "# 정규화 객체 생성 - 유클리디안 거리를 사용\n",
    "norm = preprocessing.Normalizer(norm='l2')\n",
    "print(norm.transform(matrix))"
   ]
  },
  {
   "cell_type": "code",
   "execution_count": 13,
   "metadata": {},
   "outputs": [
    {
     "name": "stdout",
     "output_type": "stream",
     "text": "[[0.6        0.4       ]\n [0.25       0.75      ]\n [0.42857143 0.57142857]]\n"
    }
   ],
   "source": [
    "# 맨하턴 거리 (결과는 합치면 1)\n",
    "norm = preprocessing.Normalizer(norm='l1')\n",
    "print(norm.transform(matrix))"
   ]
  },
  {
   "cell_type": "code",
   "execution_count": 14,
   "metadata": {},
   "outputs": [
    {
     "name": "stdout",
     "output_type": "stream",
     "text": "[[1.         0.66666667]\n [0.33333333 1.        ]\n [0.75       1.        ]]\n"
    }
   ],
   "source": [
    "# max\n",
    "norm = preprocessing.Normalizer(norm='max')\n",
    "print(norm.transform(matrix))"
   ]
  },
  {
   "cell_type": "code",
   "execution_count": 15,
   "metadata": {},
   "outputs": [
    {
     "name": "stdout",
     "output_type": "stream",
     "text": "[[  30.   20.  900.  600.  400.]\n [  10.   30.  100.  300.  900.]\n [  30.   40.  900. 1200. 1600.]]\n"
    }
   ],
   "source": [
    "# 다항과 교차항을 만들어주는 객체를 생성\n",
    "# degree=2 : 제곱한 것 까지 생성 \n",
    "ploynomial = preprocessing.PolynomialFeatures(degree=2, include_bias=False)\n",
    "result = ploynomial.fit_transform(matrix)\n",
    "print(result)"
   ]
  },
  {
   "cell_type": "code",
   "execution_count": 16,
   "metadata": {},
   "outputs": [
    {
     "name": "stdout",
     "output_type": "stream",
     "text": "[[3.0e+01 2.0e+01 9.0e+02 6.0e+02 4.0e+02 2.7e+04 1.8e+04 1.2e+04 8.0e+03]\n [1.0e+01 3.0e+01 1.0e+02 3.0e+02 9.0e+02 1.0e+03 3.0e+03 9.0e+03 2.7e+04]\n [3.0e+01 4.0e+01 9.0e+02 1.2e+03 1.6e+03 2.7e+04 3.6e+04 4.8e+04 6.4e+04]]\n"
    }
   ],
   "source": [
    "# degree=3 : 세제곱\n",
    "ploynomial = preprocessing.PolynomialFeatures(degree=3, include_bias=False)\n",
    "result = ploynomial.fit_transform(matrix)\n",
    "print(result)"
   ]
  },
  {
   "cell_type": "code",
   "execution_count": 17,
   "metadata": {},
   "outputs": [
    {
     "name": "stdout",
     "output_type": "stream",
     "text": "[[100 200]\n [300 150]]\n"
    }
   ],
   "source": [
    "# 함수 적용하기 \n",
    "matrix = np.array([[100, 200],[300, 150]])\n",
    "print(matrix)"
   ]
  },
  {
   "cell_type": "code",
   "execution_count": 18,
   "metadata": {},
   "outputs": [
    {
     "name": "stdout",
     "output_type": "stream",
     "text": "[[200 300]\n [400 250]]\n"
    }
   ],
   "source": [
    "# 100을 결합하기  \n",
    "def intconvert(x) : \n",
    "    return x +100\n",
    "\n",
    "transformer = preprocessing.FunctionTransformer(intconvert)\n",
    "result = transformer.transform(matrix)\n",
    "print(result)"
   ]
  },
  {
   "cell_type": "code",
   "execution_count": 19,
   "metadata": {},
   "outputs": [
    {
     "name": "stdout",
     "output_type": "stream",
     "text": "이름\n박지영    90\n김태함    70\n김효섭    92\n임경희    76\n권혁진    97\n하혜진    80\n이준원    20\n윤정웅    50\n주시현    95\nName: 국어, dtype: int64\n이름\n박지영    190\n김태함    170\n김효섭    192\n임경희    176\n권혁진    197\n하혜진    180\n이준원    120\n윤정웅    150\n주시현    195\nName: 국어, dtype: int64\n"
    }
   ],
   "source": [
    "print(df['국어'])\n",
    "print(df['국어'].apply(intconvert))"
   ]
  }
 ]
}