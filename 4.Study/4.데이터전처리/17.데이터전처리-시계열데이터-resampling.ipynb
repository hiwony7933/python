{
 "nbformat": 4,
 "nbformat_minor": 2,
 "metadata": {
  "language_info": {
   "name": "python",
   "codemirror_mode": {
    "name": "ipython",
    "version": 3
   },
   "version": "3.7.4-final"
  },
  "orig_nbformat": 2,
  "file_extension": ".py",
  "mimetype": "text/x-python",
  "name": "python",
  "npconvert_exporter": "python",
  "pygments_lexer": "ipython3",
  "version": 3,
  "kernelspec": {
   "name": "python37464bitanaconda3condae788c5fa592f4db3927eca9f2fe371f6",
   "display_name": "Python 3.7.4 64-bit ('anaconda3': conda)"
  }
 },
 "cells": [
  {
   "cell_type": "code",
   "execution_count": 4,
   "metadata": {},
   "outputs": [
    {
     "name": "stdout",
     "output_type": "stream",
     "text": "DatetimeIndex(['2020-11-03 00:00:00', '2020-11-03 00:01:00',\n               '2020-11-03 00:02:00', '2020-11-03 00:03:00',\n               '2020-11-03 00:04:00', '2020-11-03 00:05:00',\n               '2020-11-03 00:06:00', '2020-11-03 00:07:00',\n               '2020-11-03 00:08:00', '2020-11-03 00:09:00',\n               '2020-11-03 00:10:00', '2020-11-03 00:11:00',\n               '2020-11-03 00:12:00', '2020-11-03 00:13:00',\n               '2020-11-03 00:14:00', '2020-11-03 00:15:00',\n               '2020-11-03 00:16:00', '2020-11-03 00:17:00',\n               '2020-11-03 00:18:00', '2020-11-03 00:19:00'],\n              dtype='datetime64[ns]', freq='T')\n"
    }
   ],
   "source": [
    "import pandas as pd \n",
    "import numpy as np \n",
    "\n",
    "# 일정한 간격ㅇ로 집계\n",
    "ran = pd.date_range('11/3/2020', periods=20, freq='T')\n",
    "print(ran)"
   ]
  },
  {
   "cell_type": "code",
   "execution_count": 5,
   "metadata": {},
   "outputs": [
    {
     "name": "stdout",
     "output_type": "stream",
     "text": "2020-11-03 00:00:00     0\n2020-11-03 00:01:00     1\n2020-11-03 00:02:00     2\n2020-11-03 00:03:00     3\n2020-11-03 00:04:00     4\n2020-11-03 00:05:00     5\n2020-11-03 00:06:00     6\n2020-11-03 00:07:00     7\n2020-11-03 00:08:00     8\n2020-11-03 00:09:00     9\n2020-11-03 00:10:00    10\n2020-11-03 00:11:00    11\n2020-11-03 00:12:00    12\n2020-11-03 00:13:00    13\n2020-11-03 00:14:00    14\n2020-11-03 00:15:00    15\n2020-11-03 00:16:00    16\n2020-11-03 00:17:00    17\n2020-11-03 00:18:00    18\n2020-11-03 00:19:00    19\nFreq: T, dtype: int64\n"
    }
   ],
   "source": [
    "ts = pd.Series(np.arange(20), index=ran)\n",
    "print(ts)"
   ]
  },
  {
   "cell_type": "code",
   "execution_count": 6,
   "metadata": {},
   "outputs": [
    {
     "name": "stdout",
     "output_type": "stream",
     "text": "2020-11-03 00:00:00    10\n2020-11-03 00:05:00    35\n2020-11-03 00:10:00    60\n2020-11-03 00:15:00    85\nFreq: 5T, dtype: int64\n"
    }
   ],
   "source": [
    "# 5분 단위로 합계\n",
    "print(ts.resample('5T').sum())"
   ]
  }
 ]
}