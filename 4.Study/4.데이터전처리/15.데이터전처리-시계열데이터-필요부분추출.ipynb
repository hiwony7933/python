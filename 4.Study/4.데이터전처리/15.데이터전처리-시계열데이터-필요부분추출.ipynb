{
 "nbformat": 4,
 "nbformat_minor": 2,
 "metadata": {
  "language_info": {
   "name": "python",
   "codemirror_mode": {
    "name": "ipython",
    "version": 3
   }
  },
  "orig_nbformat": 2,
  "file_extension": ".py",
  "mimetype": "text/x-python",
  "name": "python",
  "npconvert_exporter": "python",
  "pygments_lexer": "ipython3",
  "version": 3
 },
 "cells": [
  {
   "cell_type": "code",
   "execution_count": 2,
   "metadata": {},
   "outputs": [
    {
     "name": "stdout",
     "output_type": "stream",
     "text": "0     2018\n1     2018\n2     2018\n3     2018\n4     2018\n5     2018\n6     2018\n7     2018\n8     2018\n9     2018\n10    2018\n11    2018\n12    2018\n13    2018\n14    2018\n15    2018\n16    2018\n17    2018\n18    2018\n19    2018\nName: year, dtype: int64\n"
    }
   ],
   "source": [
    "\n",
    "import pandas as pd\n",
    "import numpy as np \n",
    "\n",
    "df = pd.read_csv('/Users/jw/python/4.Study/data/stock-data.csv')\n",
    "\n",
    "# Date 컬럼의 값을 시계열로 변경해서 추가 \n",
    "df['newDate'] = pd.to_datetime(df['Date'])\n",
    "\n",
    "df['year'] = df['newDate'].dt.year\n",
    "print(df['year'])"
   ]
  },
  {
   "cell_type": "code",
   "execution_count": null,
   "metadata": {},
   "outputs": [],
   "source": []
  }
 ]
}