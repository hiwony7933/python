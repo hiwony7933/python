{
 "nbformat": 4,
 "nbformat_minor": 2,
 "metadata": {
  "language_info": {
   "name": "python",
   "codemirror_mode": {
    "name": "ipython",
    "version": 3
   },
   "version": "3.7.4-final"
  },
  "orig_nbformat": 2,
  "file_extension": ".py",
  "mimetype": "text/x-python",
  "name": "python",
  "npconvert_exporter": "python",
  "pygments_lexer": "ipython3",
  "version": 3,
  "kernelspec": {
   "name": "python37464bitanaconda3condae788c5fa592f4db3927eca9f2fe371f6",
   "display_name": "Python 3.7.4 64-bit ('anaconda3': conda)"
  }
 },
 "cells": [
  {
   "cell_type": "code",
   "execution_count": 1,
   "metadata": {},
   "outputs": [],
   "source": [
    "import platform\n",
    "from matplotlib import font_manager, rc\n",
    "import numpy as np \n",
    "import pandas as pd\n",
    "\n",
    "df = pd.read_csv('../data/student.csv', encoding='cp949', index_col='이름')\n",
    "\n",
    "# 그래프의 한글 깨짐\n",
    "if platform.system() == 'Darwin':\n",
    "    rc('font', family='AppleGothic')\n",
    "elif platform.system() == 'Windows':\n",
    "    font_name = font_manager.FontProperties(\n",
    "        fname=\"c:/Windows/Fonts/malgun.ttf\").get_name()\n",
    "    rc('font', family=font_name)"
   ]
  },
  {
   "cell_type": "code",
   "execution_count": 2,
   "metadata": {},
   "outputs": [
    {
     "output_type": "stream",
     "name": "stdout",
     "text": "[[ 0.6537062 ]\n [-0.1867732 ]\n [ 0.73775414]\n [ 0.06537062]\n [ 0.94787399]\n [ 0.2334665 ]\n [-2.28797169]\n [-1.0272526 ]\n [ 0.86382605]]\n1.2335811384723961e-17\n1.0\n"
    }
   ],
   "source": [
    "# sklearn 을 이용한 scailing\n",
    "from sklearn import preprocessing\n",
    "\n",
    "# StandardScaler - 평균은 0 표준편차는 1이 되도록 scailing\n",
    "scaler = preprocessing.StandardScaler()\n",
    "# 국어 점수만 이용하는 경우 df['국어'] 가 아니고 df[['국어']]\n",
    "# 머신러닝의 데이터들은 행렬을 이용하는데 data['국어'] 로 하게 되면\n",
    "# 컬럼이름이 1개라서 하나의 열로 리턴되서 1차원 데이터가 된다. \n",
    "# df[['국어']] 하게되면 list를 대입했기 때문에 DataFrame 으로 리턴 \n",
    "result = scaler.fit_transform(df[['국어']].values)\n",
    "print(result) # 표준값\n",
    "print(np.mean(result)) # 평균은 0에 가까워짐 \n",
    "print(np.std(result)) # 표준편차는 1.0에 가까워짐"
   ]
  },
  {
   "cell_type": "code",
   "execution_count": 3,
   "metadata": {},
   "outputs": [
    {
     "output_type": "stream",
     "name": "stdout",
     "text": "[[0.90909091]\n [0.64935065]\n [0.93506494]\n [0.72727273]\n [1.        ]\n [0.77922078]\n [0.        ]\n [0.38961039]\n [0.97402597]]\n0.7070707070707071\n0.30903822359564487\n"
    }
   ],
   "source": [
    "scaler = preprocessing.MinMaxScaler()\n",
    "result = scaler.fit_transform(df[['국어']].values)\n",
    "print(result) # 표준값\n",
    "print(np.mean(result)) \n",
    "print(np.std(result)) "
   ]
  },
  {
   "cell_type": "code",
   "execution_count": 4,
   "metadata": {},
   "outputs": [
    {
     "output_type": "stream",
     "name": "stdout",
     "text": "[[ 0.45454545]\n [-0.45454545]\n [ 0.54545455]\n [-0.18181818]\n [ 0.77272727]\n [ 0.        ]\n [-2.72727273]\n [-1.36363636]\n [ 0.68181818]]\n-0.25252525252525254\n1.0816337825847568\n"
    }
   ],
   "source": [
    "scaler = preprocessing.RobustScaler()\n",
    "result = scaler.fit_transform(df[['국어']].values)\n",
    "print(result) # 표준값\n",
    "print(np.mean(result))\n",
    "print(np.std(result)) "
   ]
  },
  {
   "cell_type": "code",
   "execution_count": 5,
   "metadata": {},
   "outputs": [
    {
     "output_type": "stream",
     "name": "stdout",
     "text": "[[0.625]\n [0.25 ]\n [0.75 ]\n [0.375]\n [1.   ]\n [0.5  ]\n [0.   ]\n [0.125]\n [0.875]]\n0.5\n0.3227486121839514\n"
    }
   ],
   "source": [
    "scaler = preprocessing.QuantileTransformer()\n",
    "result = scaler.fit_transform(df[['국어']].values)\n",
    "print(result) # 표준값\n",
    "print(np.mean(result)) \n",
    "print(np.std(result)) "
   ]
  }
 ]
}