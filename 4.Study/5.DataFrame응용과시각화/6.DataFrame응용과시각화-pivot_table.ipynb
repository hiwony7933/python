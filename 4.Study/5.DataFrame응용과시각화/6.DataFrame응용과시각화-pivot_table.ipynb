{
 "nbformat": 4,
 "nbformat_minor": 2,
 "metadata": {
  "language_info": {
   "name": "python",
   "codemirror_mode": {
    "name": "ipython",
    "version": 3
   },
   "version": "3.7.4-final"
  },
  "orig_nbformat": 2,
  "file_extension": ".py",
  "mimetype": "text/x-python",
  "name": "python",
  "npconvert_exporter": "python",
  "pygments_lexer": "ipython3",
  "version": 3,
  "kernelspec": {
   "name": "python37464bitanaconda3condae788c5fa592f4db3927eca9f2fe371f6",
   "display_name": "Python 3.7.4 64-bit ('anaconda3': conda)"
  }
 },
 "cells": [
  {
   "cell_type": "code",
   "execution_count": 14,
   "metadata": {},
   "outputs": [
    {
     "name": "stdout",
     "output_type": "stream",
     "text": "survived  pclass     sex   age  sibsp  parch     fare embarked   class  \\\n0           0       3    male  22.0      1      0   7.2500        S   Third   \n1           1       1  female  38.0      1      0  71.2833        C   First   \n2           1       3  female  26.0      0      0   7.9250        S   Third   \n3           1       1  female  35.0      1      0  53.1000        S   First   \n4           0       3    male  35.0      0      0   8.0500        S   Third   \n..        ...     ...     ...   ...    ...    ...      ...      ...     ...   \n886         0       2    male  27.0      0      0  13.0000        S  Second   \n887         1       1  female  19.0      0      0  30.0000        S   First   \n888         0       3  female   NaN      1      2  23.4500        S   Third   \n889         1       1    male  26.0      0      0  30.0000        C   First   \n890         0       3    male  32.0      0      0   7.7500        Q   Third   \n\n       who  adult_male deck  embark_town alive  alone  \n0      man        True  NaN  Southampton    no  False  \n1    woman       False    C    Cherbourg   yes  False  \n2    woman       False  NaN  Southampton   yes   True  \n3    woman       False    C  Southampton   yes  False  \n4      man        True  NaN  Southampton    no   True  \n..     ...         ...  ...          ...   ...    ...  \n886    man        True  NaN  Southampton    no   True  \n887  woman       False    B  Southampton   yes   True  \n888  woman       False  NaN  Southampton    no  False  \n889    man        True    C    Cherbourg   yes   True  \n890    man        True  NaN   Queenstown    no   True  \n\n[891 rows x 15 columns]\n<class 'pandas.core.frame.DataFrame'>\nRangeIndex: 891 entries, 0 to 890\nData columns (total 15 columns):\nsurvived       891 non-null int64\npclass         891 non-null int64\nsex            891 non-null object\nage            714 non-null float64\nsibsp          891 non-null int64\nparch          891 non-null int64\nfare           891 non-null float64\nembarked       889 non-null object\nclass          891 non-null category\nwho            891 non-null object\nadult_male     891 non-null bool\ndeck           203 non-null category\nembark_town    889 non-null object\nalive          891 non-null object\nalone          891 non-null bool\ndtypes: bool(2), category(2), float64(2), int64(4), object(5)\nmemory usage: 80.6+ KB\n"
    }
   ],
   "source": [
    "import numpy as np \n",
    "import pandas as pd \n",
    "import seaborn as sns \n",
    "\n",
    "# seaborn에 존재하는 titanic 데이터 가져오기 \n",
    "titanic = sns.load_dataset('titanic')\n",
    "print(titanic)\n",
    "titanic.info()"
   ]
  },
  {
   "cell_type": "code",
   "execution_count": 15,
   "metadata": {},
   "outputs": [
    {
     "name": "stdout",
     "output_type": "stream",
     "text": "age     sex   class     fare  survived\n0    22.0    male   Third   7.2500         0\n1    38.0  female   First  71.2833         1\n2    26.0  female   Third   7.9250         1\n3    35.0  female   First  53.1000         1\n4    35.0    male   Third   8.0500         0\n..    ...     ...     ...      ...       ...\n886  27.0    male  Second  13.0000         0\n887  19.0  female   First  30.0000         1\n888   NaN  female   Third  23.4500         0\n889  26.0    male   First  30.0000         1\n890  32.0    male   Third   7.7500         0\n\n[891 rows x 5 columns]\n"
    }
   ],
   "source": [
    "# age, sex, class, fare, survived 컬럼만 추출해서 새로운 데이터프레임 생성\n",
    "# 방법1\n",
    "df = titanic[['age', 'sex', 'class', 'fare', 'survived']]\n",
    "print(df)"
   ]
  },
  {
   "cell_type": "code",
   "execution_count": 16,
   "metadata": {},
   "outputs": [
    {
     "name": "stdout",
     "output_type": "stream",
     "text": "age     sex   class     fare  survived\n0    22.0    male   Third   7.2500         0\n1    38.0  female   First  71.2833         1\n2    26.0  female   Third   7.9250         1\n3    35.0  female   First  53.1000         1\n4    35.0    male   Third   8.0500         0\n..    ...     ...     ...      ...       ...\n886  27.0    male  Second  13.0000         0\n887  19.0  female   First  30.0000         1\n888   NaN  female   Third  23.4500         0\n889  26.0    male   First  30.0000         1\n890  32.0    male   Third   7.7500         0\n\n[891 rows x 5 columns]\n"
    }
   ],
   "source": [
    "# 방법2\n",
    "df = titanic.loc[:,['age', 'sex', 'class', 'fare', 'survived']]\n",
    "print(df)"
   ]
  },
  {
   "cell_type": "code",
   "execution_count": 17,
   "metadata": {},
   "outputs": [
    {
     "name": "stdout",
     "output_type": "stream",
     "text": "age           \nsex        female       male\nclass                       \nFirst   34.611765  41.281386\nSecond  28.722973  30.740707\nThird   21.750000  26.507589 \n\n             mean                sum         \n              age                age         \nsex        female       male  female     male\nclass                                        \nFirst   34.611765  41.281386  2942.0  4169.42\nSecond  28.722973  30.740707  2125.5  3043.33\nThird   21.750000  26.507589  2218.5  6706.42\n"
    }
   ],
   "source": [
    "pivot1 = pd.pivot_table(df, \n",
    "                        values=['age'], \n",
    "                        index=['class'], \n",
    "                        columns=['sex'], \n",
    "                        aggfunc='mean')\n",
    "print(pivot1,'\\n')\n",
    "\n",
    "pivot2 = pd.pivot_table(df, \n",
    "                        values=['age'], \n",
    "                        index=['class'], \n",
    "                        columns=['sex'], \n",
    "                        aggfunc=['mean','sum'])\n",
    "print(pivot2)"
   ]
  },
  {
   "cell_type": "code",
   "execution_count": 30,
   "metadata": {},
   "outputs": [
    {
     "name": "stdout",
     "output_type": "stream",
     "text": "mean                                        sum           \\\n                     age                   fare                 age            \nsurvived               0          1           0           1       0        1   \nclass  sex                                                                     \nFirst  female  25.666667  34.939024  110.604167  105.978159    77.0  2865.00   \n       male    44.581967  36.248000   62.894910   74.637320  2719.5  1449.92   \nSecond female  36.000000  28.080882   18.250000   22.288989   216.0  1909.50   \n       male    33.369048  16.022000   19.488965   21.095100  2803.0   240.33   \nThird  female  23.818182  19.329787   19.773093   12.464526  1310.0   908.50   \n       male    27.255814  22.274211   12.204469   15.579696  5860.0   846.42   \n\n                                     \n                    fare             \nsurvived               0          1  \nclass  sex                           \nFirst  female   331.8125  9644.0125  \n       male    4842.9081  3358.6794  \nSecond female   109.5000  1560.2292  \n       male    1773.4958   358.6167  \nThird  female  1423.6627   897.4459  \n       male    3661.3408   732.2457  \n"
    }
   ],
   "source": [
    "# 멀티 인덱스를 마들기 위한 pivot_table 옵션 설정 \n",
    "pivot3 = pd.pivot_table(df, \n",
    "                        values=['age', 'fare'], \n",
    "                        index=['class', 'sex'], \n",
    "                        columns=['survived'], \n",
    "                        aggfunc=['mean','sum'])\n",
    "print(pivot3)"
   ]
  },
  {
   "cell_type": "code",
   "execution_count": 31,
   "metadata": {},
   "outputs": [
    {
     "name": "stdout",
     "output_type": "stream",
     "text": "mean                                        sum           \\\n                age                   fare                 age            \nsurvived          0          1           0           1       0        1   \nsex                                                                       \nfemale    25.666667  34.939024  110.604167  105.978159    77.0  2865.00   \nmale      44.581967  36.248000   62.894910   74.637320  2719.5  1449.92   \n\n                                \n               fare             \nsurvived          0          1  \nsex                             \nfemale     331.8125  9644.0125  \nmale      4842.9081  3358.6794  \n"
    }
   ],
   "source": [
    "# 첫번째 인덱스(class) 가 First인 데이터 가져오기\n",
    "print(pivot3.xs('First'))"
   ]
  },
  {
   "cell_type": "code",
   "execution_count": 33,
   "metadata": {},
   "outputs": [
    {
     "name": "stdout",
     "output_type": "stream",
     "text": "mean                                 sum                      \\\n                  age              fare               age                fare   \nsurvived            0       1         0         1       0        1          0   \nclass sex                                                                       \nFirst male  44.581967  36.248  62.89491  74.63732  2719.5  1449.92  4842.9081   \n\n                       \n                       \nsurvived            1  \nclass sex              \nFirst male  3358.6794  \n"
    }
   ],
   "source": [
    "# First 이고 male 인 데이터 가져오기 \n",
    "print(pivot3.xs(('First', 'male'), level=['class','sex']))"
   ]
  },
  {
   "cell_type": "code",
   "execution_count": 35,
   "metadata": {},
   "outputs": [
    {
     "name": "stdout",
     "output_type": "stream",
     "text": "age                   fare            \nsurvived               0          1           0           1\nclass  sex                                                 \nFirst  female  25.666667  34.939024  110.604167  105.978159\n       male    44.581967  36.248000   62.894910   74.637320\nSecond female  36.000000  28.080882   18.250000   22.288989\n       male    33.369048  16.022000   19.488965   21.095100\nThird  female  23.818182  19.329787   19.773093   12.464526\n       male    27.255814  22.274211   12.204469   15.579696\n"
    }
   ],
   "source": [
    "# mean 열의 데이터만 가져오기  (반대방향이라 axis=1옵션)\n",
    "print(pivot3.xs('mean', axis=1))"
   ]
  }
 ]
}