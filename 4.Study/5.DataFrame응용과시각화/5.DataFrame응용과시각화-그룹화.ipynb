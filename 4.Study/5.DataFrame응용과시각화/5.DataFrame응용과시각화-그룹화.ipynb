{
 "nbformat": 4,
 "nbformat_minor": 2,
 "metadata": {
  "language_info": {
   "name": "python",
   "codemirror_mode": {
    "name": "ipython",
    "version": 3
   },
   "version": "3.7.4-final"
  },
  "orig_nbformat": 2,
  "file_extension": ".py",
  "mimetype": "text/x-python",
  "name": "python",
  "npconvert_exporter": "python",
  "pygments_lexer": "ipython3",
  "version": 3,
  "kernelspec": {
   "name": "python37464bitanaconda3condae788c5fa592f4db3927eca9f2fe371f6",
   "display_name": "Python 3.7.4 64-bit ('anaconda3': conda)"
  }
 },
 "cells": [
  {
   "cell_type": "code",
   "execution_count": 39,
   "metadata": {},
   "outputs": [
    {
     "name": "stdout",
     "output_type": "stream",
     "text": "<class 'pandas.core.frame.DataFrame'>\nRangeIndex: 891 entries, 0 to 890\nData columns (total 15 columns):\nsurvived       891 non-null int64\npclass         891 non-null int64\nsex            891 non-null object\nage            714 non-null float64\nsibsp          891 non-null int64\nparch          891 non-null int64\nfare           891 non-null float64\nembarked       889 non-null object\nclass          891 non-null category\nwho            891 non-null object\nadult_male     891 non-null bool\ndeck           203 non-null category\nembark_town    889 non-null object\nalive          891 non-null object\nalone          891 non-null bool\ndtypes: bool(2), category(2), float64(2), int64(4), object(5)\nmemory usage: 80.6+ KB\nNone\n"
    }
   ],
   "source": [
    "import pandas as pd \n",
    "import seaborn as sns \n",
    "\n",
    "# titanic 데이터 가져오기 \n",
    "titanic = sns.load_dataset('titanic')\n",
    "print(titanic.info())"
   ]
  },
  {
   "cell_type": "code",
   "execution_count": 40,
   "metadata": {},
   "outputs": [
    {
     "name": "stdout",
     "output_type": "stream",
     "text": "<pandas.core.groupby.generic.DataFrameGroupBy object at 0x12abfcf90>\n"
    }
   ],
   "source": [
    "# class 별로 그룹화 \n",
    "grouped=titanic.groupby('class')\n",
    "print(grouped) \n",
    "# 출력값 : 어떤 클래스 이름의 객체로 나온다. "
   ]
  },
  {
   "cell_type": "code",
   "execution_count": 41,
   "metadata": {},
   "outputs": [
    {
     "name": "stdout",
     "output_type": "stream",
     "text": "First \n\n   survived  pclass     sex   age  sibsp  parch     fare embarked  class  \\\n1         1       1  female  38.0      1      0  71.2833        C  First   \n3         1       1  female  35.0      1      0  53.1000        S  First   \n\n     who  adult_male deck  embark_town alive  alone  \n1  woman       False    C    Cherbourg   yes  False  \n3  woman       False    C  Southampton   yes  False   \n\nSecond \n\n    survived  pclass     sex   age  sibsp  parch     fare embarked   class  \\\n9          1       2  female  14.0      1      0  30.0708        C  Second   \n15         1       2  female  55.0      0      0  16.0000        S  Second   \n\n      who  adult_male deck  embark_town alive  alone  \n9   child       False  NaN    Cherbourg   yes  False  \n15  woman       False  NaN  Southampton   yes   True   \n\nThird \n\n   survived  pclass     sex   age  sibsp  parch   fare embarked  class    who  \\\n0         0       3    male  22.0      1      0  7.250        S  Third    man   \n2         1       3  female  26.0      0      0  7.925        S  Third  woman   \n\n   adult_male deck  embark_town alive  alone  \n0        True  NaN  Southampton    no  False  \n2       False  NaN  Southampton   yes   True   \n\n"
    }
   ],
   "source": [
    "# 그룹화된 데이터에 접근\n",
    "for key, data in grouped : \n",
    "    print(key,'\\n')\n",
    "    print(data.head(2),'\\n')\n",
    "# 출력값 : first, second, third 그룹이 생성됨.\n"
   ]
  },
  {
   "cell_type": "code",
   "execution_count": 42,
   "metadata": {},
   "outputs": [
    {
     "name": "stdout",
     "output_type": "stream",
     "text": "0      Third\n2      Third\n4      Third\n5      Third\n7      Third\n       ...  \n882    Third\n884    Third\n885    Third\n888    Third\n890    Third\nName: class, Length: 491, dtype: category\nCategories (3, object): [First, Second, Third]\n"
    }
   ],
   "source": [
    "# Third 그룹에 해당하는 그룹의 데이터만 가져오기 \n",
    "third = grouped.get_group('Third')\n",
    "print(third['class'])"
   ]
  },
  {
   "cell_type": "code",
   "execution_count": 43,
   "metadata": {},
   "outputs": [
    {
     "name": "stdout",
     "output_type": "stream",
     "text": "survived  pclass        age     sibsp     parch       fare  \\\nclass                                                                \nFirst   0.629630     1.0  38.233441  0.416667  0.356481  84.154687   \nSecond  0.472826     2.0  29.877630  0.402174  0.380435  20.662183   \nThird   0.242363     3.0  25.140620  0.615071  0.393075  13.675550   \n\n        adult_male     alone  \nclass                         \nFirst     0.550926  0.504630  \nSecond    0.538043  0.565217  \nThird     0.649695  0.659878  \n"
    }
   ],
   "source": [
    "# 집계 함수 적용\n",
    "print(grouped.mean())"
   ]
  },
  {
   "cell_type": "code",
   "execution_count": 44,
   "metadata": {},
   "outputs": [
    {
     "name": "stdout",
     "output_type": "stream",
     "text": "survived  pclass        age     sibsp     parch        fare  \\\nclass  sex                                                                   \nFirst  female  0.968085     1.0  34.611765  0.553191  0.457447  106.125798   \n       male    0.368852     1.0  41.281386  0.311475  0.278689   67.226127   \nSecond female  0.921053     2.0  28.722973  0.486842  0.605263   21.970121   \n       male    0.157407     2.0  30.740707  0.342593  0.222222   19.741782   \nThird  female  0.500000     3.0  21.750000  0.895833  0.798611   16.118810   \n       male    0.135447     3.0  26.507589  0.498559  0.224784   12.661633   \n\n               adult_male     alone  \nclass  sex                           \nFirst  female    0.000000  0.361702  \n       male      0.975410  0.614754  \nSecond female    0.000000  0.421053  \n       male      0.916667  0.666667  \nThird  female    0.000000  0.416667  \n       male      0.919308  0.760807  \n"
    }
   ],
   "source": [
    "# 2개의 특성으로 그룹화해서 집계\n",
    "grouped = titanic.groupby(['class', 'sex'])  # 범주형 데이터를 넣어야됨, 숫자 안됨. \n",
    "print(grouped.mean())"
   ]
  },
  {
   "cell_type": "code",
   "execution_count": 45,
   "metadata": {},
   "outputs": [
    {
     "name": "stdout",
     "output_type": "stream",
     "text": "survived  pclass    age  sibsp  parch      fare\nclass                                                  \nFirst          1       0  79.08      3      4  512.3292\nSecond         1       0  69.33      3      3   73.5000\nThird          1       0  73.58      8      6   69.5500\n"
    }
   ],
   "source": [
    "# 그룹화 해서 원하는 함수를 적용 (최대값-최소값)\n",
    "def func(x) : \n",
    "    return x.max() - x.min()\n",
    "\n",
    "grouped = titanic.groupby(['class'])\n",
    "print(grouped.agg(func))"
   ]
  },
  {
   "cell_type": "code",
   "execution_count": 46,
   "metadata": {},
   "outputs": [
    {
     "name": "stdout",
     "output_type": "stream",
     "text": "survived     pclass       sex           age       sibsp      ...  \\\n            max min    max min   max     min   max   min   max min  ...   \nclass                                                               ...   \nFirst         1   0      1   1  male  female  80.0  0.92     3   0  ...   \nSecond        1   0      2   2  male  female  70.0  0.67     3   0  ...   \nThird         1   0      3   3  male  female  74.0  0.42     8   0  ...   \n\n            fare         who        adult_male        alive     alone         \n             max  min    max    min        max    min   max min   max    min  \nclass                                                                         \nFirst   512.3292  0.0  woman  child       True  False   yes  no  True  False  \nSecond   73.5000  0.0  woman  child       True  False   yes  no  True  False  \nThird    69.5500  0.0  woman  child       True  False   yes  no  True  False  \n\n[3 rows x 22 columns]\n"
    }
   ],
   "source": [
    "# 여러개의 함수를 적용\n",
    "# 분석 보고서를 그룹별로 만들면 유용하다.\n",
    "print(grouped.agg(['max', 'min']))"
   ]
  },
  {
   "cell_type": "code",
   "execution_count": 47,
   "metadata": {},
   "outputs": [
    {
     "name": "stdout",
     "output_type": "stream",
     "text": "First 216\nSecond 184\nThird 491\n"
    }
   ],
   "source": [
    "# 각 그룹별 데이터 개수 확인\n",
    "for key, data in grouped : \n",
    "    print(key, len(data))\n",
    "\n",
    "# 결과값 First 216, Second 184, Third 491"
   ]
  },
  {
   "cell_type": "code",
   "execution_count": 48,
   "metadata": {},
   "outputs": [
    {
     "name": "stdout",
     "output_type": "stream",
     "text": "1      First\n3      First\n6      First\n11     First\n23     First\n       ...  \n871    First\n872    First\n879    First\n887    First\n889    First\nName: class, Length: 216, dtype: category\nCategories (3, object): [First, Second, Third]\n"
    }
   ],
   "source": [
    "# 데이터가 200개 안되는 그룹은 제거 \n",
    "# 데이터의 개수가 200이상인 여부를 알려주는 함수\n",
    "def over200(x):\n",
    "    return len(x) >= 200\n",
    "\n",
    "# grouped_filter = grouped.filter(over200)\n",
    "print(grouped_filter['class'])\n",
    "#결과값을 보면 second 클래스가 제외됐다."
   ]
  },
  {
   "cell_type": "code",
   "execution_count": 49,
   "metadata": {},
   "outputs": [
    {
     "name": "stdout",
     "output_type": "stream",
     "text": "0      Third\n1      First\n2      Third\n3      First\n4      Third\n       ...  \n885    Third\n887    First\n888    Third\n889    First\n890    Third\nName: class, Length: 707, dtype: category\nCategories (3, object): [First, Second, Third]\n"
    }
   ],
   "source": [
    "# 위의 내용을 람다함수로 변환\n",
    "# 파이썬에서의 람다는 이름없는 한 줄 짜리 함수\n",
    "# 필터링이나 mapping(apply) 메소드에서 람다를 많이 사용 \n",
    "grouped_filter = grouped.filter(lambda x:len(x)>200)\n",
    "print(grouped_filter['class'])"
   ]
  },
  {
   "cell_type": "code",
   "execution_count": 50,
   "metadata": {},
   "outputs": [
    {
     "name": "stdout",
     "output_type": "stream",
     "text": "First 38.233440860215055\nSecond 29.87763005780347\nThird 25.14061971830986\n"
    }
   ],
   "source": [
    "# age 열의 평균이 30이 안되는 그룹을 제거 \n",
    "for key, data in grouped : \n",
    "    print(key, data['age'].mean())"
   ]
  },
  {
   "cell_type": "code",
   "execution_count": 51,
   "metadata": {},
   "outputs": [
    {
     "name": "stdout",
     "output_type": "stream",
     "text": "1      First\n3      First\n6      First\n11     First\n23     First\n       ...  \n871    First\n872    First\n879    First\n887    First\n889    First\nName: class, Length: 216, dtype: category\nCategories (3, object): [First, Second, Third]\n"
    }
   ],
   "source": [
    "grouped_filter = grouped.filter(lambda x: x['age'].mean()>=30)\n",
    "print(grouped_filter['class'])"
   ]
  },
  {
   "cell_type": "code",
   "execution_count": 54,
   "metadata": {},
   "outputs": [
    {
     "name": "stdout",
     "output_type": "stream",
     "text": "survived  pclass        age     sibsp     parch        fare  \\\nclass  sex                                                                   \nFirst  female  0.968085     1.0  34.611765  0.553191  0.457447  106.125798   \n       male    0.368852     1.0  41.281386  0.311475  0.278689   67.226127   \nSecond female  0.921053     2.0  28.722973  0.486842  0.605263   21.970121   \n       male    0.157407     2.0  30.740707  0.342593  0.222222   19.741782   \nThird  female  0.500000     3.0  21.750000  0.895833  0.798611   16.118810   \n       male    0.135447     3.0  26.507589  0.498559  0.224784   12.661633   \n\n               adult_male     alone  \nclass  sex                           \nFirst  female    0.000000  0.361702  \n       male      0.975410  0.614754  \nSecond female    0.000000  0.421053  \n       male      0.916667  0.666667  \nThird  female    0.000000  0.416667  \n       male      0.919308  0.760807  \n"
    }
   ],
   "source": [
    "# 그룹화 할 때 2개의 이상의 컬럼 이름을 대입하면 멀티인덱스\n",
    "grouped = titanic.groupby(['class', 'sex'])\n",
    "gdf = grouped.mean()\n",
    "print(gdf)"
   ]
  },
  {
   "cell_type": "code",
   "execution_count": 55,
   "metadata": {},
   "outputs": [
    {
     "name": "stdout",
     "output_type": "stream",
     "text": "survived  pclass        age     sibsp     parch       fare  \\\nsex                                                                  \nfemale  0.500000     3.0  21.750000  0.895833  0.798611  16.118810   \nmale    0.135447     3.0  26.507589  0.498559  0.224784  12.661633   \n\n        adult_male     alone  \nsex                           \nfemale    0.000000  0.416667  \nmale      0.919308  0.760807  \n"
    }
   ],
   "source": [
    "# 원하는 값을 출력하고 싶을 때 \n",
    "# 행단위로 데이터 접근\n",
    "print(gdf.loc['Third'])\n",
    "# 결과값 : Third 인덱스로 속해 있는 값들이 출력된다. "
   ]
  },
  {
   "cell_type": "code",
   "execution_count": 56,
   "metadata": {},
   "outputs": [
    {
     "name": "stdout",
     "output_type": "stream",
     "text": "survived       0.135447\npclass         3.000000\nage           26.507589\nsibsp          0.498559\nparch          0.224784\nfare          12.661633\nadult_male     0.919308\nalone          0.760807\nName: (Third, male), dtype: float64\n"
    }
   ],
   "source": [
    "# Third 의 male만 알고싶다.\n",
    "print(gdf.loc[('Third', 'male')])"
   ]
  },
  {
   "cell_type": "code",
   "execution_count": 57,
   "metadata": {},
   "outputs": [
    {
     "name": "stdout",
     "output_type": "stream",
     "text": "survived  pclass        age     sibsp     parch       fare  \\\nclass                                                                \nFirst   0.368852     1.0  41.281386  0.311475  0.278689  67.226127   \nSecond  0.157407     2.0  30.740707  0.342593  0.222222  19.741782   \nThird   0.135447     3.0  26.507589  0.498559  0.224784  12.661633   \n\n        adult_male     alone  \nclass                         \nFirst     0.975410  0.614754  \nSecond    0.916667  0.666667  \nThird     0.919308  0.760807  \n"
    }
   ],
   "source": [
    "# xs 인덱스 사용\n",
    "print(gdf.xs('male', level='sex'))"
   ]
  }
 ]
}