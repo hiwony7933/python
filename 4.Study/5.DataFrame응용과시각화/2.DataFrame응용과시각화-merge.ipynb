{
 "nbformat": 4,
 "nbformat_minor": 2,
 "metadata": {
  "language_info": {
   "name": "python",
   "codemirror_mode": {
    "name": "ipython",
    "version": 3
   },
   "version": "3.7.4-final"
  },
  "orig_nbformat": 2,
  "file_extension": ".py",
  "mimetype": "text/x-python",
  "name": "python",
  "npconvert_exporter": "python",
  "pygments_lexer": "ipython3",
  "version": 3,
  "kernelspec": {
   "name": "python37464bitanaconda3condae788c5fa592f4db3927eca9f2fe371f6",
   "display_name": "Python 3.7.4 64-bit ('anaconda3': conda)"
  }
 },
 "cells": [
  {
   "cell_type": "code",
   "execution_count": 2,
   "metadata": {},
   "outputs": [
    {
     "name": "stdout",
     "output_type": "stream",
     "text": "<class 'pandas.core.frame.DataFrame'>\nRangeIndex: 10 entries, 0 to 9\nData columns (total 4 columns):\nid            10 non-null int64\nstock_name    10 non-null object\nvalue         10 non-null float64\nprice         10 non-null int64\ndtypes: float64(1), int64(2), object(1)\nmemory usage: 448.0+ bytes\nNone\n<class 'pandas.core.frame.DataFrame'>\nRangeIndex: 10 entries, 0 to 9\nData columns (total 6 columns):\nid      10 non-null int64\nname    10 non-null object\neps     10 non-null float64\nbps     10 non-null int64\nper     10 non-null float64\npbr     10 non-null float64\ndtypes: float64(3), int64(2), object(1)\nmemory usage: 608.0+ bytes\nNone\n"
    }
   ],
   "source": [
    "import pandas as pd \n",
    "\n",
    "# stock price.xlsx 파일과 stock valuation.xlsx 파일 읽기\n",
    "price = pd.read_excel('/Users/jw/python/4.Study/data/stock price.xlsx')\n",
    "valuation = pd.read_excel('/Users/jw/python/4.Study/data/stock valuation.xlsx')\n",
    "\n",
    "print(price.info())\n",
    "print(valuation.info())"
   ]
  },
  {
   "cell_type": "code",
   "execution_count": 6,
   "metadata": {},
   "outputs": [
    {
     "name": "stdout",
     "output_type": "stream",
     "text": "<class 'pandas.core.frame.DataFrame'>\nInt64Index: 5 entries, 0 to 4\nData columns (total 9 columns):\nid            5 non-null int64\nstock_name    5 non-null object\nvalue         5 non-null float64\nprice         5 non-null int64\nname          5 non-null object\neps           5 non-null float64\nbps           5 non-null int64\nper           5 non-null float64\npbr           5 non-null float64\ndtypes: float64(4), int64(3), object(2)\nmemory usage: 400.0+ bytes\nNone\n"
    }
   ],
   "source": [
    "# 2개의 Dataframe을 id를 기준으로 합치기 \n",
    "merge_inner = pd.merge(price, valuation)\n",
    "print(merge_inner.info()) \n",
    "# 결과물을 보니 데이터가 5개로 줄어들었다.\n",
    "# 양쪽 모두에 존재하는 데이터만 합치기 - Inner join 이라고한다."
   ]
  },
  {
   "cell_type": "code",
   "execution_count": 9,
   "metadata": {},
   "outputs": [
    {
     "name": "stdout",
     "output_type": "stream",
     "text": "<class 'pandas.core.frame.DataFrame'>\nInt64Index: 15 entries, 0 to 14\nData columns (total 9 columns):\nid            15 non-null int64\nstock_name    10 non-null object\nvalue         10 non-null float64\nprice         10 non-null float64\nname          10 non-null object\neps           10 non-null float64\nbps           10 non-null float64\nper           10 non-null float64\npbr           10 non-null float64\ndtypes: float64(6), int64(1), object(2)\nmemory usage: 1.2+ KB\nNone\n        id stock_name          value     price       name           eps  \\\n0   128940       한미약품   59385.666667  421000.0        NaN           NaN   \n1   130960     CJ E&M   58540.666667   98900.0     CJ E&M   6301.333333   \n2   138250      엔에스쇼핑   14558.666667   13200.0        NaN           NaN   \n3   139480        이마트  239230.833333  254500.0        이마트  18268.166667   \n4   142280     녹십자엠에스     468.833333   10200.0        NaN           NaN   \n5   145990        삼양사   82750.000000   82000.0        삼양사   5741.000000   \n6   185750        종근당   40293.666667  100500.0        종근당   3990.333333   \n7   192400      쿠쿠홀딩스  179204.666667  177500.0        NaN           NaN   \n8   199800         툴젠   -2514.333333  115400.0        NaN           NaN   \n9   204210     모두투어리츠    3093.333333    3475.0     모두투어리츠     85.166667   \n10  136480        NaN            NaN       NaN         하림    274.166667   \n11  138040        NaN            NaN       NaN    메리츠금융지주   2122.333333   \n12  161390        NaN            NaN       NaN      한국타이어   5648.500000   \n13  181710        NaN            NaN       NaN  NHN엔터테인먼트   2110.166667   \n14  207940        NaN            NaN       NaN   삼성바이오로직스   4644.166667   \n\n         bps        per       pbr  \n0        NaN        NaN       NaN  \n1    54068.0  15.695091  1.829178  \n2        NaN        NaN       NaN  \n3   295780.0  13.931338  0.860437  \n4        NaN        NaN       NaN  \n5   108090.0  14.283226  0.758627  \n6    40684.0  25.185866  2.470259  \n7        NaN        NaN       NaN  \n8        NaN        NaN       NaN  \n9     5335.0  40.802348  0.651359  \n10    3551.0  11.489362  0.887074  \n11   14894.0   6.313806  0.899691  \n12   51341.0   7.453306  0.820007  \n13   78434.0  30.755864  0.827447  \n14   60099.0  89.790059  6.938551  \n"
    }
   ],
   "source": [
    "# Outer join - 어느 한쪽에만 존재하는 데이터도 join에 참여 \n",
    "merge_outer = pd.merge(price, valuation, how='outer', on='id')\n",
    "print(merge_outer.info())\n",
    "print(merge_outer)"
   ]
  },
  {
   "cell_type": "code",
   "execution_count": null,
   "metadata": {},
   "outputs": [],
   "source": []
  }
 ]
}