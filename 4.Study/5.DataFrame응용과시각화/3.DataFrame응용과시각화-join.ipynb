{
 "nbformat": 4,
 "nbformat_minor": 2,
 "metadata": {
  "language_info": {
   "name": "python",
   "codemirror_mode": {
    "name": "ipython",
    "version": 3
   },
   "version": "3.7.4-final"
  },
  "orig_nbformat": 2,
  "file_extension": ".py",
  "mimetype": "text/x-python",
  "name": "python",
  "npconvert_exporter": "python",
  "pygments_lexer": "ipython3",
  "version": 3,
  "kernelspec": {
   "name": "python37464bitanaconda3condae788c5fa592f4db3927eca9f2fe371f6",
   "display_name": "Python 3.7.4 64-bit ('anaconda3': conda)"
  }
 },
 "cells": [
  {
   "cell_type": "code",
   "execution_count": 3,
   "metadata": {},
   "outputs": [
    {
     "name": "stdout",
     "output_type": "stream",
     "text": "<class 'pandas.core.frame.DataFrame'>\nInt64Index: 10 entries, 128940 to 204210\nData columns (total 3 columns):\nstock_name    10 non-null object\nvalue         10 non-null float64\nprice         10 non-null int64\ndtypes: float64(1), int64(1), object(1)\nmemory usage: 320.0+ bytes\nNone\n<class 'pandas.core.frame.DataFrame'>\nInt64Index: 10 entries, 130960 to 207940\nData columns (total 5 columns):\nname    10 non-null object\neps     10 non-null float64\nbps     10 non-null int64\nper     10 non-null float64\npbr     10 non-null float64\ndtypes: float64(3), int64(1), object(1)\nmemory usage: 480.0+ bytes\nNone\n"
    }
   ],
   "source": [
    "import pandas as pd \n",
    "\n",
    "# stock price.xlsx 파일과 stock valuation.xlsx 파일 읽기\n",
    "# 파일의 내용을 읽을 때 하나의 컬럼을 인덱스로 설정\n",
    "price = pd.read_excel('../data/stock price.xlsx', index_col='id')\n",
    "valuation = pd.read_excel('../data/stock valuation.xlsx', index_col='id')\n",
    "\n",
    "print(price.info())\n",
    "print(valuation.info())"
   ]
  },
  {
   "cell_type": "code",
   "execution_count": 4,
   "metadata": {},
   "outputs": [
    {
     "name": "stdout",
     "output_type": "stream",
     "text": "stock_name          value   price    name           eps       bps  \\\nid                                                                         \n128940       한미약품   59385.666667  421000     NaN           NaN       NaN   \n130960     CJ E&M   58540.666667   98900  CJ E&M   6301.333333   54068.0   \n138250      엔에스쇼핑   14558.666667   13200     NaN           NaN       NaN   \n139480        이마트  239230.833333  254500     이마트  18268.166667  295780.0   \n142280     녹십자엠에스     468.833333   10200     NaN           NaN       NaN   \n145990        삼양사   82750.000000   82000     삼양사   5741.000000  108090.0   \n185750        종근당   40293.666667  100500     종근당   3990.333333   40684.0   \n192400      쿠쿠홀딩스  179204.666667  177500     NaN           NaN       NaN   \n199800         툴젠   -2514.333333  115400     NaN           NaN       NaN   \n204210     모두투어리츠    3093.333333    3475  모두투어리츠     85.166667    5335.0   \n\n              per       pbr  \nid                           \n128940        NaN       NaN  \n130960  15.695091  1.829178  \n138250        NaN       NaN  \n139480  13.931338  0.860437  \n142280        NaN       NaN  \n145990  14.283226  0.758627  \n185750  25.185866  2.470259  \n192400        NaN       NaN  \n199800        NaN       NaN  \n204210  40.802348  0.651359  \n<class 'pandas.core.frame.DataFrame'>\nInt64Index: 10 entries, 128940 to 204210\nData columns (total 8 columns):\nstock_name    10 non-null object\nvalue         10 non-null float64\nprice         10 non-null int64\nname          5 non-null object\neps           5 non-null float64\nbps           5 non-null float64\nper           5 non-null float64\npbr           5 non-null float64\ndtypes: float64(5), int64(1), object(2)\nmemory usage: 1.0+ KB\n"
    }
   ],
   "source": [
    "# 인덱스를 이용해서 join \n",
    "stock_join = price.join(valuation)\n",
    "print(stock_join)\n",
    "stock_join.info()\n",
    "# price 의 모든 데이터는 join에 참여 하는데 \n",
    "# valuation 에서는 참여하지 않는 데이터도 있을 수 있다. "
   ]
  }
 ]
}