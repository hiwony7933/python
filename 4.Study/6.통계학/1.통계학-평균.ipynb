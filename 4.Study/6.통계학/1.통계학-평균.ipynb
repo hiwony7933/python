{
 "nbformat": 4,
 "nbformat_minor": 2,
 "metadata": {
  "language_info": {
   "name": "python",
   "codemirror_mode": {
    "name": "ipython",
    "version": 3
   },
   "version": "3.7.4-final"
  },
  "orig_nbformat": 2,
  "file_extension": ".py",
  "mimetype": "text/x-python",
  "name": "python",
  "npconvert_exporter": "python",
  "pygments_lexer": "ipython3",
  "version": 3,
  "kernelspec": {
   "name": "python37464bitanaconda3condae788c5fa592f4db3927eca9f2fe371f6",
   "display_name": "Python 3.7.4 64-bit ('anaconda3': conda)"
  }
 },
 "cells": [
  {
   "cell_type": "code",
   "execution_count": 1,
   "metadata": {},
   "outputs": [
    {
     "name": "stdout",
     "output_type": "stream",
     "text": "0.040000000000000036\n"
    }
   ],
   "source": [
    "import pandas as pd\n",
    "\n",
    "# 평균 구하기 \n",
    "s = pd.Series([10, 11, 10.78])\n",
    "#비율 평균을 산술 평균으로 구하기\n",
    "print(s.pct_change().mean())"
   ]
  },
  {
   "cell_type": "code",
   "execution_count": 2,
   "metadata": {},
   "outputs": [
    {
     "name": "stdout",
     "output_type": "stream",
     "text": "0.03826778819339283\n"
    }
   ],
   "source": [
    "import math\n",
    "# 평균 비율을 구할 때는 기하 평균을 사용\n",
    "\n",
    "print(math.sqrt((11/10)*(10.78/11))-1)"
   ]
  },
  {
   "cell_type": "code",
   "execution_count": 3,
   "metadata": {},
   "outputs": [
    {
     "name": "stdout",
     "output_type": "stream",
     "text": "75.0\n"
    }
   ],
   "source": [
    "# 속도의 경우는 조화 평균을 사용\n",
    "# 동일한 거리를 100km 와 60km로 달린경우\n",
    "print(2*100*60/(100+60))"
   ]
  },
  {
   "cell_type": "code",
   "execution_count": 4,
   "metadata": {},
   "outputs": [
    {
     "name": "stdout",
     "output_type": "stream",
     "text": "Rolling [window=2,center=False,axis=0]\nEWM [com=5.0,min_periods=0,adjust=True,ignore_na=False,axis=0]\n"
    }
   ],
   "source": [
    "#단순 이동 평균\n",
    "print(s.rolling(window=2))\n",
    "\n",
    "# 지수 이동 평균\n",
    "print(s.ewm(5))"
   ]
  }
 ]
}