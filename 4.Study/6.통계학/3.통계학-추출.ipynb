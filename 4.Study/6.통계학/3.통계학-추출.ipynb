{
 "nbformat": 4,
 "nbformat_minor": 2,
 "metadata": {
  "language_info": {
   "name": "python",
   "codemirror_mode": {
    "name": "ipython",
    "version": 3
   },
   "version": "3.7.4-final"
  },
  "orig_nbformat": 2,
  "file_extension": ".py",
  "mimetype": "text/x-python",
  "name": "python",
  "npconvert_exporter": "python",
  "pygments_lexer": "ipython3",
  "version": 3,
  "kernelspec": {
   "name": "python37464bitanaconda3condae788c5fa592f4db3927eca9f2fe371f6",
   "display_name": "Python 3.7.4 64-bit ('anaconda3': conda)"
  }
 },
 "cells": [
  {
   "cell_type": "code",
   "execution_count": 46,
   "metadata": {},
   "outputs": [
    {
     "name": "stdout",
     "output_type": "stream",
     "text": "[1, 2, 3, 4, 5, 6, 7, 8, 9, 10, 11, 12, 13, 14, 15, 16, 17, 18, 19, 20, 21, 22, 23, 24, 25, 26, 27, 28, 29, 30, 31, 32, 33, 34, 35, 36, 37, 38, 39, 40, 41, 42, 43, 44, 45, 46, 47, 48]\n"
    }
   ],
   "source": [
    "import random\n",
    "\n",
    "li = list(range(1, 49, 1))\n",
    "print(li)"
   ]
  },
  {
   "cell_type": "code",
   "execution_count": 47,
   "metadata": {},
   "outputs": [
    {
     "name": "stdout",
     "output_type": "stream",
     "text": "[3, 42, 43, 41, 27, 7, 8, 20, 6, 14, 39, 22, 2, 35, 4, 12, 46, 18, 36, 13, 26, 31, 29, 25, 30, 23, 15, 44, 37, 47, 24, 17, 48, 34, 21, 5, 11, 16, 45, 9, 32, 38, 28, 19, 1, 10, 40, 33]\n"
    }
   ],
   "source": [
    "# 랜덤하게 섞음 \n",
    "random.shuffle(li)\n",
    "print(li)"
   ]
  },
  {
   "cell_type": "code",
   "execution_count": 48,
   "metadata": {},
   "outputs": [
    {
     "name": "stdout",
     "output_type": "stream",
     "text": "[38, 2, 15, 48]\n"
    }
   ],
   "source": [
    "# 비복원 추출\n",
    "print(random.sample(li, k=4))"
   ]
  },
  {
   "cell_type": "code",
   "execution_count": 49,
   "metadata": {},
   "outputs": [
    {
     "name": "stdout",
     "output_type": "stream",
     "text": "['나이즈' '라투' '다크스펙터' '나이즈']\n['오미크론' '나이즈' '오미크론' '나이즈']\n"
    }
   ],
   "source": [
    "import numpy as np \n",
    "li = ['라투', '오미크론', '다크스펙터', '나이즈']\n",
    "print(np.random.choice(li, 4))  # 동일한 비율로 추출\n",
    "print(np.random.choice(li, 4, p=[0.05, 0.3, 0.15, 0.5]))   # 설정된 비율로 추출 \n"
   ]
  },
  {
   "cell_type": "code",
   "execution_count": 50,
   "metadata": {},
   "outputs": [
    {
     "name": "stdout",
     "output_type": "stream",
     "text": "[[ 0  1]\n [ 2  3]\n [ 4  5]\n [ 6  7]\n [ 8  9]\n [10 11]\n [12 13]\n [14 15]\n [16 17]\n [18 19]]\n"
    }
   ],
   "source": [
    "# 행렬 생성\n",
    "# 독립변수는 X로 표현을 많이 한다. \n",
    "X = np.arange(20).reshape(10, 2)\n",
    "print(X)"
   ]
  },
  {
   "cell_type": "code",
   "execution_count": 51,
   "metadata": {},
   "outputs": [
    {
     "name": "stdout",
     "output_type": "stream",
     "text": "[0 1 2 3 4 5 6 7 8 9]\n"
    }
   ],
   "source": [
    "# 종족변수는 y로 표현을 많이 합니다. \n",
    "# 독립변수에 의해 값이 결정되는 것이 종속변수 \n",
    "# 분류를 할 때는 분류될 클래스가 종속 변수 \n",
    "y = np.arange(10)\n",
    "print(y)"
   ]
  },
  {
   "cell_type": "code",
   "execution_count": 52,
   "metadata": {},
   "outputs": [
    {
     "name": "stdout",
     "output_type": "stream",
     "text": "[[ 0  1]\n [ 2  3]\n [ 4  5]\n [ 6  7]\n [ 8  9]\n [10 11]\n [12 13]]\n[0 1 2 3 4 5 6]\n"
    }
   ],
   "source": [
    "# 성별(sex) 과 나이(age)를 가지고 생존여부(survived)를 예측\n",
    "# sex, age를 묶어서 X로 생성 survived가 y \n",
    "\n",
    "# X와 y에서 훈련 데이터와 시험 데이터를 분할 \n",
    "# 훈련 데이터는 예측할 모델을 만들기 위한 데이터이고, \n",
    "# 시험 데이터는 만들어진 모델을 검증하기 위한 데이터이다. \n",
    "# 7:3 이나 8:2를 주로 이용 \n",
    "\n",
    "from sklearn.model_selection import train_test_split\n",
    "\n",
    "X_train, X_test, y_train, y_test = train_test_split(X, y, test_size=0.3, shuffle=False, random_state = 1004) \n",
    "print(X_train)\n",
    "print(y_train)\n",
    "# shuffle=True 로 하면 섞여서 나옴"
   ]
  },
  {
   "cell_type": "code",
   "execution_count": 53,
   "metadata": {},
   "outputs": [
    {
     "name": "stdout",
     "output_type": "stream",
     "text": "[[10 11]\n [ 6  7]\n [16 17]\n [ 2  3]\n [14 15]\n [ 4  5]\n [18 19]]\n[5 3 8 1 7 2 9]\n"
    }
   ],
   "source": [
    "# 층화 무작위 추출\n",
    "# 계층의 비율을 적용해서 데이터를 샘플링\n",
    "z = [0,0,0,1,1,1,1,1,1,1]\n",
    "X_train, X_test, y_train, y_test = train_test_split(X, y, test_size=0.3, random_state = 1008, stratify=z) \n",
    "print(X_train)\n",
    "print(y_train)"
   ]
  }
 ]
}