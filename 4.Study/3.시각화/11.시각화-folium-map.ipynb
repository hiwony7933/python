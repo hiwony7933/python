{
 "nbformat": 4,
 "nbformat_minor": 2,
 "metadata": {
  "language_info": {
   "name": "python",
   "codemirror_mode": {
    "name": "ipython",
    "version": 3
   },
   "version": "3.7.4-final"
  },
  "orig_nbformat": 2,
  "file_extension": ".py",
  "mimetype": "text/x-python",
  "name": "python",
  "npconvert_exporter": "python",
  "pygments_lexer": "ipython3",
  "version": 3,
  "kernelspec": {
   "name": "python37464bitanaconda3condae788c5fa592f4db3927eca9f2fe371f6",
   "display_name": "Python 3.7.4 64-bit ('anaconda3': conda)"
  }
 },
 "cells": [
  {
   "cell_type": "code",
   "execution_count": null,
   "metadata": {},
   "outputs": [],
   "source": [
    "import folium\n",
    "# 지도 생성\n",
    "m = folium.Map(location=[37.572656, 126.973304], zoom_start=15)\n",
    "folium.Marker(location=[37.572656, 126.973304], popup='KB Card', icon=folium.Icon(icon='cloud')).add_to(m)\n",
    "folium.Marker(location=[37.569027, 126.987279], popup='메가IT', icon=folium.Icon(icon='red')).add_to(m)\n",
    "# 한글 깨짐은 파일저장하면 괜찬음 \n",
    "# 지도 출력 - 주피터 노트북 말고는 안됨. \n",
    "m\n",
    "#지도 저장\n",
    "# m.save('map.html')"
   ]
  },
  {
   "cell_type": "code",
   "execution_count": null,
   "metadata": {},
   "outputs": [],
   "source": [
    "import pandas as pd\n",
    "\n",
    "# 서울지역 대학교 파일의 내용 읽어오기(학교명, 위도,경도)\n",
    "df = pd.read_excel('/Users/jw/python/4.Study/data/서울지역 대학교 위치.xlsx')\n",
    "print(df.head())\n",
    "\n",
    "# m = folium.Map(location=[37.55, 126.98], zoom_start=12)"
   ]
  },
  {
   "cell_type": "code",
   "execution_count": null,
   "metadata": {},
   "outputs": [],
   "source": [
    "# 데이터 프레임의 각 셀의 값을 행 단위로 읽기\n",
    "# zip은 여러개의 데이터를 하나로 묶어주는 함수 - 튜플로 묶어줍니다. \n",
    "# name, lat, lng로 나누어서 읽기 \n",
    "for name, lat, lgn in zip(df['Unnamed: 0'], df['위도'], df['경도']):\n",
    "    #folium.Marker(location=[lat, lgn], popup=name, icon=folium.Icon(icon='cloud')).add_to(m)\n",
    "    folium.CircleMarker(location=[lat, lgn], popup=name, radius=10, color='green', fill=True, fill_colore='coral', fill_opacity=0.7).add_to(m)\n",
    "\n",
    "m"
   ]
  }
 ]
}