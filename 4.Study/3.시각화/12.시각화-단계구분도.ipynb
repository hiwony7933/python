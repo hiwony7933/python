{
 "nbformat": 4,
 "nbformat_minor": 2,
 "metadata": {
  "language_info": {
   "name": "python",
   "codemirror_mode": {
    "name": "ipython",
    "version": 3
   },
   "version": "3.7.4-final"
  },
  "orig_nbformat": 2,
  "file_extension": ".py",
  "mimetype": "text/x-python",
  "name": "python",
  "npconvert_exporter": "python",
  "pygments_lexer": "ipython3",
  "version": 3,
  "kernelspec": {
   "name": "python37464bitanaconda3condae788c5fa592f4db3927eca9f2fe371f6",
   "display_name": "Python 3.7.4 64-bit ('anaconda3': conda)"
  }
 },
 "cells": [
  {
   "cell_type": "code",
   "execution_count": null,
   "metadata": {},
   "outputs": [],
   "source": [
    "# 작업 디렉토리 확인 \n",
    "import os\n",
    "print(os.getcwd())"
   ]
  },
  {
   "cell_type": "code",
   "execution_count": null,
   "metadata": {},
   "outputs": [],
   "source": [
    "# 경기도인구데이터.xlsx 파일과 경기도행정구역경계.json\n",
    "# 파일을 이용한 단계구분도 만들기 \n",
    "import pandas as pd \n",
    "\n",
    "df = pd.read_excel('/Users/jw/python/4.Study/data/경기도인구데이터.xlsx', index_col='구분')\n",
    "# 인덱스에 str 함수를 적용해서 문자열로 자료형을 변경\n",
    "# 인덱스를 숫자 자료형으로 만들면 인덱스가 행의 위치인지, 인덱스인지 혼동이 올수있다.\n",
    "# loc[인덱스] , iloc[행의위치] iloc[0]\n",
    "# 컬럼이 이름들도 문자로 만드는 것이 좋습니다.\n",
    "# 컬럼의 접근 : 데이터프레임[컬럼이름], 데이터프레임.컬럼이름\n",
    "# 컬럼의 이름이 숫자이면 데이터프레임.컬럼이름은 사용할 수 없다.\n",
    "\n",
    "# 컬럼의 이름들을 문자열로 변경\n",
    "df.columns=df.columns.map(str)\n",
    "print(df.head())"
   ]
  },
  {
   "cell_type": "code",
   "execution_count": null,
   "metadata": {},
   "outputs": [],
   "source": [
    "# json 파일 읽기\n",
    "import json\n",
    "geo_data = json.load(open('/Users/jw/python/4.Study/data/경기도행정구역경계.json', encoding='utf-8'))\n",
    "print(geo_data)"
   ]
  },
  {
   "cell_type": "code",
   "execution_count": null,
   "metadata": {},
   "outputs": [],
   "source": [
    "import folium\n",
    "g_map = folium.Map(location=[37.5500, 126.9800], zoom_start=9)"
   ]
  },
  {
   "cell_type": "code",
   "execution_count": null,
   "metadata": {},
   "outputs": [],
   "source": [
    "# 단계 구분도 만들기\n",
    "# threshold_scale : 색상을 구분하기 위한 숫자 리스트\n",
    "# key_on : json 파일에서 각 영역의 이름을 나타내느 프로퍼티를 지정\n",
    "folium.Choropleth(geo_data=geo_data, \n",
    "                  data=df['2017'], \n",
    "                  fill_color='YlOrRd', \n",
    "                  fill_opacity=0.5, \n",
    "                  line_opacity=0.3, \n",
    "                  threshold_scale=[10000, 100000, 300000, 500000, 700000], \n",
    "                  key_on='feature.properties.name').add_to(g_map)\n",
    "\n",
    "g_map\n",
    "# g_map.save('g_map.html')"
   ]
  }
 ]
}