{
 "nbformat": 4,
 "nbformat_minor": 2,
 "metadata": {
  "language_info": {
   "name": "python",
   "codemirror_mode": {
    "name": "ipython",
    "version": 3
   },
   "version": "3.7.4-final"
  },
  "orig_nbformat": 2,
  "file_extension": ".py",
  "mimetype": "text/x-python",
  "name": "python",
  "npconvert_exporter": "python",
  "pygments_lexer": "ipython3",
  "version": 3,
  "kernelspec": {
   "name": "python37464bitanaconda3condae788c5fa592f4db3927eca9f2fe371f6",
   "display_name": "Python 3.7.4 64-bit ('anaconda3': conda)"
  }
 },
 "cells": [
  {
   "cell_type": "code",
   "execution_count": 41,
   "metadata": {},
   "outputs": [
    {
     "name": "stdout",
     "output_type": "stream",
     "text": "[[100 200 300]\n [400 500 600]]\n"
    }
   ],
   "source": [
    "import numpy as np\n",
    "\n",
    "# 2차원 배열\n",
    "ar = np.array([[100, 200, 300], [400, 500, 600]])\n",
    "print(ar)"
   ]
  },
  {
   "cell_type": "code",
   "execution_count": 42,
   "metadata": {},
   "outputs": [
    {
     "name": "stdout",
     "output_type": "stream",
     "text": "[['100' '200' '300']\n ['400' '500' '600']]\n"
    }
   ],
   "source": [
    "# 서로 다른 자료형의 데이터가 모여 있으면 동일한 자료형으로 변경\n",
    "ar = np.array([['100', 200, 300], [400, 500, 600]])\n",
    "print(ar)"
   ]
  },
  {
   "cell_type": "code",
   "execution_count": 43,
   "metadata": {},
   "outputs": [
    {
     "name": "stdout",
     "output_type": "stream",
     "text": "[[100 200 300]\n [400 500 600]]\n"
    }
   ],
   "source": [
    "# dtype을 설정해서 정수 배열로 만들기\n",
    "ar = np.array([['100', 200, 300], [400, 500, 600]], dtype=int)\n",
    "print(ar)"
   ]
  },
  {
   "cell_type": "code",
   "execution_count": 44,
   "metadata": {},
   "outputs": [
    {
     "name": "stdout",
     "output_type": "stream",
     "text": "2\n(2, 3)\n"
    }
   ],
   "source": [
    "print(ar.ndim)  # 전체 차원을 리턴 결과값 : 2차원이다.\n",
    "print(ar.shape)  # 각 차원의 데이터 개수를 튜플로 리턴 결과값 : (2, 3) # 2행3열이다"
   ]
  },
  {
   "cell_type": "code",
   "execution_count": 45,
   "metadata": {},
   "outputs": [
    {
     "name": "stdout",
     "output_type": "stream",
     "text": "[ 0  1  2  3  4  5  6  7  8  9 10 11 12 13 14 15 16 17 18 19 20 21 22 23\n 24 25 26 27 28 29 30 31 32 33 34 35 36 37 38 39 40 41 42 43 44 45 46 47\n 48 49 50 51 52 53 54 55 56 57 58 59 60 61 62 63 64 65 66 67 68 69 70 71\n 72 73 74 75 76 77 78 79 80 81 82 83 84 85 86 87 88 89 90 91 92 93 94 95\n 96 97 98 99]\n"
    }
   ],
   "source": [
    "# 일정한 숫자 패턴의 array 생성\n",
    "ar = np.arange(0, 100, 1)\n",
    "print(ar)"
   ]
  },
  {
   "cell_type": "code",
   "execution_count": 46,
   "metadata": {},
   "outputs": [
    {
     "name": "stdout",
     "output_type": "stream",
     "text": "[ 0.          1.11111111  2.22222222  3.33333333  4.44444444  5.55555556\n  6.66666667  7.77777778  8.88888889 10.        ]\n"
    }
   ],
   "source": [
    "#linspace는 기본적으로 stop이 포함됨\n",
    "#마지막 숫자를 제거하고자 하면 endpoint를 False로 설정\n",
    "ar = np.linspace(0, 10, num=10)\n",
    "print(ar)"
   ]
  },
  {
   "cell_type": "code",
   "execution_count": 47,
   "metadata": {},
   "outputs": [
    {
     "name": "stdout",
     "output_type": "stream",
     "text": "[[1. 0. 0.]\n [0. 1. 0.]\n [0. 0. 1.]]\n"
    }
   ],
   "source": [
    "# 단위 행렬 만들기 ( 대각선 방향의 요소만 1인 행렬) \n",
    "# 정방행렬 - 행과 열의 개수가 같은 행렬 \n",
    "# 단위행렬 - 정방행렬이여야 한다. \n",
    "\n",
    "# 크기가 3인 단위 행렬 생성 \n",
    "ar = np.eye(3)\n",
    "print(ar)"
   ]
  },
  {
   "cell_type": "code",
   "execution_count": 48,
   "metadata": {},
   "outputs": [
    {
     "name": "stdout",
     "output_type": "stream",
     "text": "[[0. 1. 0.]\n [0. 0. 1.]\n [0. 0. 0.]]\n"
    }
   ],
   "source": [
    "# 1의 위치를 1개 증가\n",
    "ar = np.eye(3, k=1)\n",
    "print(ar)"
   ]
  },
  {
   "cell_type": "code",
   "execution_count": 49,
   "metadata": {},
   "outputs": [
    {
     "name": "stdout",
     "output_type": "stream",
     "text": "[0. 0. 0.]\n"
    }
   ],
   "source": [
    "# 대각 요소만 뽑아서 1차원 배열을 생성 \n",
    "ar = np.diag(ar) \n",
    "print(ar)"
   ]
  },
  {
   "cell_type": "code",
   "execution_count": 50,
   "metadata": {},
   "outputs": [
    {
     "name": "stdout",
     "output_type": "stream",
     "text": "[[1. 0. 0. 0. 0.]\n [0. 1. 0. 0. 0.]\n [0. 0. 1. 0. 0.]\n [0. 0. 0. 1. 0.]\n [0. 0. 0. 0. 1.]]\n"
    }
   ],
   "source": [
    "# 희소행렬과 밀집행렬 변환 \n",
    "# scipy 의 sparse 모듈 가져오기 \n",
    "from scipy import sparse\n",
    "\n",
    "# 5 * 5 단위 행렬 생성 \n",
    "ar = np.eye(5) \n",
    "print(ar) "
   ]
  },
  {
   "cell_type": "code",
   "execution_count": 51,
   "metadata": {},
   "outputs": [
    {
     "name": "stdout",
     "output_type": "stream",
     "text": "(0, 0)\t1.0\n  (1, 1)\t1.0\n  (2, 2)\t1.0\n  (3, 3)\t1.0\n  (4, 4)\t1.0\n"
    }
   ],
   "source": [
    "# 희소행렬로 변환 - 0이 아닌 값의 위치와 값을 저장 \n",
    "sp = sparse.csr_matrix(ar)\n",
    "print(sp)"
   ]
  },
  {
   "cell_type": "code",
   "execution_count": 52,
   "metadata": {},
   "outputs": [
    {
     "name": "stdout",
     "output_type": "stream",
     "text": "[[1. 0. 0. 0. 0.]\n [0. 1. 0. 0. 0.]\n [0. 0. 1. 0. 0.]\n [0. 0. 0. 1. 0.]\n [0. 0. 0. 0. 1.]]\n"
    }
   ],
   "source": [
    "# 밀집행렬로 변환 - 원래대로 돌리기 \n",
    "ar = sp.toarray()\n",
    "print(ar)"
   ]
  },
  {
   "cell_type": "code",
   "execution_count": 53,
   "metadata": {},
   "outputs": [
    {
     "name": "stdout",
     "output_type": "stream",
     "text": "[0 1 2 3 4 5 6 7 8 9]\n"
    }
   ],
   "source": [
    "# 행렬의 차원 변환\n",
    "# 0 ~ 9 까지 10개의 요소로 된 1차원 배열 생성\n",
    "ar = np.arange(0, 10)\n",
    "print(ar)"
   ]
  },
  {
   "cell_type": "code",
   "execution_count": 54,
   "metadata": {},
   "outputs": [
    {
     "name": "stdout",
     "output_type": "stream",
     "text": "[100 200]\n"
    }
   ],
   "source": [
    "# 인덱싱과 copy\n",
    "ar = np.array([100, 200, 300, 400])\n",
    "\n",
    "# 0 ~ 1번까지 요소를 br에 링크를 전달 \n",
    "br = ar[0:2]\n",
    "print(br)"
   ]
  },
  {
   "cell_type": "code",
   "execution_count": 55,
   "metadata": {},
   "outputs": [
    {
     "name": "stdout",
     "output_type": "stream",
     "text": "[100 200]\n"
    }
   ],
   "source": [
    "# 데이터를 복사해서 전달\n",
    "cr = ar[0:2].copy()\n",
    "print(cr)"
   ]
  },
  {
   "cell_type": "code",
   "execution_count": 56,
   "metadata": {},
   "outputs": [
    {
     "name": "stdout",
     "output_type": "stream",
     "text": "[10000   200]\n[100 200]\n"
    }
   ],
   "source": [
    "#원본을 변경하면 br은 변경되지만 cr은 변경안됨.\n",
    "#원본 데이터 변경\n",
    "ar[0] = 10000\n",
    "print(br)\n",
    "print(cr)"
   ]
  },
  {
   "cell_type": "code",
   "execution_count": 57,
   "metadata": {},
   "outputs": [
    {
     "name": "stdout",
     "output_type": "stream",
     "text": "[[ 9.00000000e+001  0.00000000e+000  0.00000000e+000]\n [ 0.00000000e+000  0.00000000e+000  0.00000000e+000]\n [ 0.00000000e+000  0.00000000e+000  0.00000000e+000]\n [ 0.00000000e+000  0.00000000e+000  0.00000000e+000]\n [ 0.00000000e+000  9.30537467e+199  1.49166815e-154]\n [ 1.49166815e-154  6.39828702e+170  1.46285969e-047]\n [ 4.26599394e-096  8.37170584e-144  5.88728849e-091]\n [ 1.38401414e-047  1.31452016e-047  5.74020278e+180]\n [ 8.37174974e-144  2.65532959e-312  1.49166815e-154]\n [-1.49458090e-154  5.43472210e-323  0.00000000e+000]]\n"
    }
   ],
   "source": [
    "#쓰레기 값을 가지고 배열을 생성\n",
    "ar = np.empty((10, 3))\n",
    "print(ar)\n"
   ]
  },
  {
   "cell_type": "code",
   "execution_count": 58,
   "metadata": {},
   "outputs": [
    {
     "name": "stdout",
     "output_type": "stream",
     "text": "[[9.00000000e+001 0.00000000e+000 0.00000000e+000]\n [0.00000000e+000 0.00000000e+000 0.00000000e+000]\n [0.00000000e+000 0.00000000e+000 0.00000000e+000]\n [1.49166815e-154 6.39828702e+170 1.46285969e-047]]\n"
    }
   ],
   "source": [
    "# 행들을 선택 - 0, 1, 3, 5를 선택 - copy\n",
    "br = ar[[0, 1, 3, 5]]\n",
    "print(br)"
   ]
  },
  {
   "cell_type": "code",
   "execution_count": 59,
   "metadata": {},
   "outputs": [
    {
     "name": "stdout",
     "output_type": "stream",
     "text": "90.0\n90.0\n"
    }
   ],
   "source": [
    "# 현재는 같은 값을 가지고 있음\n",
    "print(ar[0,0])\n",
    "print(br[0,0])"
   ]
  },
  {
   "cell_type": "code",
   "execution_count": 60,
   "metadata": {},
   "outputs": [
    {
     "name": "stdout",
     "output_type": "stream",
     "text": "90.0\n90.0\n"
    }
   ],
   "source": [
    "# copy가 되었으므로 ar의 데이터가 변경되더라도 br이 데이터는 영향을 받지 않음\n",
    "ar[0,0] = 90\n",
    "print(ar[0,0])\n",
    "print(br[0,0])"
   ]
  },
  {
   "cell_type": "code",
   "execution_count": 61,
   "metadata": {},
   "outputs": [
    {
     "name": "stdout",
     "output_type": "stream",
     "text": "[0.00000000e+00 1.46285969e-47]\n"
    }
   ],
   "source": [
    "# 3, 5 행과 0, 2 열의 데이터를 추출 \n",
    "cr = ar[[3, 5], [0,2]]  # 3,0 과 5,2만 추출\n",
    "print(cr)"
   ]
  },
  {
   "cell_type": "code",
   "execution_count": 62,
   "metadata": {},
   "outputs": [
    {
     "name": "stdout",
     "output_type": "stream",
     "text": "[[0.00000000e+000 0.00000000e+000]\n [1.49166815e-154 1.46285969e-047]]\n"
    }
   ],
   "source": [
    "dr = ar[np.ix_([3, 5],[0, 2])] # 3,5행 0,2열 선택 \n",
    "print(dr)"
   ]
  },
  {
   "cell_type": "code",
   "execution_count": 63,
   "metadata": {},
   "outputs": [
    {
     "name": "stdout",
     "output_type": "stream",
     "text": "[ 0  1  2  3  4  5  6  7  8  9 10 11 12 13 14 15]\n"
    }
   ],
   "source": [
    "# 행과 열의 순서 변경\n",
    "ar = np.arange(0, 16) \n",
    "print(ar)"
   ]
  },
  {
   "cell_type": "code",
   "execution_count": 64,
   "metadata": {},
   "outputs": [
    {
     "name": "stdout",
     "output_type": "stream",
     "text": "[[ 0  1  2  3]\n [ 4  5  6  7]\n [ 8  9 10 11]\n [12 13 14 15]]\n[[ 0  4  8 12]\n [ 1  5  9 13]\n [ 2  6 10 14]\n [ 3  7 11 15]]\n[[ 0  4  8 12]\n [ 1  5  9 13]\n [ 2  6 10 14]\n [ 3  7 11 15]]\n"
    }
   ],
   "source": [
    "# 2차원 배열로 변환\n",
    "br = ar.reshape(4, 4) \n",
    "print(br)\n",
    "# 행렬 변환 - 2차원은 T나 transpose 가 동일 (3차원일때 차이가 있음) \n",
    "print(br.T)\n",
    "print(br.transpose())"
   ]
  },
  {
   "cell_type": "code",
   "execution_count": 65,
   "metadata": {},
   "outputs": [
    {
     "name": "stdout",
     "output_type": "stream",
     "text": "[[[ 0  1  2  3]\n  [ 4  5  6  7]]\n\n [[ 8  9 10 11]\n  [12 13 14 15]]]\n[[[ 0  8]\n  [ 4 12]]\n\n [[ 1  9]\n  [ 5 13]]\n\n [[ 2 10]\n  [ 6 14]]\n\n [[ 3 11]\n  [ 7 15]]]\n[[[ 0  4]\n  [ 1  5]\n  [ 2  6]\n  [ 3  7]]\n\n [[ 8 12]\n  [ 9 13]\n  [10 14]\n  [11 15]]]\n"
    }
   ],
   "source": [
    "# 3차원으로 변환\n",
    "cr = ar.reshape((2, 2, 4))\n",
    "print(cr) \n",
    "# 4, 2, 2 로 변경 \n",
    "print(cr.transpose())\n",
    "# 2, 4, 2 로 변경  \n",
    "print(cr.transpose(0, 2, 1))"
   ]
  },
  {
   "cell_type": "code",
   "execution_count": 66,
   "metadata": {},
   "outputs": [
    {
     "name": "stdout",
     "output_type": "stream",
     "text": "[0 1 2 3 4]\n"
    }
   ],
   "source": [
    "# 배열이 모든 요소에게 함수를 적용해서 새로운 배열 만들기 \n",
    "ar = np.arange(0, 5) \n",
    "print(ar)"
   ]
  },
  {
   "cell_type": "code",
   "execution_count": 67,
   "metadata": {},
   "outputs": [
    {
     "name": "stdout",
     "output_type": "stream",
     "text": "[5 6 7 8 9]\n"
    }
   ],
   "source": [
    "#위의 배열에 전부 5를 더한 결과를 가지고 새로운 배열을 생성 \n",
    "def plus5(x) :\n",
    "    return x + 5 \n",
    "\n",
    "# 벡터화된 함수를 생성\n",
    "vec_func = np.vectorize(plus5)\n",
    "print(vec_func(ar))"
   ]
  },
  {
   "cell_type": "code",
   "execution_count": 68,
   "metadata": {},
   "outputs": [
    {
     "name": "stdout",
     "output_type": "stream",
     "text": "[5 6 7 8 9]\n"
    }
   ],
   "source": [
    "# 람다 함수 이용 \n",
    "vec_func = np.vectorize(lambda x: x + 5)\n",
    "\n",
    "#벡터화된 함수를 적용\n",
    "result = vec_func(ar)\n",
    "print(result)"
   ]
  },
  {
   "cell_type": "code",
   "execution_count": 69,
   "metadata": {},
   "outputs": [
    {
     "name": "stdout",
     "output_type": "stream",
     "text": "['T', '__abs__', '__add__', '__and__', '__array__', '__array_finalize__', '__array_function__', '__array_interface__', '__array_prepare__', '__array_priority__', '__array_struct__', '__array_ufunc__', '__array_wrap__', '__bool__', '__class__', '__complex__', '__contains__', '__copy__', '__deepcopy__', '__delattr__', '__delitem__', '__dir__', '__divmod__', '__doc__', '__eq__', '__float__', '__floordiv__', '__format__', '__ge__', '__getattribute__', '__getitem__', '__gt__', '__hash__', '__iadd__', '__iand__', '__ifloordiv__', '__ilshift__', '__imatmul__', '__imod__', '__imul__', '__index__', '__init__', '__init_subclass__', '__int__', '__invert__', '__ior__', '__ipow__', '__irshift__', '__isub__', '__iter__', '__itruediv__', '__ixor__', '__le__', '__len__', '__lshift__', '__lt__', '__matmul__', '__mod__', '__mul__', '__ne__', '__neg__', '__new__', '__or__', '__pos__', '__pow__', '__radd__', '__rand__', '__rdivmod__', '__reduce__', '__reduce_ex__', '__repr__', '__rfloordiv__', '__rlshift__', '__rmatmul__', '__rmod__', '__rmul__', '__ror__', '__rpow__', '__rrshift__', '__rshift__', '__rsub__', '__rtruediv__', '__rxor__', '__setattr__', '__setitem__', '__setstate__', '__sizeof__', '__str__', '__sub__', '__subclasshook__', '__truediv__', '__xor__', 'all', 'any', 'argmax', 'argmin', 'argpartition', 'argsort', 'astype', 'base', 'byteswap', 'choose', 'clip', 'compress', 'conj', 'conjugate', 'copy', 'ctypes', 'cumprod', 'cumsum', 'data', 'diagonal', 'dot', 'dtype', 'dump', 'dumps', 'fill', 'flags', 'flat', 'flatten', 'getfield', 'imag', 'item', 'itemset', 'itemsize', 'max', 'mean', 'min', 'nbytes', 'ndim', 'newbyteorder', 'nonzero', 'partition', 'prod', 'ptp', 'put', 'ravel', 'real', 'repeat', 'reshape', 'resize', 'round', 'searchsorted', 'setfield', 'setflags', 'shape', 'size', 'sort', 'squeeze', 'std', 'strides', 'sum', 'swapaxes', 'take', 'tobytes', 'tofile', 'tolist', 'tostring', 'trace', 'transpose', 'var', 'view']\n"
    }
   ],
   "source": [
    "#ndarray 가진 속성과 메소드 확인\n",
    "print(dir(np.ndarray))"
   ]
  },
  {
   "cell_type": "code",
   "execution_count": 70,
   "metadata": {},
   "outputs": [
    {
     "name": "stdout",
     "output_type": "stream",
     "text": "[0 1 2 3 4]\n[100. 101. 102. 103. 104.]\n"
    }
   ],
   "source": [
    "# 동일한 자원의 동일한 크기의 배열 연산 \n",
    "# 각 요소마다 연산해서 동일한 크기의 배열로 리턴 \n",
    "\n",
    "ar = np.arange(0, 5)\n",
    "br = np.linspace(100, 105, num=5, endpoint=False) # 100부터 105 까지 5개로 분할하는데 마지막 숫자는 미포함 \n",
    "print(ar)\n",
    "print(br) "
   ]
  },
  {
   "cell_type": "code",
   "execution_count": 71,
   "metadata": {},
   "outputs": [
    {
     "name": "stdout",
     "output_type": "stream",
     "text": "[100. 102. 104. 106. 108.]\n[False False False False False]\n[ True False False False False]\n"
    }
   ],
   "source": [
    "result = ar + br    # 덧셈 , 숫자배열\n",
    "print(result) \n",
    "result = ar > br    # 크기비교 , bool 배열 \n",
    "print(result)\n",
    "result = np.logical_xor(ar, br) # 논리연산 - 0 이 아닌 숫자는 True\n",
    "print(result)"
   ]
  },
  {
   "cell_type": "code",
   "execution_count": 72,
   "metadata": {},
   "outputs": [
    {
     "name": "stdout",
     "output_type": "stream",
     "text": "[  0 100 400]\n"
    }
   ],
   "source": [
    "# 차원이 다른 배열의 연산 - Broadcast \n",
    "ar = np.array([100, 200, 500])\n",
    "# 배열의 각 요소에서 100을 뺀 후 배열로 리턴 \n",
    "result = ar - 100\n",
    "print(result)"
   ]
  },
  {
   "cell_type": "code",
   "execution_count": 73,
   "metadata": {},
   "outputs": [
    {
     "name": "stdout",
     "output_type": "stream",
     "text": "[[0 1 2]\n [3 4 5]]\n[[100 201 502]\n [103 204 505]]\n"
    }
   ],
   "source": [
    "br = np.arange(0, 6) \n",
    "cr = br.reshape(2, 3) \n",
    "print(cr) \n",
    "\n",
    "result = ar + cr\n",
    "print(result)"
   ]
  },
  {
   "cell_type": "code",
   "execution_count": 74,
   "metadata": {},
   "outputs": [],
   "source": [
    "# # 배열 크기가 달라서 계산 불가\n",
    "# br = br.reshape(3, 2) \n",
    "# result = ar + dr\n",
    "# print(result) "
   ]
  },
  {
   "cell_type": "code",
   "execution_count": 75,
   "metadata": {},
   "outputs": [
    {
     "name": "stdout",
     "output_type": "stream",
     "text": "[ True  True False  True]\n[100 200  28]\n"
    }
   ],
   "source": [
    "# boolean 색인\n",
    "ar = np.array([100, 200, 301, 28])\n",
    "print(ar % 2 == 0)\n",
    "# 배열의 인덱스 자리에 bool 배열을 대입하면 True인 데이터만 리턴 \n",
    "print(ar[ar % 2 == 0])"
   ]
  },
  {
   "cell_type": "code",
   "execution_count": 76,
   "metadata": {},
   "outputs": [
    {
     "name": "stdout",
     "output_type": "stream",
     "text": "[10 33 20 35 18 11 45 34  5 44  8  0 21 12  6 38 26 30 25 40 28 24 37 46\n 43 47 32 23 14 39 15 17  7  3 42 41 36 19 13  1 31  4 27  2 22 29  9 16]\n\n[ 1.37700072 -1.18738682  0.07939305  0.10796863  0.5069511 ]\n\n[-1.74976547  0.3426804   1.1530358  -0.25243604  0.98132079]\n\n[ 0.51421884  0.22117967 -1.07004333 -0.18949583  0.25500144]\n"
    }
   ],
   "source": [
    "# 난수 생성\n",
    "# 배열 생성\n",
    "ar = np.arange(0, 48)\n",
    "np.random.shuffle(ar)   # 배열의 데이터 순서를 랜덤하게 배치\n",
    "print(ar)\n",
    "print()\n",
    "print(np.random.normal(size=5))  # 5개의 랜덤한 숫자를 추출\n",
    "print()\n",
    "# seed 고정한 상태로 5개의 랜덤한 숫자를 추출 - 동일한값 출력 \n",
    "np.random.seed(seed=100)  # seed 고정 \n",
    "print(np.random.normal(size=5))\n",
    "print()\n",
    "print(np.random.normal(size=5))"
   ]
  },
  {
   "cell_type": "code",
   "execution_count": 77,
   "metadata": {},
   "outputs": [
    {
     "name": "stdout",
     "output_type": "stream",
     "text": "[[1 2 3]\n [4 5 6]\n [7 8 9]]\n\n45\n\n[12 15 18]\n[ 6 15 24]\n"
    }
   ],
   "source": [
    "# 기본 통계 함수 \n",
    "ar = np.arange(1, 10)\n",
    "ar = ar.reshape(3, 3)\n",
    "print(ar) \n",
    "print()\n",
    "print(np.sum(ar))   # 모든 데이터를 더한 결과\n",
    "print()\n",
    "# axis 옵션은 차후로도 동일한 용도로 사용되므로 기억 \n",
    "print(np.sum(ar, axis=0))  # 열 단위 합계 \n",
    "print(np.sum(ar, axis=1))  # 행 단위 함계"
   ]
  },
  {
   "cell_type": "code",
   "execution_count": 78,
   "metadata": {},
   "outputs": [
    {
     "name": "stdout",
     "output_type": "stream",
     "text": "[100 201 301 400]\n"
    }
   ],
   "source": [
    "# 2개의 배열에서 데이터 골라서 새로운 배열 만들기\n",
    "ar = np.array([100, 200, 300, 400])\n",
    "br = np.array([101, 201, 301, 401])\n",
    "cond = np.array([True, False, False, True])\n",
    "\n",
    "result = np.where(cond, ar, br) #cond 값이 True면 ar에서, False 이면 br에서 추출 \n",
    "print(result)"
   ]
  },
  {
   "cell_type": "code",
   "execution_count": 79,
   "metadata": {},
   "outputs": [
    {
     "name": "stdout",
     "output_type": "stream",
     "text": "[ 10  40  80 100 200 500]\n\n[[ 40 200  10]\n [100 500  80]]\n\n[[ 10  40 200]\n [ 80 100 500]]\n"
    }
   ],
   "source": [
    "#데이터 정렬\n",
    "ar = np.array([40, 200, 10, 100, 500,80])\n",
    "result = np.sort(ar) \n",
    "print(result)\n",
    "print()\n",
    "\n",
    "br = ar.reshape(2, 3)\n",
    "print(br)\n",
    "print()\n",
    "\n",
    "br.sort(axis=1)\n",
    "print(br)"
   ]
  },
  {
   "cell_type": "code",
   "execution_count": 80,
   "metadata": {},
   "outputs": [
    {
     "name": "stdout",
     "output_type": "stream",
     "text": "[[  1.   2.   3.   4. 101. 102. 103. 104.]\n [  5.   6.   7.   8. 105. 106. 107. 108.]\n [  9.  10.  11.  12. 109. 110. 111. 112.]]\n\n[[  1.   2.   3.   4.]\n [  5.   6.   7.   8.]\n [  9.  10.  11.  12.]\n [101. 102. 103. 104.]\n [105. 106. 107. 108.]\n [109. 110. 111. 112.]]\n"
    }
   ],
   "source": [
    "#일련 번호 형태로 배열만들기 \n",
    "ar = np.arange(1, 13)\n",
    "\n",
    "#3행 4열로 변경\n",
    "ar = ar.reshape(3, 4) \n",
    "\n",
    "# 일정한 간격을 가지고 만들기 \n",
    "br = np.linspace(101, 112, num=12)\n",
    "br= br.reshape(3, 4) \n",
    "# 행 방향으로 합치기 \n",
    "print(np.hstack([ar, br]))\n",
    "print()\n",
    "# 열 방향으로 합치기 \n",
    "print(np.vstack([ar, br]))"
   ]
  },
  {
   "cell_type": "code",
   "execution_count": null,
   "metadata": {},
   "outputs": [],
   "source": []
  },
  {
   "cell_type": "code",
   "execution_count": null,
   "metadata": {},
   "outputs": [],
   "source": []
  }
 ]
}