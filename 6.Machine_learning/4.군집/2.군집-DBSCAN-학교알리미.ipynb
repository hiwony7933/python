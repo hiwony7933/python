{
 "nbformat": 4,
 "nbformat_minor": 2,
 "metadata": {
  "language_info": {
   "name": "python",
   "codemirror_mode": {
    "name": "ipython",
    "version": 3
   },
   "version": "3.7.4-final"
  },
  "orig_nbformat": 2,
  "file_extension": ".py",
  "mimetype": "text/x-python",
  "name": "python",
  "npconvert_exporter": "python",
  "pygments_lexer": "ipython3",
  "version": 3,
  "kernelspec": {
   "name": "python37464bitanaconda3condae788c5fa592f4db3927eca9f2fe371f6",
   "display_name": "Python 3.7.4 64-bit ('anaconda3': conda)"
  }
 },
 "cells": [
  {
   "cell_type": "code",
   "execution_count": 89,
   "metadata": {},
   "outputs": [],
   "source": [
    "# 학교알리미 공개용 데이터 중에서 서울시 중학교 졸업생의 진로현황 데이터셋을 사용하여 \n",
    "# 고등학교 진학률이 비슷한 중학교끼리 군집(cluster)을 만들어 보자\n",
    "\n",
    "import pandas as pd \n",
    "import folium \n",
    "# g학교알리미 공개용 데이터 중에서 서울시 중학교 졸업생의 진로현황 데이터셋\n",
    "df = pd.read_excel('../data/2016_middle_shcool_graduates_report.xlsx', header=0)"
   ]
  },
  {
   "cell_type": "code",
   "execution_count": 90,
   "metadata": {},
   "outputs": [
    {
     "output_type": "stream",
     "name": "stdout",
     "text": "['Unnamed: 0' '지역' '학교명' '코드' '유형' '주야' '남학생수' '여학생수' '일반고' '특성화고' '과학고'\n '외고_국제고' '예고_체고' '마이스터고' '자사고' '자공고' '기타진학' '취업' '미상' '위도' '경도']\n"
    }
   ],
   "source": [
    "# IPython console 디스플레이 옵션 설정하기\n",
    "pd.set_option('display.width', None)                    # 출력화면의 너비\n",
    "pd.set_option('display.max_rows', 100)                  # 출력할 행의 개수 한도\n",
    "pd.set_option('display.max_columns', 30)                # 출력할 열의 개수 한도\n",
    "pd.set_option('display.max_colwidth', 20)               # 출력할 열의 너비\n",
    "pd.set_option('display.unicode.east_asian_width', True) # 유니코드 사용 너비 조정\n",
    "\n",
    "# 데이터프레임의 열 이름 출력 \n",
    "print(df.columns.values)"
   ]
  },
  {
   "cell_type": "code",
   "execution_count": 91,
   "metadata": {},
   "outputs": [
    {
     "output_type": "stream",
     "name": "stdout",
     "text": "<class 'pandas.core.frame.DataFrame'>\nRangeIndex: 415 entries, 0 to 414\nData columns (total 21 columns):\nUnnamed: 0    415 non-null int64\n지역            415 non-null object\n학교명           415 non-null object\n코드            415 non-null int64\n유형            415 non-null object\n주야            415 non-null object\n남학생수          415 non-null int64\n여학생수          415 non-null int64\n일반고           415 non-null float64\n특성화고          415 non-null float64\n과학고           415 non-null float64\n외고_국제고        415 non-null float64\n예고_체고         415 non-null float64\n마이스터고         415 non-null float64\n자사고           415 non-null float64\n자공고           415 non-null float64\n기타진학          415 non-null float64\n취업            415 non-null int64\n미상            415 non-null float64\n위도            415 non-null float64\n경도            415 non-null float64\ndtypes: float64(12), int64(5), object(4)\nmemory usage: 68.2+ KB\nNone\n"
    }
   ],
   "source": [
    "# 자료형 확인\n",
    "print(df.info())"
   ]
  },
  {
   "cell_type": "code",
   "execution_count": 92,
   "metadata": {},
   "outputs": [
    {
     "output_type": "stream",
     "name": "stdout",
     "text": "Unnamed: 0     0\n지역           0\n학교명         0\n코드           0\n유형           0\n주야           0\n남학생수       0\n여학생수       0\n일반고         0\n특성화고       0\n과학고         0\n외고_국제고    0\n예고_체고      0\n마이스터고     0\n자사고         0\n자공고         0\n기타진학       0\n취업           0\n미상           0\n위도           0\n경도           0\ndtype: int64\n"
    }
   ],
   "source": [
    "# nan 데이터 포함 유무 확인\n",
    "print(df.isnull().sum(axis=0))"
   ]
  },
  {
   "cell_type": "code",
   "execution_count": 93,
   "metadata": {},
   "outputs": [
    {
     "output_type": "stream",
     "name": "stdout",
     "text": "Unnamed: 0        코드    남학생수    여학생수      일반고    특성화고  \\\ncount  415.000000  415.000000  415.000000  415.000000  415.000000  415.000000   \nmean   207.000000    3.197590  126.532530  116.173494    0.623080    0.149684   \nstd    119.944432    0.804272   79.217906   76.833082    0.211093    0.102977   \nmin      0.000000    3.000000    0.000000    0.000000    0.000000    0.000000   \n25%    103.500000    3.000000   80.000000   71.500000    0.566500    0.065500   \n50%    207.000000    3.000000  129.000000  118.000000    0.681000    0.149000   \n75%    310.500000    3.000000  177.500000  161.500000    0.758000    0.224500   \nmax    414.000000    9.000000  337.000000  422.000000    0.908000    0.477000   \n\n           과학고  외고_국제고   예고_체고  마이스터고      자사고  \\\ncount  415.000000   415.000000  415.000000  415.000000  415.000000   \nmean     0.004378     0.013687    0.017393    0.005251    0.080971   \nstd      0.006739     0.011548    0.092006    0.007557    0.079136   \nmin      0.000000     0.000000    0.000000    0.000000    0.000000   \n25%      0.000000     0.006000    0.000000    0.000000    0.027000   \n50%      0.000000     0.012000    0.005000    0.003000    0.060000   \n75%      0.006000     0.019000    0.011000    0.007000    0.111500   \nmax      0.055000     0.110000    0.940000    0.046000    0.485000   \n\n           자공고    기타진학   취업        미상        위도        경도  \ncount  415.000000  415.000000  415.0  415.000000  415.000000  415.000000  \nmean     0.034296    0.069571    0.0    0.001670   37.491969  127.032792  \nstd      0.080302    0.235630    0.0    0.003697    0.348926    0.265245  \nmin      0.000000    0.000000    0.0    0.000000   34.979940  126.639561  \n25%      0.000000    0.000000    0.0    0.000000   37.501934  126.921758  \n50%      0.000000    0.007000    0.0    0.000000   37.547702  127.013579  \n75%      0.019000    0.015000    0.0    0.003000   37.590670  127.071265  \nmax      0.531000    1.000000    0.0    0.036000   37.694777  129.106974  \n"
    }
   ],
   "source": [
    "# 통계 요약정보 확인\n",
    "print(df.describe())"
   ]
  },
  {
   "cell_type": "code",
   "execution_count": 94,
   "metadata": {},
   "outputs": [],
   "source": [
    "# 1. 지도에 위치 표시 \n",
    "mschool_map = folium.Map(location=[37.55, 126.98], tiles='Stamen Terrain', zoom_start=12)\n",
    "\n",
    "# 중학교 위치정보를 CirclMarker로 표시 \n",
    "for name, lat, lng in zip(df.학교명, df.위도, df.경도):\n",
    "    folium.CircleMarker([lat, lng],\n",
    "        radius=5,               # 원의 반지름\n",
    "        color='brown',          # 원의 둘레 색상\n",
    "        fill=True,              \n",
    "        fill_color='coral',     # 원을 채우는 색\n",
    "        fill_opacity=0.7,       # 투명도\n",
    "        popup=name              # 팝업기능(원형마커를 클릭하면 학교명이 팝업으로 출력)\n",
    "        ).add_to(mschool_map)\n",
    "\n",
    "mschool_map.save('seoul_mschool_location.html')"
   ]
  },
  {
   "cell_type": "code",
   "execution_count": 95,
   "metadata": {},
   "outputs": [],
   "source": [
    "# 2. 데이터 전처리\n",
    "from sklearn import preprocessing\n",
    "\n",
    "label_encoder = preprocessing.LabelEncoder()    # label encdoer생성\n",
    "\n",
    "# 모델이 인식할 수 없는 문자형 데이터를 원핫인코딩으로 처리하여 더미 변수에 저장\n",
    "onehot_location = label_encoder.fit_transform(df['지역'])   # 지역구 이름\n",
    "onehot_code = label_encoder.fit_transform(df['코드'])       # 3, 5, 9\n",
    "onehot_type = label_encoder.fit_transform(df['유형'])       # 국립, 공립, 사립\n",
    "onehot_day = label_encoder.fit_transform(df['주야'])        # 주간, 야간\n",
    "\n",
    "# 원핫 인코딩된 결과를 새로운 열(변수)에 할당\n",
    "df['location'] = onehot_location\n",
    "df['code'] = onehot_code\n",
    "df['type'] = onehot_type\n",
    "df['day'] = onehot_day"
   ]
  },
  {
   "cell_type": "code",
   "execution_count": 96,
   "metadata": {},
   "outputs": [
    {
     "output_type": "stream",
     "name": "stdout",
     "text": "Unnamed: 0    지역                               학교명  코드  유형  주야  \\\n0           0  성북구  서울대학교사범대학부설중학교.....       3  국립  주간   \n1           1  종로구  서울대학교사범대학부설여자중학교...     3  국립  주간   \n2           2  강남구           개원중학교                     3  공립  주간   \n3           3  강남구           개포중학교                     3  공립  주간   \n4           4  서초구           경원중학교                     3  공립  주간   \n\n   남학생수  여학생수  일반고  특성화고  과학고  외고_국제고  예고_체고  \\\n0       277         0   0.585     0.148   0.018        0.007      0.000   \n1         0       256   0.680     0.199   0.000        0.035      0.008   \n2       170       152   0.817     0.047   0.009        0.012      0.003   \n3        83        72   0.755     0.097   0.013        0.013      0.019   \n4       199       212   0.669     0.017   0.007        0.010      0.005   \n\n   마이스터고  자사고  자공고  기타진학  취업   미상       위도        경도  \\\n0       0.011   0.227   0.000     0.004     0  0.000  37.594942  127.038909   \n1       0.000   0.043   0.004     0.031     0  0.000  37.577473  127.003857   \n2       0.006   0.090   0.003     0.009     0  0.003  37.491637  127.071744   \n3       0.019   0.065   0.000     0.019     0  0.000  37.480439  127.062201   \n4       0.000   0.282   0.000     0.010     0  0.000  37.510750  127.008900   \n\n   location  code  type  day  \n0        16     0     1    0  \n1        22     0     1    0  \n2         0     0     0    0  \n3         0     0     0    0  \n4        14     0     0    0  \n"
    }
   ],
   "source": [
    "print(df.head())"
   ]
  },
  {
   "cell_type": "code",
   "execution_count": 97,
   "metadata": {},
   "outputs": [
    {
     "output_type": "stream",
     "name": "stdout",
     "text": "분석1.과학고, 외고_국제고, 자사고 진학률로 군집\n   과학고  외고_국제고  자사고\n0   0.018        0.007   0.227\n1   0.000        0.035   0.043\n2   0.009        0.012   0.090\n3   0.013        0.013   0.065\n4   0.007        0.010   0.282\n5   0.007        0.007   0.108\n6   0.015        0.036   0.330\n7   0.032        0.005   0.206\n8   0.013        0.029   0.167\n9   0.006        0.028   0.114\n"
    }
   ],
   "source": [
    "# sklearn 라이브러리에서 cluster 군집 모델 가져오기 \n",
    "from sklearn import cluster\n",
    "\n",
    "# 분석1. 과학고, 외고_국제고, 자사고 진학률로 군집\n",
    "\n",
    "# 분석에 사용할 속성을 선택(과학고, 외고_국제고, 자사고 진학률)\n",
    "print('분석1.과학고, 외고_국제고, 자사고 진학률로 군집')\n",
    "columns_list = [10, 11, 14]     # 각컬럼의 인덱스 번호(위치)\n",
    "x = df.iloc[ : , columns_list]  # 행전체, 10, 11, 14 위치의 컬럼(열)\n",
    "print(x[ :10])"
   ]
  },
  {
   "cell_type": "code",
   "execution_count": 98,
   "metadata": {},
   "outputs": [
    {
     "output_type": "stream",
     "name": "stdout",
     "text": "[-1 -1 -1 -1 -1 -1 -1 -1 -1 -1 -1 -1 -1  0 -1 -1 -1 -1 -1 -1  2 -1  0 -1\n -1 -1 -1 -1  0 -1 -1 -1 -1 -1  0  3 -1 -1 -1 -1 -1 -1 -1  0 -1 -1  1  0\n -1 -1 -1  0 -1 -1 -1 -1  0 -1  0  0 -1 -1  0 -1 -1 -1  0  0 -1 -1  0 -1\n -1 -1  0 -1 -1 -1  0  2  0  0  0  0  0 -1 -1 -1  0 -1  0 -1 -1  0 -1  0\n -1  0  0 -1 -1 -1 -1  1  0 -1  0  0 -1 -1 -1  0 -1 -1 -1 -1 -1  0  1 -1\n -1  0  2  0 -1 -1  1 -1 -1 -1  0  0  0 -1 -1  0 -1 -1 -1  0  0 -1 -1 -1\n -1  0 -1 -1 -1  0 -1 -1 -1  0 -1  0  0 -1 -1 -1 -1 -1  0 -1  0  0 -1 -1\n -1 -1 -1  0 -1 -1 -1  1  0  3  1 -1  0  0 -1  0 -1 -1  0  0  2 -1 -1  3\n  0  0 -1 -1 -1 -1  0 -1  0  0 -1  0  0  0 -1 -1  0 -1 -1 -1 -1 -1  2  0\n -1 -1 -1 -1 -1 -1 -1 -1 -1 -1 -1 -1 -1 -1  0 -1 -1 -1  0 -1 -1 -1 -1 -1\n -1 -1 -1 -1 -1 -1 -1 -1 -1  0 -1 -1 -1  0  0 -1 -1  0 -1  3  0  2 -1 -1\n -1 -1  0 -1 -1 -1  0 -1  0  0 -1 -1 -1 -1 -1  1 -1  0  1 -1  0  0  1 -1\n  2 -1  0 -1 -1 -1 -1  0 -1 -1  1  0 -1  0 -1 -1  0  3  0 -1 -1 -1  2 -1\n -1 -1 -1  0  0  0  1 -1 -1 -1 -1 -1 -1 -1 -1  0 -1  0 -1  0 -1 -1  0  0\n -1 -1 -1  0 -1  0 -1 -1  0 -1 -1 -1  0  1 -1 -1 -1  0  1  1  1 -1 -1 -1\n -1 -1 -1 -1 -1 -1 -1 -1 -1 -1 -1 -1 -1 -1 -1 -1 -1  0 -1 -1 -1  0 -1  0\n  1  1  1  1  1  1  1  1  1  1  1  1  1  1  1  1  1  1  1  1  1  1  1  1\n  1  1  1  1  1  1  0]\n"
    }
   ],
   "source": [
    "# 설명 변수 데이터를 정규화\n",
    "x = preprocessing.StandardScaler().fit(x).transform(x)\n",
    "\n",
    "# DBSCAN 모델 객체 생성\n",
    "# 밀도 계산의 기준이 되는 반지름 R(eps=0.2)과 최소 포인트 개수 M(min_samples=5) 설정\n",
    "# eps= 값에 따라 민감하게 반응. \n",
    "# 각 조건 별로 진행을 해봐야됨.\n",
    "dbm = cluster.DBSCAN(eps=0.2, min_samples=5)\n",
    "\n",
    "# DBSCAN 모델학습\n",
    "dbm.fit(x)\n",
    "\n",
    "# 예측 (굮집) 결과를 출력한 열(속성)의 값 구하기\n",
    "# 모델의 labels_ 속성으로 확인하면 5개의 클러스터 값 ( -1, 0, 1, 2, 3 ) 으로 나타남\n",
    "cluster_label = dbm.labels_\n",
    "print(cluster_label) \n",
    "# -1, 0, 1, 2, 3 의 5가지의 클러스터"
   ]
  },
  {
   "cell_type": "code",
   "execution_count": 99,
   "metadata": {},
   "outputs": [
    {
     "output_type": "stream",
     "name": "stdout",
     "text": "Unnamed: 0    지역                               학교명  코드  유형  주야  \\\n0           0  성북구  서울대학교사범대학부설중학교.....       3  국립  주간   \n1           1  종로구  서울대학교사범대학부설여자중학교...     3  국립  주간   \n2           2  강남구           개원중학교                     3  공립  주간   \n3           3  강남구           개포중학교                     3  공립  주간   \n4           4  서초구           경원중학교                     3  공립  주간   \n\n   남학생수  여학생수  일반고  특성화고  과학고  외고_국제고  예고_체고  \\\n0       277         0   0.585     0.148   0.018        0.007      0.000   \n1         0       256   0.680     0.199   0.000        0.035      0.008   \n2       170       152   0.817     0.047   0.009        0.012      0.003   \n3        83        72   0.755     0.097   0.013        0.013      0.019   \n4       199       212   0.669     0.017   0.007        0.010      0.005   \n\n   마이스터고  자사고  자공고  기타진학  취업   미상       위도        경도  \\\n0       0.011   0.227   0.000     0.004     0  0.000  37.594942  127.038909   \n1       0.000   0.043   0.004     0.031     0  0.000  37.577473  127.003857   \n2       0.006   0.090   0.003     0.009     0  0.003  37.491637  127.071744   \n3       0.019   0.065   0.000     0.019     0  0.000  37.480439  127.062201   \n4       0.000   0.282   0.000     0.010     0  0.000  37.510750  127.008900   \n\n   location  code  type  day  Cluster  \n0        16     0     1    0       -1  \n1        22     0     1    0       -1  \n2         0     0     0    0       -1  \n3         0     0     0    0       -1  \n4        14     0     0    0       -1  \n"
    }
   ],
   "source": [
    "# 예측(군집) 결과를 저장할 열(Cluster)을 데이터프레임에 추가 \n",
    "df['Cluster'] = cluster_label       # cluster 열이 추가됨 \n",
    "print(df.head())"
   ]
  },
  {
   "cell_type": "code",
   "execution_count": 100,
   "metadata": {},
   "outputs": [
    {
     "output_type": "stream",
     "name": "stdout",
     "text": "* key : -1\n* number : 255\n     지역                               학교명  유형  과학고  외고_국제고  \\\n0  성북구  서울대학교사범대학부설중학교.....    국립   0.018        0.007   \n1  종로구  서울대학교사범대학부설여자중학교...  국립   0.000        0.035   \n2  강남구           개원중학교                  공립   0.009        0.012   \n3  강남구           개포중학교                  공립   0.013        0.013   \n4  서초구           경원중학교                  공립   0.007        0.010   \n\n   자사고  \n0   0.227  \n1   0.043  \n2   0.090  \n3   0.065  \n4   0.282  \n\n\n* key : 0\n* number : 102\n      지역          학교명  유형  과학고  외고_국제고  자사고\n13  서초구  동덕여자중학교  사립     0.0        0.022   0.038\n22  강남구      수서중학교  공립     0.0        0.019   0.044\n28  서초구      언남중학교  공립     0.0        0.015   0.050\n34  강남구      은성중학교  사립     0.0        0.016   0.065\n43  송파구      거원중학교  공립     0.0        0.021   0.054\n\n\n* key : 1\n* number : 45\n         지역          학교명  유형  과학고  외고_국제고  자사고\n46     강동구      동신중학교  사립     0.0          0.0   0.044\n103    양천구      신원중학교  공립     0.0          0.0   0.006\n118    구로구      개봉중학교  공립     0.0          0.0   0.012\n126  영등포구      대림중학교  공립     0.0          0.0   0.050\n175    중랑구  혜원여자중학교  사립     0.0          0.0   0.004\n\n\n* key : 2\n* number : 8\n       지역      학교명  유형  과학고  외고_국제고  자사고\n20   서초구  서초중학교  공립   0.003        0.013   0.085\n79   강동구  한영중학교  사립   0.004        0.011   0.077\n122  구로구  구일중학교  공립   0.004        0.012   0.079\n188  동작구  대방중학교  공립   0.003        0.015   0.076\n214  도봉구  도봉중학교  공립   0.004        0.011   0.072\n\n\n* key : 3\n* number : 5\n         지역      학교명  유형  과학고  외고_국제고  자사고\n35     서초구  이수중학교  공립     0.0        0.004   0.100\n177  동대문구  휘경중학교  공립     0.0        0.004   0.094\n191    동작구  문창중학교  공립     0.0        0.004   0.084\n259    마포구  성사중학교  공립     0.0        0.004   0.078\n305    강북구  강북중학교  공립     0.0        0.004   0.088\n\n\n"
    }
   ],
   "source": [
    "# 클러스터 값으로 그룹화를 하고, 그룹별로 내용 출력\n",
    "grouped_cols = [1, 2, 4] + columns_list     # 인덱스(지역명, 학교명, 유형) + 기존 3개(10, 11, 14)\n",
    "grouped = df.groupby('Cluster')         # 클러스터값 기준으로 그룹화시킴 \n",
    "for key, group in grouped : \n",
    "    print('* key :', key)               # 클러스터 값: -1, 0, 1, 2, 3\n",
    "    print('* number :', len(group))     # 각 클러스터 속한 학교수\n",
    "    print(group.iloc[ : , grouped_cols].head())  # 5개의 데이터 출력\n",
    "    print('\\n')\n",
    "\n",
    "# 클러스터 -1 : Outlier , 제외\n",
    "# 클러스터 0 : 외고_국제고와 자사고 합격률은 높지만 과학고 합격자가 없다.\n",
    "# 클러스터 1 : 자사고 합격자만 존재하는 그룹\n",
    "# 클러스터 2 : 자사고 합격률이 매우 높으면서 과학고와 외고_국제고 합격자도 일부 존재한다.\n",
    "# 클러스터 3 : 과학고 합격자 없이 외고_국제고와 자사고 합격자를 배출한 점은 클러스터 0과 비슷하지만, 외고_국제고 합격률이 클러스터 0에 비해 현저하게 낮다. "
   ]
  },
  {
   "cell_type": "code",
   "execution_count": 101,
   "metadata": {},
   "outputs": [],
   "source": [
    "# 그래프로 표현 - 시각화 (클러스터별로)\n",
    "colors = {-1:'gray', 0:'coral', 1:'blue', 2:'green', 3:'red', 4:'purple', 5:'orange', 6:'brown', 7:'brick', 8:'yellow', 9:'magenta', 10:'cyan'}\n",
    "\n",
    "cluster_map = folium.Map(location=[37.55, 126.98], tiles='Stamen Terrain', zoom_start=12)\n",
    "\n",
    "for name, lat, lng, clus in zip(df.학교명, df.위도, df.경도, df.Cluster):\n",
    "    folium.CircleMarker([lat, lng],\n",
    "    radius=5,                   # 원의 반지름\n",
    "    color=colors[clus],         # 원의 둘레 색상\n",
    "    fill=True,\n",
    "    fill_color=colors[clus],    # 원을 채우는 색\n",
    "    fill_opacity=0.7,           # 투명도\n",
    "    popup=name\n",
    "    ).add_to(cluster_map)\n",
    "\n",
    "\n",
    "# 지도를 html 파일로 저장하기\n",
    "cluster_map.save('seoul_mschool_cluster.html')"
   ]
  },
  {
   "cell_type": "code",
   "execution_count": 102,
   "metadata": {},
   "outputs": [
    {
     "output_type": "stream",
     "name": "stdout",
     "text": "분석2. 과학고, 외고_국제고, 자사고 진학률, 유형(국립,공립,사립)으로 군집\n   과학고  외고_국제고  자사고  type\n0   0.018        0.007   0.227     1\n1   0.000        0.035   0.043     1\n2   0.009        0.012   0.090     0\n3   0.013        0.013   0.065     0\n4   0.007        0.010   0.282     0\n"
    }
   ],
   "source": [
    "# 분석2. 과학고, 외고_국제고, 자사고 진학률, 유형(국립,공립,사립)으로 군집\n",
    "\n",
    "# X2 데이터셋에 대하여 위의 과정을 반복(과학고, 외고_국제고, 자사고 진학률, 유형)\n",
    "print('분석2. 과학고, 외고_국제고, 자사고 진학률, 유형(국립,공립,사립)으로 군집')\n",
    "columns_list2 = [10, 11, 14, 23]\n",
    "x2 = df.iloc[:, columns_list2]\n",
    "print(x2[:5])"
   ]
  },
  {
   "cell_type": "code",
   "execution_count": 103,
   "metadata": {},
   "outputs": [
    {
     "output_type": "execute_result",
     "data": {
      "text/plain": "DBSCAN(algorithm='auto', eps=0.2, leaf_size=30, metric='euclidean',\n       metric_params=None, min_samples=5, n_jobs=None, p=None)"
     },
     "metadata": {},
     "execution_count": 103
    }
   ],
   "source": [
    "# 설명 변수 데이터를 정규화\n",
    "x2 = preprocessing.StandardScaler().fit(x2).transform(x2)\n",
    "\n",
    "# DBSCAN 모델 객체 생성\n",
    "# 밀도 계산의 기준이 되는 반지름 R(eps=0.2)과 최소 포인트 개수 M(min_samples=5) 설정\n",
    "dbm2 = cluster.DBSCAN(eps=0.2, min_samples=5)\n",
    "\n",
    "# DBSCAN 모델 학습\n",
    "dbm2.fit(x2)"
   ]
  },
  {
   "cell_type": "code",
   "execution_count": 104,
   "metadata": {},
   "outputs": [
    {
     "output_type": "stream",
     "name": "stdout",
     "text": "* key : -1\n* number : 281\n     지역                               학교명  유형  과학고  외고_국제고  \\\n0  성북구  서울대학교사범대학부설중학교.....    국립   0.018        0.007   \n1  종로구  서울대학교사범대학부설여자중학교...  국립   0.000        0.035   \n2  강남구           개원중학교                  공립   0.009        0.012   \n3  강남구           개포중학교                  공립   0.013        0.013   \n4  서초구           경원중학교                  공립   0.007        0.010   \n\n   자사고  type  \n0   0.227     1  \n1   0.043     1  \n2   0.090     0  \n3   0.065     0  \n4   0.282     0  \n\n\n* key : 0\n* number : 8\n       지역      학교명  유형  과학고  외고_국제고  자사고  type\n22   강남구  수서중학교  공립     0.0        0.019   0.044     0\n43   송파구  거원중학교  공립     0.0        0.021   0.054     0\n51   송파구  방이중학교  공립     0.0        0.021   0.068     0\n93   강서구  방원중학교  공립     0.0        0.019   0.057     0\n164  중랑구  원묵중학교  공립     0.0        0.020   0.062     0\n\n\n* key : 1\n* number : 59\n      지역      학교명  유형  과학고  외고_국제고  자사고  type\n28  서초구  언남중학교  공립     0.0        0.015   0.050     0\n47  강동구  둔촌중학교  공립     0.0        0.010   0.026     0\n58  강동구  성내중학교  공립     0.0        0.013   0.026     0\n62  강동구  신명중학교  공립     0.0        0.009   0.031     0\n67  송파구  오금중학교  공립     0.0        0.015   0.072     0\n\n\n* key : 2\n* number : 6\n         지역          학교명  유형  과학고  외고_국제고  자사고  type\n46     강동구      동신중학교  사립     0.0          0.0   0.044     2\n279  서대문구  중앙여자중학교  사립     0.0          0.0   0.036     2\n282  서대문구      한성중학교  사립     0.0          0.0   0.042     2\n349      중구      장충중학교  사립     0.0          0.0   0.038     2\n354      중구      한양중학교  사립     0.0          0.0   0.034     2\n\n\n* key : 3\n* number : 11\n       지역          학교명  유형  과학고  외고_국제고  자사고  type\n103  양천구      신원중학교  공립     0.0          0.0   0.006     0\n118  구로구      개봉중학교  공립     0.0          0.0   0.012     0\n356  송파구  서울체육중학교  공립     0.0          0.0   0.000     0\n391  광진구    서울광진학교  공립     0.0          0.0   0.000     0\n396  관악구    서울정문학교  공립     0.0          0.0   0.000     0\n\n\n* key : 4\n* number : 7\n       지역      학교명  유형  과학고  외고_국제고  자사고  type\n20   서초구  서초중학교  공립   0.003        0.013   0.085     0\n122  구로구  구일중학교  공립   0.004        0.012   0.079     0\n188  동작구  대방중학교  공립   0.003        0.015   0.076     0\n214  도봉구  도봉중학교  공립   0.004        0.011   0.072     0\n261  마포구  성서중학교  공립   0.004        0.016   0.067     0\n\n\n* key : 5\n* number : 18\n       지역          학교명  유형  과학고  외고_국제고  자사고  type\n175  중랑구  혜원여자중학교  사립     0.0          0.0   0.004     2\n387  강서구        교남학교  사립     0.0          0.0   0.000     2\n388  서초구      다니엘학교  사립     0.0          0.0   0.000     2\n389  강남구        밀알학교  사립     0.0          0.0   0.000     2\n390  관악구        새롬학교  사립     0.0          0.0   0.000     2\n\n\n* key : 6\n* number : 5\n         지역      학교명  유형  과학고  외고_국제고  자사고  type\n126  영등포구  대림중학교  공립     0.0          0.0   0.050     0\n178    동작구  강남중학교  공립     0.0          0.0   0.028     0\n286    성동구  경수중학교  공립     0.0          0.0   0.043     0\n298    성동구  성원중학교  공립     0.0          0.0   0.042     0\n318    강북구  수유중학교  공립     0.0          0.0   0.052     0\n\n\n* key : 7\n* number : 5\n         지역      학교명  유형  과학고  외고_국제고  자사고  type\n35     서초구  이수중학교  공립     0.0        0.004   0.100     0\n177  동대문구  휘경중학교  공립     0.0        0.004   0.094     0\n191    동작구  문창중학교  공립     0.0        0.004   0.084     0\n259    마포구  성사중학교  공립     0.0        0.004   0.078     0\n305    강북구  강북중학교  공립     0.0        0.004   0.088     0\n\n\n* key : 8\n* number : 5\n       지역              학교명  유형  과학고  외고_국제고  자사고  type\n198  관악구  서울문영여자중학교  사립     0.0        0.021   0.014     2\n316  강북구      성암여자중학교  사립     0.0        0.020   0.008     2\n327  성북구      한성여자중학교  사립     0.0        0.022   0.011     2\n334  종로구      덕성여자중학교  사립     0.0        0.023   0.023     2\n414  노원구      한국삼육중학교  사립     0.0        0.024   0.010     2\n\n\n* key : 9\n* number : 5\n       지역          학교명  유형  과학고  외고_국제고  자사고  type\n66   송파구  영파여자중학교  사립     0.0        0.010   0.010     2\n162  중랑구  영란여자중학교  사립     0.0        0.011   0.011     2\n234  도봉구  정의여자중학교  사립     0.0        0.010   0.005     2\n339  용산구  보성여자중학교  사립     0.0        0.007   0.013     2\n344  용산구  신광여자중학교  사립     0.0        0.009   0.017     2\n\n\n* key : 10\n* number : 5\n       지역              학교명  유형  과학고  외고_국제고  자사고  type\n384  종로구          서울농학교  국립     0.0          0.0     0.0     1\n385  마포구        한국우진학교  국립     0.0          0.0     0.0     1\n386  종로구          서울맹학교  국립     0.0          0.0     0.0     1\n410  강남구      국립국악중학교  국립     0.0          0.0     0.0     1\n411  금천구  국립전통예술중학교  국립     0.0          0.0     0.0     1\n\n\n"
    }
   ],
   "source": [
    "# 예측(군집) 결과를 저장핛 열(Cluster2)을 데이터프레임에 추가\n",
    "df['Cluster2'] = dbm2.labels_ # Cluster2 열 추가됨\n",
    "\n",
    "# 클러스터 값으로 그룹화하고, 그룹별로 내용 출력 (첫 5행만 출력)\n",
    "grouped2_cols = [1, 2, 4] + columns_list2   # 1:지역명, 2:학교명, 4:유형\n",
    "grouped2 = df.groupby('Cluster2')\n",
    "\n",
    "for key, group in grouped2:\n",
    "    print('* key :', key)               # 클러스터 값: -1, 0 ~ 10\n",
    "    print('* number :', len(group))     # 각 클러스터 속한 학교수\n",
    "    print(group.iloc[:, grouped2_cols].head()) # 5개의 데이터 출력\n",
    "    print('\\n')"
   ]
  },
  {
   "cell_type": "code",
   "execution_count": 105,
   "metadata": {},
   "outputs": [],
   "source": [
    "cluster2_map = folium.Map(location=[37.55,126.98], tiles='Stamen Terrain', zoom_start=12)\n",
    "for name, lat, lng, clus in zip(df.학교명, df.위도, df.경도, df.Cluster2):\n",
    "    folium.CircleMarker([lat, lng],\n",
    "    radius=5,       # 원의 반지름\n",
    "    color=colors[clus], # 원의 둘레 색상\n",
    "    fill=True,\n",
    "    fill_color=colors[clus], # 원을 채우는 색\n",
    "    fill_opacity=0.7, # 투명도\n",
    "    popup=name\n",
    "    ).add_to(cluster2_map)\n",
    "\n",
    "# 지도를 html 파일로 저장하기\n",
    "cluster2_map.save('seoul_mschool_cluster2.html')"
   ]
  },
  {
   "cell_type": "code",
   "execution_count": 107,
   "metadata": {},
   "outputs": [
    {
     "output_type": "stream",
     "name": "stdout",
     "text": "분석3. 과학고, 외고_국제고 군집\n   과학고  외고_국제고\n0   0.018        0.007\n1   0.000        0.035\n2   0.009        0.012\n3   0.013        0.013\n4   0.007        0.010\n"
    }
   ],
   "source": [
    "# 분석3. 과학고, 외고_국제고 군집\n",
    "\n",
    "# X3 데이터셋에 대하여 위의 과정을 반복(과학고, 외고_국제고)\n",
    "print('분석3. 과학고, 외고_국제고 군집')\n",
    "columns_list3 = [10, 11]\n",
    "x3 = df.iloc[:, columns_list3]\n",
    "print(x3[:5])"
   ]
  },
  {
   "cell_type": "code",
   "execution_count": 108,
   "metadata": {},
   "outputs": [
    {
     "output_type": "stream",
     "name": "stdout",
     "text": "* key : -1\n* number : 61\n     지역                             학교명  유형  과학고  외고_국제고\n0  성북구  서울대학교사범대학부설중학교.....  국립   0.018        0.007\n3  강남구           개포중학교                공립   0.013        0.013\n6  강남구         압구정중학교                공립   0.015        0.036\n7  강남구  단국대학교사범대학부속중학교.....  사립   0.032        0.005\n8  강남구           대명중학교                공립   0.013        0.029\n\n\n* key : 0\n* number : 160\n      지역                               학교명  유형  과학고  외고_국제고\n1   종로구  서울대학교사범대학부설여자중학교...  국립     0.0        0.035\n13  서초구       동덕여자중학교                  사립     0.0        0.022\n22  강남구           수서중학교                  공립     0.0        0.019\n28  서초구           언남중학교                  공립     0.0        0.015\n29  강남구           언북중학교                  공립     0.0        0.007\n\n\n* key : 1\n* number : 111\n      지역      학교명  유형  과학고  외고_국제고\n2   강남구  개원중학교  공립   0.009        0.012\n4   서초구  경원중학교  공립   0.007        0.010\n5   강남구  구룡중학교  공립   0.007        0.007\n11  강남구  대치중학교  공립   0.007        0.024\n14  서초구  반포중학교  공립   0.010        0.013\n\n\n* key : 2\n* number : 50\n         지역      학교명  유형  과학고  외고_국제고\n46     강동구  동신중학교  사립     0.0          0.0\n103    양천구  신원중학교  공립     0.0          0.0\n118    구로구  개봉중학교  공립     0.0          0.0\n126  영등포구  대림중학교  공립     0.0          0.0\n160  동대문구  숭인중학교  공립     0.0          0.0\n\n\n* key : 3\n* number : 11\n         지역      학교명  유형  과학고  외고_국제고\n100    양천구  신남중학교  공립   0.007          0.0\n115    강서구  화곡중학교  사립   0.008          0.0\n151  동대문구  대광중학교  사립   0.005          0.0\n194    관악구  봉원중학교  공립   0.004          0.0\n209    노원구  광운중학교  사립   0.005          0.0\n\n\n* key : 4\n* number : 12\n      지역          학교명  유형  과학고  외고_국제고\n9   강남구      대왕중학교  공립   0.006        0.028\n27  강남구      신사중학교  공립   0.006        0.032\n69  송파구      오주중학교  공립   0.003        0.028\n72  송파구      잠실중학교  공립   0.007        0.030\n96  양천구  봉영여자중학교  사립   0.006        0.028\n\n\n* key : 5\n* number : 5\n       지역      학교명  유형  과학고  외고_국제고\n16   강남구  봉은중학교  공립   0.010        0.010\n85   강서구  덕원중학교  사립   0.010        0.010\n179  동작구  강현중학교  공립   0.011        0.011\n262  마포구  숭문중학교  사립   0.010        0.010\n366  마포구  상암중학교  공립   0.012        0.012\n\n\n* key : 6\n* number : 5\n         지역      학교명  유형  과학고  외고_국제고\n89     강서구  마포중학교  사립   0.015        0.010\n112    강서구  염창중학교  공립   0.015        0.009\n265  서대문구  신연중학교  공립   0.016        0.011\n287    광진구  광남중학교  공립   0.016        0.010\n359    관악구  구암중학교  공립   0.017        0.011\n\n\n"
    }
   ],
   "source": [
    "# 설명 변수 데이터를 정규화\n",
    "x3 = preprocessing.StandardScaler().fit(x3).transform(x3)\n",
    "# DBSCAN 모델 객체 생성\n",
    "# 밀도 계산의 기준이 되는 반지름 R(eps=0.2)과 최소 포인트 개수 M(min_samples=5) 설정\n",
    "dbm3 = cluster.DBSCAN(eps=0.2, min_samples=5)\n",
    "# DBSCAN 모델 학습\n",
    "dbm3.fit(x3)\n",
    "\n",
    "# 예측(군집) 결과를 저장핛 열(Cluster3)을 데이터프레임에 추가\n",
    "df['Cluster3'] = dbm3.labels_ # Cluster3 열 추가됨\n",
    "\n",
    "# 클러스터 값으로 그룹화하고, 그룹별로 내용 출력 (첫 5행만 출력)\n",
    "grouped3_cols = [1, 2, 4] + columns_list3 # 1:지역명, 2:학교명, 4:유형\n",
    "grouped3 = df.groupby('Cluster3')\n",
    "for key, group in grouped3:\n",
    "    print('* key :', key) # 클러스터 값: -1, 0 ~ 6\n",
    "    print('* number :', len(group)) # 각 클러스터 속핚 학교수\n",
    "    print(group.iloc[:, grouped3_cols].head()) # 5개의 데이터 출력\n",
    "    print('\\n')"
   ]
  },
  {
   "cell_type": "code",
   "execution_count": 109,
   "metadata": {},
   "outputs": [],
   "source": [
    "cluster3_map = folium.Map(location=[37.55,126.98], tiles='Stamen Terrain', zoom_start=12)\n",
    "for name, lat, lng, clus in zip(df.학교명, df.위도, df.경도, df.Cluster3):\n",
    "    folium.CircleMarker([lat, lng],\n",
    "    radius=5,               # 원의 반지름\n",
    "    color=colors[clus],     # 원의 둘레 색상\n",
    "    fill=True,\n",
    "    fill_color=colors[clus], # 원을 채우는 색\n",
    "    fill_opacity=0.7,        # 투명도\n",
    "    popup=name\n",
    "    ).add_to(cluster3_map)\n",
    "\n",
    "# 지도를 html 파일로 저장하기\n",
    "cluster3_map.save('seoul_mschool_cluster3.html')"
   ]
  },
  {
   "cell_type": "code",
   "execution_count": null,
   "metadata": {},
   "outputs": [],
   "source": []
  },
  {
   "cell_type": "code",
   "execution_count": null,
   "metadata": {},
   "outputs": [],
   "source": []
  }
 ]
}