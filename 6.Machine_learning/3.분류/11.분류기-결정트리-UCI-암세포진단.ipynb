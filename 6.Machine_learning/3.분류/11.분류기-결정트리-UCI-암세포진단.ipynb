{
 "nbformat": 4,
 "nbformat_minor": 2,
 "metadata": {
  "language_info": {
   "name": "python",
   "codemirror_mode": {
    "name": "ipython",
    "version": 3
   },
   "version": "3.7.4-final"
  },
  "orig_nbformat": 2,
  "file_extension": ".py",
  "mimetype": "text/x-python",
  "name": "python",
  "npconvert_exporter": "python",
  "pygments_lexer": "ipython3",
  "version": 3,
  "kernelspec": {
   "name": "python37464bitanaconda3condae788c5fa592f4db3927eca9f2fe371f6",
   "display_name": "Python 3.7.4 64-bit ('anaconda3': conda)"
  }
 },
 "cells": [
  {
   "cell_type": "code",
   "execution_count": 2,
   "metadata": {},
   "outputs": [],
   "source": [
    "# UCI(University of California, Irvine) 머신러닝 저장소에서 제공하는 암세포 진단(breast cancer)\n",
    "# 데이터셋을 사용한다. 샘플 ID, 암세포 조직의 크기와 모양 등 종양 특성을 나타내는 열 9개,\n",
    "# 악성 종양 여부(2: 양성, 4: 악성)를 나타내는 열로 총 11개의 열로 구성된다.\n",
    "\n",
    "import pandas as pd \n",
    "import numpy as np "
   ]
  },
  {
   "cell_type": "code",
   "execution_count": 3,
   "metadata": {},
   "outputs": [
    {
     "output_type": "stream",
     "name": "stdout",
     "text": "0   1   2   3   4   5   6   7   8   9   10\n0    1000025   5   1   1   1   2   1   3   1   1   2\n1    1002945   5   4   4   5   7  10   3   2   1   2\n2    1015425   3   1   1   1   2   2   3   1   1   2\n3    1016277   6   8   8   1   3   4   3   7   1   2\n4    1017023   4   1   1   3   2   1   3   1   1   2\n..       ...  ..  ..  ..  ..  ..  ..  ..  ..  ..  ..\n694   776715   3   1   1   1   3   2   1   1   1   2\n695   841769   2   1   1   1   2   1   1   1   1   2\n696   888820   5  10  10   3   7   3   8  10   2   4\n697   897471   4   8   6   4   3   4  10   6   1   4\n698   897471   4   8   8   5   4   5  10   4   1   4\n\n[699 rows x 11 columns]\n"
    }
   ],
   "source": [
    "# UCI 저장소에서 암세포 진단(Breast Cancer) 데이터셋 가져오기\n",
    "uci_path = 'https://archive.ics.uci.edu/ml/machine-learning-databases/breast-cancer-wisconsin/breast-cancer-wisconsin.data'\n",
    "\n",
    "df = pd.read_csv(uci_path, header=None)\n",
    "print(df) "
   ]
  },
  {
   "cell_type": "code",
   "execution_count": 4,
   "metadata": {},
   "outputs": [
    {
     "output_type": "stream",
     "name": "stdout",
     "text": "id  clump  cell_size  cell_shape  adhesion  epithlial bare_nuclei  \\\n0  1000025      5          1           1         1          2           1   \n1  1002945      5          4           4         5          7          10   \n2  1015425      3          1           1         1          2           2   \n3  1016277      6          8           8         1          3           4   \n4  1017023      4          1           1         3          2           1   \n\n   chromatin  normal_nucleoli  mitoses  class  \n0          3                1        1      2  \n1          3                2        1      2  \n2          3                1        1      2  \n3          3                7        1      2  \n4          3                1        1      2  \n"
    }
   ],
   "source": [
    "# 11개의 열 이름 지정\n",
    "df.columns = ['id','clump','cell_size','cell_shape', 'adhesion','epithlial', 'bare_nuclei','chromatin','normal_nucleoli', 'mitoses', 'class']\n",
    "\n",
    "# IPython 디스플레이 설정 - 출력한 열의 개수 한도 늘리기\n",
    "pd.set_option('display.max_columns', 15)\n",
    "\n",
    "# 데이터 살펴보기 \n",
    "print(df.head()) "
   ]
  },
  {
   "cell_type": "code",
   "execution_count": 5,
   "metadata": {},
   "outputs": [
    {
     "output_type": "stream",
     "name": "stdout",
     "text": "<class 'pandas.core.frame.DataFrame'>\nRangeIndex: 699 entries, 0 to 698\nData columns (total 11 columns):\nid                 699 non-null int64\nclump              699 non-null int64\ncell_size          699 non-null int64\ncell_shape         699 non-null int64\nadhesion           699 non-null int64\nepithlial          699 non-null int64\nbare_nuclei        699 non-null object\nchromatin          699 non-null int64\nnormal_nucleoli    699 non-null int64\nmitoses            699 non-null int64\nclass              699 non-null int64\ndtypes: int64(10), object(1)\nmemory usage: 60.2+ KB\nNone\n"
    }
   ],
   "source": [
    "# 데이터 자료형 확인 : bare_nuclei 만 object 이고 나머지는 숫자형 \n",
    "print(df.info())"
   ]
  },
  {
   "cell_type": "code",
   "execution_count": 7,
   "metadata": {},
   "outputs": [
    {
     "output_type": "stream",
     "name": "stdout",
     "text": "id       clump   cell_size  cell_shape    adhesion  \\\ncount  6.990000e+02  699.000000  699.000000  699.000000  699.000000   \nmean   1.071704e+06    4.417740    3.134478    3.207439    2.806867   \nstd    6.170957e+05    2.815741    3.051459    2.971913    2.855379   \nmin    6.163400e+04    1.000000    1.000000    1.000000    1.000000   \n25%    8.706885e+05    2.000000    1.000000    1.000000    1.000000   \n50%    1.171710e+06    4.000000    1.000000    1.000000    1.000000   \n75%    1.238298e+06    6.000000    5.000000    5.000000    4.000000   \nmax    1.345435e+07   10.000000   10.000000   10.000000   10.000000   \n\n        epithlial   chromatin  normal_nucleoli     mitoses       class  \ncount  699.000000  699.000000       699.000000  699.000000  699.000000  \nmean     3.216023    3.437768         2.866953    1.589413    2.689557  \nstd      2.214300    2.438364         3.053634    1.715078    0.951273  \nmin      1.000000    1.000000         1.000000    1.000000    2.000000  \n25%      2.000000    2.000000         1.000000    1.000000    2.000000  \n50%      2.000000    3.000000         1.000000    1.000000    2.000000  \n75%      4.000000    5.000000         4.000000    1.000000    4.000000  \nmax     10.000000   10.000000        10.000000   10.000000    4.000000  \n"
    }
   ],
   "source": [
    "# 데이터 통계 요약정보 확인 - bare_nuclei 열은 출력안됨(10개의 열만 출력)\n",
    "print(df.describe())"
   ]
  },
  {
   "cell_type": "code",
   "execution_count": 13,
   "metadata": {},
   "outputs": [
    {
     "output_type": "stream",
     "name": "stdout",
     "text": "['1' '10' '2' '4' '3' '9' '7' '?' '5' '8' '6']\n"
    }
   ],
   "source": [
    "# bare_nuclei 열의 고유값 확인 \n",
    "print(df['bare_nuclei'].unique())\n",
    "# 문자열로 출력되고 ? 가 포함되어 있다. "
   ]
  },
  {
   "cell_type": "code",
   "execution_count": 14,
   "metadata": {},
   "outputs": [
    {
     "output_type": "stream",
     "name": "stdout",
     "text": "id       clump   cell_size  cell_shape    adhesion  \\\ncount  6.830000e+02  683.000000  683.000000  683.000000  683.000000   \nmean   1.076720e+06    4.442167    3.150805    3.215227    2.830161   \nstd    6.206440e+05    2.820761    3.065145    2.988581    2.864562   \nmin    6.337500e+04    1.000000    1.000000    1.000000    1.000000   \n25%    8.776170e+05    2.000000    1.000000    1.000000    1.000000   \n50%    1.171795e+06    4.000000    1.000000    1.000000    1.000000   \n75%    1.238705e+06    6.000000    5.000000    5.000000    4.000000   \nmax    1.345435e+07   10.000000   10.000000   10.000000   10.000000   \n\n        epithlial  bare_nuclei   chromatin  normal_nucleoli     mitoses  \\\ncount  683.000000   683.000000  683.000000       683.000000  683.000000   \nmean     3.234261     3.544656    3.445095         2.869693    1.603221   \nstd      2.223085     3.643857    2.449697         3.052666    1.732674   \nmin      1.000000     1.000000    1.000000         1.000000    1.000000   \n25%      2.000000     1.000000    2.000000         1.000000    1.000000   \n50%      2.000000     1.000000    3.000000         1.000000    1.000000   \n75%      4.000000     6.000000    5.000000         4.000000    1.000000   \nmax     10.000000    10.000000   10.000000        10.000000   10.000000   \n\n            class  \ncount  683.000000  \nmean     2.699854  \nstd      0.954592  \nmin      2.000000  \n25%      2.000000  \n50%      2.000000  \n75%      4.000000  \nmax      4.000000  \n"
    }
   ],
   "source": [
    "# bare_nuclei 열의 자료형 변경 (문자열 -> 숫자)\n",
    "# bare_nuclei 열의 '?' 를 누락데이터(NaN)으로 변경\n",
    "\n",
    "df['bare_nuclei'].replace(\"?\", np.nan, inplace=True)        # ?을 np.nan으로 변경  \n",
    "df.dropna(subset=['bare_nuclei'], axis=0, inplace=True)     # 누락 데이터 행을 삭제\n",
    "df['bare_nuclei'] = df['bare_nuclei'].astype('int')         # 문자열을 정수형으로 변환\n",
    "\n",
    "print(df.describe())"
   ]
  },
  {
   "cell_type": "code",
   "execution_count": null,
   "metadata": {},
   "outputs": [],
   "source": []
  },
  {
   "cell_type": "code",
   "execution_count": null,
   "metadata": {},
   "outputs": [],
   "source": []
  },
  {
   "cell_type": "code",
   "execution_count": null,
   "metadata": {},
   "outputs": [],
   "source": []
  },
  {
   "cell_type": "code",
   "execution_count": null,
   "metadata": {},
   "outputs": [],
   "source": []
  },
  {
   "cell_type": "code",
   "execution_count": null,
   "metadata": {},
   "outputs": [],
   "source": []
  }
 ]
}