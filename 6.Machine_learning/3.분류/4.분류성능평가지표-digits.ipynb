{
 "nbformat": 4,
 "nbformat_minor": 2,
 "metadata": {
  "language_info": {
   "name": "python",
   "codemirror_mode": {
    "name": "ipython",
    "version": 3
   },
   "version": "3.7.4-final"
  },
  "orig_nbformat": 2,
  "file_extension": ".py",
  "mimetype": "text/x-python",
  "name": "python",
  "npconvert_exporter": "python",
  "pygments_lexer": "ipython3",
  "version": 3,
  "kernelspec": {
   "name": "python37464bitanaconda3condae788c5fa592f4db3927eca9f2fe371f6",
   "display_name": "Python 3.7.4 64-bit ('anaconda3': conda)"
  }
 },
 "cells": [
  {
   "cell_type": "code",
   "execution_count": 39,
   "metadata": {},
   "outputs": [
    {
     "name": "stdout",
     "output_type": "stream",
     "text": "[False False False ...  True False  True]\n"
    }
   ],
   "source": [
    "import numpy as np\n",
    "from sklearn import datasets\n",
    "\n",
    "# 난수 시드 : 동일한 결과를 출력하기 위해서 설정\n",
    "np.random.seed(0)\n",
    "\n",
    "# 손으로 쓴 숫자 데이터 읽기\n",
    "digits=datasets.load_digits()\n",
    "\n",
    "# 3과 8의 데이터 위치를 구하기\n",
    "flag_3_8=(digits.target == 3) + (digits.target == 8)\n",
    "print(flag_3_8) "
   ]
  },
  {
   "cell_type": "code",
   "execution_count": 40,
   "metadata": {},
   "outputs": [
    {
     "name": "stdout",
     "output_type": "stream",
     "text": "(357, 8, 8)\n(357,)\n"
    }
   ],
   "source": [
    "# 3과 8 이미지와 레이블을 구해서 변수에 저장\n",
    "images = digits.images[flag_3_8]\n",
    "print(images.shape)\n",
    "# 357개 , 8행 8열 2차원 \n",
    "\n",
    "labels = digits.target[flag_3_8]\n",
    "print(labels.shape)"
   ]
  },
  {
   "cell_type": "code",
   "execution_count": 41,
   "metadata": {},
   "outputs": [
    {
     "name": "stdout",
     "output_type": "stream",
     "text": "(357, 64)\n"
    }
   ],
   "source": [
    "# 3과 8이 이미지 데이터를 2차원에서 1차원으로 변환\n",
    "images = images.reshape(images.shape[0], -1)    # -1은 가변적\n",
    "print(images.shape)"
   ]
  },
  {
   "cell_type": "code",
   "execution_count": 42,
   "metadata": {},
   "outputs": [
    {
     "name": "stdout",
     "output_type": "stream",
     "text": "(249, 64)\n(108,)\n"
    }
   ],
   "source": [
    "from sklearn.model_selection import train_test_split\n",
    "\n",
    "x_train, x_test, y_train, y_test = train_test_split(images, \n",
    "                                                    labels, \n",
    "                                                    test_size=0.3, \n",
    "                                                    random_state=10)\n",
    "# x_train     # 훈련 이미지\n",
    "# x_test      # 테스트 이미지\n",
    "# y_train     # 훈련 라벨\n",
    "# y_test      # 테스트 이미지\n",
    "print(x_train.shape)\n",
    "print(y_test.shape)"
   ]
  },
  {
   "cell_type": "code",
   "execution_count": 43,
   "metadata": {},
   "outputs": [
    {
     "data": {
      "text/plain": "DecisionTreeClassifier(class_weight=None, criterion='gini', max_depth=None,\n                       max_features=None, max_leaf_nodes=None,\n                       min_impurity_decrease=0.0, min_impurity_split=None,\n                       min_samples_leaf=1, min_samples_split=2,\n                       min_weight_fraction_leaf=0.0, presort=False,\n                       random_state=None, splitter='best')"
     },
     "execution_count": 43,
     "metadata": {},
     "output_type": "execute_result"
    }
   ],
   "source": [
    "# 결정 트리 분류기 모델 생성\n",
    "from sklearn import tree\n",
    "\n",
    "# 모델 생성 \n",
    "classifier = tree.DecisionTreeClassifier()\n",
    "\n",
    "# 모델 학습\n",
    "classifier.fit(x_train, y_train)"
   ]
  },
  {
   "cell_type": "code",
   "execution_count": 44,
   "metadata": {},
   "outputs": [
    {
     "name": "stdout",
     "output_type": "stream",
     "text": "[3 3 3 8 3 3 3 8 3 8 3 3 8 8 3 3 8 3 8 8 3 8 3 8 3 8 3 3 8 8 8 3 3 8 8 3 3\n 8 8 3 3 3 8 3 8 8 3 3 3 8 3 3 3 8 8 3 3 8 3 3 3 8 3 8 3 8 3 8 8 3 8 8 8 3\n 8 8 3 3 8 8 8 8 8 8 3 3 8 8 8 8 8 8 8 3 3 8 3 3 8 3 3 8 3 8 8 3 3 3]\n"
    }
   ],
   "source": [
    "from sklearn import metrics\n",
    "\n",
    "predict_label = classifier.predict(x_test)\n",
    "print(predict_label)    # 예측 라벨값"
   ]
  },
  {
   "cell_type": "code",
   "execution_count": 45,
   "metadata": {},
   "outputs": [
    {
     "name": "stdout",
     "output_type": "stream",
     "text": "정답률(Accuracy): 0.9444444444444444\n"
    }
   ],
   "source": [
    "print('정답률(Accuracy):', metrics.accuracy_score(y_test, predict_label))"
   ]
  },
  {
   "cell_type": "code",
   "execution_count": 46,
   "metadata": {},
   "outputs": [
    {
     "name": "stdout",
     "output_type": "stream",
     "text": "혼돈행렬(Confusion matrix): \n [[52  3]\n [ 3 50]]\n"
    }
   ],
   "source": [
    "print('혼돈행렬(Confusion matrix): \\n', metrics.confusion_matrix(y_test, predict_label))"
   ]
  },
  {
   "cell_type": "code",
   "execution_count": 47,
   "metadata": {},
   "outputs": [
    {
     "name": "stdout",
     "output_type": "stream",
     "text": "3라벨 적합률(Presision): 0.9454545454545454\n8라벨 적합률(Presision): 0.9433962264150944\n"
    }
   ],
   "source": [
    "# pos_label=3 -> 3 라벨의 적합률이 잘나온지\n",
    "print('3라벨 적합률(Presision):', metrics.precision_score(y_test, predict_label, pos_label=3))   \n",
    "print('8라벨 적합률(Presision):', metrics.precision_score(y_test, predict_label, pos_label=8))"
   ]
  },
  {
   "cell_type": "code",
   "execution_count": 48,
   "metadata": {},
   "outputs": [
    {
     "name": "stdout",
     "output_type": "stream",
     "text": "3라벨 재현율(Recall): 0.9454545454545454\n8라벨 재현율(Recall): 0.9433962264150944\n"
    }
   ],
   "source": [
    "print('3라벨 재현율(Recall):', metrics.recall_score(y_test, predict_label, pos_label=3))\n",
    "print('8라벨 재현율(Recall):', metrics.recall_score(y_test, predict_label, pos_label=8))"
   ]
  },
  {
   "cell_type": "code",
   "execution_count": 49,
   "metadata": {},
   "outputs": [
    {
     "name": "stdout",
     "output_type": "stream",
     "text": "3라벨 F값(F-measure): 0.9454545454545454\n8라벨 F값(F-measure): 0.9433962264150944\n"
    }
   ],
   "source": [
    "print('3라벨 F값(F-measure):', metrics.f1_score(y_test, predict_label, pos_label=3))\n",
    "print('8라벨 F값(F-measure):', metrics.f1_score(y_test, predict_label, pos_label=8))"
   ]
  }
 ]
}