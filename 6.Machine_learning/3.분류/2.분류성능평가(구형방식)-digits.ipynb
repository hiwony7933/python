{
 "nbformat": 4,
 "nbformat_minor": 2,
 "metadata": {
  "language_info": {
   "name": "python",
   "codemirror_mode": {
    "name": "ipython",
    "version": 3
   }
  },
  "orig_nbformat": 2,
  "file_extension": ".py",
  "mimetype": "text/x-python",
  "name": "python",
  "npconvert_exporter": "python",
  "pygments_lexer": "ipython3",
  "version": 3
 },
 "cells": [
  {
   "cell_type": "code",
   "execution_count": 12,
   "metadata": {},
   "outputs": [
    {
     "name": "stdout",
     "output_type": "stream",
     "text": "[False False False ...  True False  True]\n"
    }
   ],
   "source": [
    "import numpy as np\n",
    "from sklearn import datasets\n",
    "\n",
    "# 난수 시드 : 동일한 결과를 출력하기 위해서 설정\n",
    "np.random.seed(0)\n",
    "\n",
    "# 손으로 쓴 숫자 데이터 읽기\n",
    "digits=datasets.load_digits()\n",
    "\n",
    "# 3과 8의 데이터 위치를 구하기\n",
    "flag_3_8=(digits.target == 3) + (digits.target == 8)\n",
    "print(flag_3_8) "
   ]
  },
  {
   "cell_type": "code",
   "execution_count": 11,
   "metadata": {},
   "outputs": [
    {
     "name": "stdout",
     "output_type": "stream",
     "text": "(357, 8, 8)\n(357,)\n"
    }
   ],
   "source": [
    "# 3과 8 이미지와 레이블을 구해서 변수에 저장\n",
    "images = digits.images[flag_3_8]\n",
    "print(images.shape)\n",
    "# 357개 , 8행 8열 2차원 \n",
    "\n",
    "labels = digits.target[flag_3_8]\n",
    "print(labels.shape)"
   ]
  },
  {
   "cell_type": "code",
   "execution_count": 13,
   "metadata": {},
   "outputs": [
    {
     "name": "stdout",
     "output_type": "stream",
     "text": "(357, 64)\n"
    }
   ],
   "source": [
    "# 3과 8이 이미지 데이터를 2차원에서 1차원으로 변환\n",
    "images = images.reshape(images.shape[0], -1)    # -1은 가변적\n",
    "print(images.shape)"
   ]
  },
  {
   "cell_type": "code",
   "execution_count": 14,
   "metadata": {},
   "outputs": [
    {
     "name": "stdout",
     "output_type": "stream",
     "text": "357\n214\n"
    }
   ],
   "source": [
    "# 학습 데이터와 테스트 데이터를 분할 ( 6 :4 비율) \n",
    "n_samples = len(flag_3_8[flag_3_8])\n",
    "print(n_samples)\n",
    "# 3과 8의 전체 데이터 개수 357개\n",
    "\n",
    "# 전체 데이터 개수 3/5 을 분할 60% 정도 \n",
    "train_size = int(n_samples * 3/5)\n",
    "print(train_size)\n",
    "\n",
    "# 학습데이터 : images[ : 214 ], labels[ : 214 ] "
   ]
  },
  {
   "cell_type": "code",
   "execution_count": 16,
   "metadata": {},
   "outputs": [
    {
     "data": {
      "text/plain": "DecisionTreeClassifier(class_weight=None, criterion='gini', max_depth=None,\n                       max_features=None, max_leaf_nodes=None,\n                       min_impurity_decrease=0.0, min_impurity_split=None,\n                       min_samples_leaf=1, min_samples_split=2,\n                       min_weight_fraction_leaf=0.0, presort=False,\n                       random_state=None, splitter='best')"
     },
     "execution_count": 16,
     "metadata": {},
     "output_type": "execute_result"
    }
   ],
   "source": [
    "# 결정 트리(decision tree) 알고리즘을 사용해 분류기를 만들어서 학습\n",
    "from sklearn import tree\n",
    "\n",
    "# 결정 트리 분류기 모델 생성\n",
    "classifier = tree.DecisionTreeClassifier()\n",
    "\n",
    "# 모델 학습 \n",
    "# 학습 데이터는 손으로 쓴 숫자의 전체 이미지 데이터 중 60%를 사용해서 학습\n",
    "# fit(images[ : 214], labels[ : 213])\n",
    "classifier.fit(images[ : train_size], labels[ : train_size])"
   ]
  },
  {
   "cell_type": "code",
   "execution_count": 18,
   "metadata": {},
   "outputs": [
    {
     "name": "stdout",
     "output_type": "stream",
     "text": "(143,)\n"
    }
   ],
   "source": [
    "# 테스트 데이터 구하기 : labels[ 214 : ] 214번부터 끝까지 임\n",
    "test_label = labels[train_size : ]\n",
    "print(test_label.shape)         # 실제 데이터의 라벨값"
   ]
  },
  {
   "cell_type": "code",
   "execution_count": 20,
   "metadata": {},
   "outputs": [
    {
     "name": "stdout",
     "output_type": "stream",
     "text": "(143,)\n"
    }
   ],
   "source": [
    "값# 테스트 테이터를 이용해서 라벨을 예측 \n",
    "predict_label = classifier.predict(images[train_size : ])\n",
    "print(predict_label.shape)      # 예측한 라벨값 "
   ]
  },
  {
   "cell_type": "code",
   "execution_count": 21,
   "metadata": {},
   "outputs": [
    {
     "name": "stdout",
     "output_type": "stream",
     "text": "0.8741258741258742\n"
    }
   ],
   "source": [
    "# 정답률 계산 \n",
    "from sklearn import metrics\n",
    "\n",
    "print(metrics.accuracy_score(test_label, predict_label))"
   ]
  }
 ]
}