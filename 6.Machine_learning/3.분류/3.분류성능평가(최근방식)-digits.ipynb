{
 "nbformat": 4,
 "nbformat_minor": 2,
 "metadata": {
  "language_info": {
   "name": "python",
   "codemirror_mode": {
    "name": "ipython",
    "version": 3
   },
   "version": "3.7.4-final"
  },
  "orig_nbformat": 2,
  "file_extension": ".py",
  "mimetype": "text/x-python",
  "name": "python",
  "npconvert_exporter": "python",
  "pygments_lexer": "ipython3",
  "version": 3,
  "kernelspec": {
   "name": "python37464bitanaconda3condae788c5fa592f4db3927eca9f2fe371f6",
   "display_name": "Python 3.7.4 64-bit ('anaconda3': conda)"
  }
 },
 "cells": [
  {
   "cell_type": "code",
   "execution_count": 48,
   "metadata": {},
   "outputs": [
    {
     "name": "stdout",
     "output_type": "stream",
     "text": "[False False False ...  True False  True]\n"
    }
   ],
   "source": [
    "import numpy as np\n",
    "from sklearn import datasets\n",
    "\n",
    "# 난수 시드 : 동일한 결과를 출력하기 위해서 설정\n",
    "np.random.seed(0)\n",
    "\n",
    "# 손으로 쓴 숫자 데이터 읽기\n",
    "digits=datasets.load_digits()\n",
    "\n",
    "# 3과 8의 데이터 위치를 구하기\n",
    "flag_3_8=(digits.target == 3) + (digits.target == 8)\n",
    "print(flag_3_8) "
   ]
  },
  {
   "cell_type": "code",
   "execution_count": 49,
   "metadata": {},
   "outputs": [
    {
     "name": "stdout",
     "output_type": "stream",
     "text": "(357, 8, 8)\n(357,)\n"
    }
   ],
   "source": [
    "# 3과 8 이미지와 레이블을 구해서 변수에 저장\n",
    "images = digits.images[flag_3_8]\n",
    "print(images.shape)\n",
    "# 357개 , 8행 8열 2차원 \n",
    "\n",
    "labels = digits.target[flag_3_8]\n",
    "print(labels.shape)"
   ]
  },
  {
   "cell_type": "code",
   "execution_count": 50,
   "metadata": {},
   "outputs": [
    {
     "name": "stdout",
     "output_type": "stream",
     "text": "(357, 64)\n"
    }
   ],
   "source": [
    "# 3과 8이 이미지 데이터를 2차원에서 1차원으로 변환\n",
    "images = images.reshape(images.shape[0], -1)    # -1은 가변적\n",
    "print(images.shape)"
   ]
  },
  {
   "cell_type": "code",
   "execution_count": 51,
   "metadata": {},
   "outputs": [
    {
     "name": "stdout",
     "output_type": "stream",
     "text": "(249, 64)\n(108,)\n"
    }
   ],
   "source": [
    "from sklearn.model_selection import train_test_split\n",
    "\n",
    "x_train, x_test, y_train, y_test = train_test_split(images, \n",
    "                                                    labels, \n",
    "                                                    test_size=0.3, \n",
    "                                                    random_state=10)\n",
    "# x_train     # 훈련 이미지\n",
    "# x_test      # 테스트 이미지\n",
    "# y_train     # 훈련 라벨\n",
    "# y_test      # 테스트 이미지\n",
    "print(x_train.shape)\n",
    "print(y_test.shape)"
   ]
  },
  {
   "cell_type": "code",
   "execution_count": 52,
   "metadata": {},
   "outputs": [
    {
     "data": {
      "text/plain": "DecisionTreeClassifier(class_weight=None, criterion='gini', max_depth=None,\n                       max_features=None, max_leaf_nodes=None,\n                       min_impurity_decrease=0.0, min_impurity_split=None,\n                       min_samples_leaf=1, min_samples_split=2,\n                       min_weight_fraction_leaf=0.0, presort=False,\n                       random_state=None, splitter='best')"
     },
     "execution_count": 52,
     "metadata": {},
     "output_type": "execute_result"
    }
   ],
   "source": [
    "# 결정 트리 분류기 모델 생성\n",
    "from sklearn import tree\n",
    "\n",
    "# 모델 생성 \n",
    "classifier = tree.DecisionTreeClassifier()\n",
    "\n",
    "# 모델 학습\n",
    "classifier.fit(x_train, y_train)"
   ]
  },
  {
   "cell_type": "code",
   "execution_count": 53,
   "metadata": {},
   "outputs": [
    {
     "name": "stdout",
     "output_type": "stream",
     "text": "[3 3 3 8 3 3 3 8 3 8 3 3 8 8 3 3 8 3 8 8 3 8 3 8 3 8 3 3 8 8 8 3 3 8 8 3 3\n 8 8 3 3 3 8 3 8 8 3 3 3 8 3 3 3 8 8 3 3 8 3 3 3 8 3 8 3 8 3 8 8 3 8 8 8 3\n 8 8 3 3 8 8 8 8 8 8 3 3 8 8 8 8 8 8 8 3 3 8 3 3 8 3 3 8 3 8 8 3 3 3]\n"
    }
   ],
   "source": [
    "from sklearn import metrics\n",
    "\n",
    "predict_label = classifier.predict(x_test)\n",
    "print(predict_label)    # 예측 라벨값"
   ]
  },
  {
   "cell_type": "code",
   "execution_count": 54,
   "metadata": {},
   "outputs": [
    {
     "name": "stdout",
     "output_type": "stream",
     "text": "0.9444444444444444\n"
    }
   ],
   "source": [
    "print(metrics.accuracy_score(y_test, predict_label))"
   ]
  }
 ]
}