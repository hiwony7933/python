{
 "nbformat": 4,
 "nbformat_minor": 2,
 "metadata": {
  "language_info": {
   "name": "python",
   "codemirror_mode": {
    "name": "ipython",
    "version": 3
   },
   "version": "3.7.4-final"
  },
  "orig_nbformat": 2,
  "file_extension": ".py",
  "mimetype": "text/x-python",
  "name": "python",
  "npconvert_exporter": "python",
  "pygments_lexer": "ipython3",
  "version": 3,
  "kernelspec": {
   "name": "python37464bitanaconda3condae788c5fa592f4db3927eca9f2fe371f6",
   "display_name": "Python 3.7.4 64-bit ('anaconda3': conda)"
  }
 },
 "cells": [
  {
   "cell_type": "code",
   "execution_count": 63,
   "metadata": {},
   "outputs": [
    {
     "name": "stdout",
     "output_type": "stream",
     "text": "survived  pclass     sex   age  sibsp  parch     fare embarked   class  \\\n0           0       3    male  22.0      1      0   7.2500        S   Third   \n1           1       1  female  38.0      1      0  71.2833        C   First   \n2           1       3  female  26.0      0      0   7.9250        S   Third   \n3           1       1  female  35.0      1      0  53.1000        S   First   \n4           0       3    male  35.0      0      0   8.0500        S   Third   \n..        ...     ...     ...   ...    ...    ...      ...      ...     ...   \n886         0       2    male  27.0      0      0  13.0000        S  Second   \n887         1       1  female  19.0      0      0  30.0000        S   First   \n888         0       3  female   NaN      1      2  23.4500        S   Third   \n889         1       1    male  26.0      0      0  30.0000        C   First   \n890         0       3    male  32.0      0      0   7.7500        Q   Third   \n\n       who  adult_male deck  embark_town alive  alone  \n0      man        True  NaN  Southampton    no  False  \n1    woman       False    C    Cherbourg   yes  False  \n2    woman       False  NaN  Southampton   yes   True  \n3    woman       False    C  Southampton   yes  False  \n4      man        True  NaN  Southampton    no   True  \n..     ...         ...  ...          ...   ...    ...  \n886    man        True  NaN  Southampton    no   True  \n887  woman       False    B  Southampton   yes   True  \n888  woman       False  NaN  Southampton    no  False  \n889    man        True    C    Cherbourg   yes   True  \n890    man        True  NaN   Queenstown    no   True  \n\n[891 rows x 15 columns]\n"
    }
   ],
   "source": [
    "import pandas as pd \n",
    "import seaborn as sns \n",
    "\n",
    "df = sns.load_dataset('titanic')\n",
    "print(df)"
   ]
  },
  {
   "cell_type": "code",
   "execution_count": 64,
   "metadata": {},
   "outputs": [
    {
     "name": "stdout",
     "output_type": "stream",
     "text": "survived  pclass     sex   age  sibsp  parch     fare embarked  class  \\\n0         0       3    male  22.0      1      0   7.2500        S  Third   \n1         1       1  female  38.0      1      0  71.2833        C  First   \n2         1       3  female  26.0      0      0   7.9250        S  Third   \n3         1       1  female  35.0      1      0  53.1000        S  First   \n4         0       3    male  35.0      0      0   8.0500        S  Third   \n\n     who  adult_male deck  embark_town alive  alone  \n0    man        True  NaN  Southampton    no  False  \n1  woman       False    C    Cherbourg   yes  False  \n2  woman       False  NaN  Southampton   yes   True  \n3  woman       False    C  Southampton   yes  False  \n4    man        True  NaN  Southampton    no   True  \n"
    }
   ],
   "source": [
    "# Ipython 디스플레이 설정 - 출력할 열의 개수를 15개로 늘리기\n",
    "pd.set_option('display.max_columns', 15)\n",
    "print(df.head())"
   ]
  },
  {
   "cell_type": "code",
   "execution_count": 65,
   "metadata": {},
   "outputs": [
    {
     "name": "stdout",
     "output_type": "stream",
     "text": "<class 'pandas.core.frame.DataFrame'>\nRangeIndex: 891 entries, 0 to 890\nData columns (total 15 columns):\nsurvived       891 non-null int64\npclass         891 non-null int64\nsex            891 non-null object\nage            714 non-null float64\nsibsp          891 non-null int64\nparch          891 non-null int64\nfare           891 non-null float64\nembarked       889 non-null object\nclass          891 non-null category\nwho            891 non-null object\nadult_male     891 non-null bool\ndeck           203 non-null category\nembark_town    889 non-null object\nalive          891 non-null object\nalone          891 non-null bool\ndtypes: bool(2), category(2), float64(2), int64(4), object(5)\nmemory usage: 80.6+ KB\nNone\n"
    }
   ],
   "source": [
    "# 데이터 자료형 확인 : 데이터를 확인하고 NaN이 많은 열 삭제\n",
    "print(df.info())"
   ]
  },
  {
   "cell_type": "code",
   "execution_count": 66,
   "metadata": {},
   "outputs": [
    {
     "name": "stdout",
     "output_type": "stream",
     "text": "['survived' 'pclass' 'sex' 'age' 'sibsp' 'parch' 'fare' 'embarked' 'class'\n 'who' 'adult_male' 'alive' 'alone']\n<class 'pandas.core.frame.DataFrame'>\nRangeIndex: 891 entries, 0 to 890\nData columns (total 13 columns):\nsurvived      891 non-null int64\npclass        891 non-null int64\nsex           891 non-null object\nage           714 non-null float64\nsibsp         891 non-null int64\nparch         891 non-null int64\nfare          891 non-null float64\nembarked      889 non-null object\nclass         891 non-null category\nwho           891 non-null object\nadult_male    891 non-null bool\nalive         891 non-null object\nalone         891 non-null bool\ndtypes: bool(2), category(1), float64(2), int64(4), object(4)\nmemory usage: 72.4+ KB\nNone\n"
    }
   ],
   "source": [
    "# NaN값이 많은 deck(배의 갑판)열을 삭제 : deck 열은 유효핚 값이 203개\n",
    "# embarked(승선핚)와 내용이 겹치는 embark_town(승선 도시) 열을 삭제\n",
    "# 전체 15개의 열에서 deck, embark_town 2개의 열이 삭제되어서 13개의 열이름만 춗력\n",
    "rdf = df.drop(['deck', 'embark_town'], axis=1)\n",
    "print(rdf.columns.values)\n",
    "print(rdf.info())"
   ]
  },
  {
   "cell_type": "code",
   "execution_count": 67,
   "metadata": {},
   "outputs": [
    {
     "name": "stdout",
     "output_type": "stream",
     "text": "714\n"
    }
   ],
   "source": [
    "# 승객의 나이를 나타내는 age 열에 누락 데이터가 177개 포함되어 있다.\n",
    "# 누락 데이터를 평균 나이로 치홖하는 방법도 가능하지만, 누락 데이터가 있는 행을 모두 삭제\n",
    "# 즉, 177명의 승객 데이터를 포기하고 나이 데이터가 있는 714명의 승객만을 분석 대상\n",
    "# age 열에 나이 데이터가 없는 모든 행을 삭제 - age 열(891개 중 177개의 NaN 값)\n",
    "rdf = rdf.dropna(subset=['age'], how='any', axis=0)\n",
    "print(len(rdf)) # 714 (891개 중 177개 데이터 삭제)"
   ]
  },
  {
   "cell_type": "code",
   "execution_count": 68,
   "metadata": {},
   "outputs": [
    {
     "name": "stdout",
     "output_type": "stream",
     "text": "survived      0\npclass        0\nsex           0\nage           0\nsibsp         0\nparch         0\nfare          0\nembarked      2\nclass         0\nwho           0\nadult_male    0\nalive         0\nalone         0\ndtype: int64\n"
    }
   ],
   "source": [
    "# 각 데이터에 NaN 값 있는지 여부 확인 - embarked 에서 2개 확인\n",
    "print(rdf.isnull().sum(axis=0))"
   ]
  },
  {
   "cell_type": "code",
   "execution_count": 69,
   "metadata": {},
   "outputs": [
    {
     "name": "stdout",
     "output_type": "stream",
     "text": "S\n"
    }
   ],
   "source": [
    "# embarked열에는 승객들이 타이타닉호에 탑승핚 도시명의 첫 글자가 들어있다.\n",
    "# embarked열에는 누락데이터(NaN)가 2개에 있는데, 누락데이터를 가장많은 도시명(S)으로치환\n",
    "# embarked 열의 NaN값을 승선도시 중에서 가장 많이 출현한 값으로 치환하기\n",
    "# value_counts()함수와 idxmax()함수를 사용하여 승객이 가장 많이 탑승한 도시명의 첫글자는 S\n",
    "most_freq = rdf['embarked'].value_counts(dropna=True).idxmax()\n",
    "print(most_freq)"
   ]
  },
  {
   "cell_type": "code",
   "execution_count": 70,
   "metadata": {},
   "outputs": [
    {
     "name": "stdout",
     "output_type": "stream",
     "text": "survived      pclass   sex         age       sibsp       parch  \\\ncount   714.000000  714.000000   714  714.000000  714.000000  714.000000   \nunique         NaN         NaN     2         NaN         NaN         NaN   \ntop            NaN         NaN  male         NaN         NaN         NaN   \nfreq           NaN         NaN   453         NaN         NaN         NaN   \nmean      0.406162    2.236695   NaN   29.699118    0.512605    0.431373   \nstd       0.491460    0.838250   NaN   14.526497    0.929783    0.853289   \nmin       0.000000    1.000000   NaN    0.420000    0.000000    0.000000   \n25%       0.000000    1.000000   NaN   20.125000    0.000000    0.000000   \n50%       0.000000    2.000000   NaN   28.000000    0.000000    0.000000   \n75%       1.000000    3.000000   NaN   38.000000    1.000000    1.000000   \nmax       1.000000    3.000000   NaN   80.000000    5.000000    6.000000   \n\n              fare embarked  class  who adult_male alive alone  \ncount   714.000000      712    714  714        714   714   714  \nunique         NaN        3      3    3          2     2     2  \ntop            NaN        S  Third  man       True    no  True  \nfreq           NaN      554    355  413        413   424   404  \nmean     34.694514      NaN    NaN  NaN        NaN   NaN   NaN  \nstd      52.918930      NaN    NaN  NaN        NaN   NaN   NaN  \nmin       0.000000      NaN    NaN  NaN        NaN   NaN   NaN  \n25%       8.050000      NaN    NaN  NaN        NaN   NaN   NaN  \n50%      15.741700      NaN    NaN  NaN        NaN   NaN   NaN  \n75%      33.375000      NaN    NaN  NaN        NaN   NaN   NaN  \nmax     512.329200      NaN    NaN  NaN        NaN   NaN   NaN  \n"
    }
   ],
   "source": [
    "# embarked 열의 최빈값(top)을 확인하면 S 로 출력됨\n",
    "print(rdf.describe(include='all'))\n",
    "\n",
    "# embarked 열에 fillna() 함수를 사용하여 누락 데이터(NaN)를 S로 치환 한다.\n",
    "rdf['embarked'].fillna(most_freq, inplace=True)"
   ]
  },
  {
   "cell_type": "code",
   "execution_count": 71,
   "metadata": {},
   "outputs": [
    {
     "name": "stdout",
     "output_type": "stream",
     "text": "survived      0\npclass        0\nsex           0\nage           0\nsibsp         0\nparch         0\nfare          0\nembarked      0\nclass         0\nwho           0\nadult_male    0\nalive         0\nalone         0\ndtype: int64\n"
    }
   ],
   "source": [
    "# NaN 이 없는지 확인 - 통과\n",
    "print(rdf.isnull().sum(axis=0))"
   ]
  },
  {
   "cell_type": "code",
   "execution_count": 72,
   "metadata": {},
   "outputs": [
    {
     "name": "stdout",
     "output_type": "stream",
     "text": "survived  pclass     sex   age  sibsp  parch embarked\n0         0       3    male  22.0      1      0        S\n1         1       1  female  38.0      1      0        C\n2         1       3  female  26.0      0      0        S\n3         1       1  female  35.0      1      0        S\n4         0       3    male  35.0      0      0        S\n"
    }
   ],
   "source": [
    "# 분석에 활용할 열(속성)을 선택\n",
    "ndf = rdf[['survived', 'pclass', 'sex', 'age', 'sibsp', 'parch', 'embarked']]\n",
    "print(ndf.head()) "
   ]
  },
  {
   "cell_type": "code",
   "execution_count": 73,
   "metadata": {},
   "outputs": [
    {
     "name": "stdout",
     "output_type": "stream",
     "text": "female  male\n0       0     1\n1       1     0\n2       1     0\n3       1     0\n4       0     1\n   survived  pclass     sex   age  sibsp  parch embarked  female  male\n0         0       3    male  22.0      1      0        S       0     1\n1         1       1  female  38.0      1      0        C       1     0\n2         1       3  female  26.0      0      0        S       1     0\n3         1       1  female  35.0      1      0        S       1     0\n4         0       3    male  35.0      0      0        S       0     1\n"
    }
   ],
   "source": [
    "# KNN모델을 적용하기 위해 sex열과 embarked열의 범주형 데이터를 숫자형으로 변환\n",
    "# 이 과정을 더미 변수를 만든다고 하고, 원핫인코딩(one-hot-encoding)이라고 부른다.\n",
    "\n",
    "# 원핫인코딩 - 범주형 데이터를 모델이 인식할 수 있도록 숫자형으로 변환 하는것\n",
    "# sex 열은 male과 female값을 열 이름으로 갖는 2개의 더미 변수 열이 생성된다.\n",
    "# concat()함수로 생성된 더미 변수를 기존 데이터프레임에 연결한다.\n",
    "\n",
    "onehot_sex = pd.get_dummies(ndf['sex'])\n",
    "print(onehot_sex.head())\n",
    "\n",
    "ndf = pd.concat([ndf, onehot_sex], axis=1)\n",
    "print(ndf.head())"
   ]
  },
  {
   "cell_type": "code",
   "execution_count": 74,
   "metadata": {},
   "outputs": [
    {
     "name": "stdout",
     "output_type": "stream",
     "text": "survived  pclass     sex   age  sibsp  parch embarked  female  male  \\\n0         0       3    male  22.0      1      0        S       0     1   \n1         1       1  female  38.0      1      0        C       1     0   \n2         1       3  female  26.0      0      0        S       1     0   \n3         1       1  female  35.0      1      0        S       1     0   \n4         0       3    male  35.0      0      0        S       0     1   \n\n   town_C  town_Q  town_S  \n0       0       0       1  \n1       1       0       0  \n2       0       0       1  \n3       0       0       1  \n4       0       0       1  \n"
    }
   ],
   "source": [
    "# embarked 열은 3개의 더미 변수 열이 만들어지는데, prefix='town' 옵션을\n",
    "# 사용하여 열 이름에 접두어 town을 붙인다. ( town_C, town_Q, town_S)\n",
    "onehot_embarked = pd.get_dummies(ndf['embarked'], prefix='town')\n",
    "ndf = pd.concat([ndf, onehot_embarked], axis=1)\n",
    "print(ndf.head())"
   ]
  },
  {
   "cell_type": "code",
   "execution_count": 75,
   "metadata": {},
   "outputs": [
    {
     "name": "stdout",
     "output_type": "stream",
     "text": "survived  pclass   age  sibsp  parch  female  male  town_C  town_Q  town_S\n0         0       3  22.0      1      0       0     1       0       0       1\n1         1       1  38.0      1      0       1     0       1       0       0\n2         1       3  26.0      0      0       1     0       0       0       1\n3         1       1  35.0      1      0       1     0       0       0       1\n4         0       3  35.0      0      0       0     1       0       0       1\n"
    }
   ],
   "source": [
    "# 기존 sex 열과 embarked 열 삭제 \n",
    "ndf.drop(['sex', 'embarked'], axis=1, inplace=True)\n",
    "print(ndf.head())   # 더미 변수로 출력된다. "
   ]
  },
  {
   "cell_type": "code",
   "execution_count": 76,
   "metadata": {},
   "outputs": [],
   "source": [
    "# 변수 정의\n",
    "x = ndf[['pclass', 'age', 'sibsp', 'parch', 'female', 'male','town_C', 'town_Q', 'town_S']] # 독립 변수(x)\n",
    "y = ndf['survived'] # 종속 변수(y)\n",
    "\n",
    "# 독립 변수 데이터를 정규화(normalization)\n",
    "# 독립 변수 열들이 갖는 데이터의 상대적 크기 차이를 없애기 위하여 정규화(0과 1로 변환)를 한다.\n",
    "from sklearn import preprocessing\n",
    "x = preprocessing.StandardScaler().fit(x).transform(x)"
   ]
  },
  {
   "cell_type": "code",
   "execution_count": 77,
   "metadata": {},
   "outputs": [
    {
     "name": "stdout",
     "output_type": "stream",
     "text": "train data 개수:  (499, 9)\ntest data 개수:  (215, 9)\n"
    }
   ],
   "source": [
    "# train data 와 test data로 분할 (7:3 비율)\n",
    "from sklearn.model_selection import train_test_split\n",
    "\n",
    "x_train, x_test, y_train, y_test = train_test_split(x, y, test_size=0.3, random_state=10)\n",
    "\n",
    "print('train data 개수: ', x_train.shape) # train data 개수: (499, 9)\n",
    "print('test data 개수: ', x_test.shape) # test data 개수: (215, 9)"
   ]
  },
  {
   "cell_type": "code",
   "execution_count": 78,
   "metadata": {},
   "outputs": [
    {
     "data": {
      "text/plain": "KNeighborsClassifier(algorithm='auto', leaf_size=30, metric='minkowski',\n                     metric_params=None, n_jobs=None, n_neighbors=5, p=2,\n                     weights='uniform')"
     },
     "execution_count": 78,
     "metadata": {},
     "output_type": "execute_result"
    }
   ],
   "source": [
    "# sklearn 라이브러리에서 KNN 분류 모델 가져오기\n",
    "from sklearn.neighbors import KNeighborsClassifier\n",
    "\n",
    "# KNN 모델 객체 생성 (k = 5로 설정) \n",
    "# K값에 따라서 범위가 달라진다.\n",
    "knn = KNeighborsClassifier(n_neighbors=5)\n",
    "\n",
    "# train data를 가지고 모델 학습\n",
    "knn.fit(x_train, y_train)"
   ]
  },
  {
   "cell_type": "code",
   "execution_count": 79,
   "metadata": {},
   "outputs": [
    {
     "name": "stdout",
     "output_type": "stream",
     "text": "[0 0 1 0 0 1 1 1 0 0]\n[0 0 1 0 0 1 1 1 0 0]\n"
    }
   ],
   "source": [
    "# test data를 가지고 y_hat을 예측(분류)\n",
    "y_hat = knn.predict(x_test)         # 예측값 구하기 \n",
    "\n",
    "# 첫 10개의 예측값(y_hat)과 실제값(y_test) 비교 : 10개 모두 일치함 ( 0:사망자, 1:생존자)\n",
    "print(y_hat[ :10])\n",
    "print(y_test.values[ :10])"
   ]
  },
  {
   "cell_type": "code",
   "execution_count": 80,
   "metadata": {},
   "outputs": [
    {
     "name": "stdout",
     "output_type": "stream",
     "text": "[[109  16]\n [ 25  65]]\n"
    }
   ],
   "source": [
    "# KNN모델 성능 평가 - Confusion Matrix(혼동 행렬) 계산 \n",
    "from sklearn import metrics\n",
    "\n",
    "knn_matrix = metrics.confusion_matrix(y_test, y_hat)    #(실제값, 예측값)\n",
    "print(knn_matrix)\n",
    "\n",
    "# 결과\n",
    "# TP(True Positive) : 215명의 승객 중에서 사망자를 정확히 분류핚 것이 109명\n",
    "# FP(False Positive) : 생존자를 사망자로 잘못 분류핚 것이 25명\n",
    "# FN(False Negative) : 사망자를 생존자로 잘못 분류핚 것이 16명\n",
    "# TN(True Negative) : 생존자를 정확하게 분류핚 것이 65명"
   ]
  },
  {
   "cell_type": "code",
   "execution_count": 81,
   "metadata": {},
   "outputs": [
    {
     "name": "stdout",
     "output_type": "stream",
     "text": "precision    recall  f1-score   support\n\n           0       0.81      0.87      0.84       125\n           1       0.80      0.72      0.76        90\n\n    accuracy                           0.81       215\n   macro avg       0.81      0.80      0.80       215\nweighted avg       0.81      0.81      0.81       215\n\n"
    }
   ],
   "source": [
    "# KNN 모델 성능 평가 - 평가지표 계산\n",
    "knn_report = metrics.classification_report(y_test, y_hat)\n",
    "print(knn_report)\n",
    "\n",
    "# 결과\n",
    "# f1지표(f1-score)는 모델의 예측력을 종합적으로 평가하는 지표이다.\n",
    "# f1-score 지표를 보면 사망자(0) 예측의 정확도가 0.84이고, \n",
    "# 생존자(1) 예측의 정확도는 0.76으로 예측 능력에 차이가 있다. \n",
    "# 평균적으로 0.81 정확도를 갖는다."
   ]
  }
 ]
}