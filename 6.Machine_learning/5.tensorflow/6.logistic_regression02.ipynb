{
 "nbformat": 4,
 "nbformat_minor": 2,
 "metadata": {
  "language_info": {
   "name": "python",
   "codemirror_mode": {
    "name": "ipython",
    "version": 3
   },
   "version": "3.7.4-final"
  },
  "orig_nbformat": 2,
  "file_extension": ".py",
  "mimetype": "text/x-python",
  "name": "python",
  "npconvert_exporter": "python",
  "pygments_lexer": "ipython3",
  "version": 3,
  "kernelspec": {
   "name": "python37464bitanaconda3condae788c5fa592f4db3927eca9f2fe371f6",
   "display_name": "Python 3.7.4 64-bit ('anaconda3': conda)"
  }
 },
 "cells": [
  {
   "cell_type": "code",
   "execution_count": 1,
   "metadata": {},
   "outputs": [
    {
     "output_type": "stream",
     "name": "stdout",
     "text": "WARNING:tensorflow:From /Users/jw/opt/anaconda3/lib/python3.7/site-packages/tensorflow_core/python/compat/v2_compat.py:88: disable_resource_variables (from tensorflow.python.ops.variable_scope) is deprecated and will be removed in a future version.\nInstructions for updating:\nnon-resource variables are not supported in the long term\n"
    }
   ],
   "source": [
    "import tensorflow.compat.v1 as tf\n",
    "tf.disable_v2_behavior()\n",
    "import numpy as np\n",
    "\n",
    "# 실행핛 때마다 같은 결과를 출력하기 위핚 seed 값 설정\n",
    "seed = 0\n",
    "np.random.seed(seed)\n",
    "tf.set_random_seed(seed)\n",
    "# 학습 데이터\n",
    "x_data = np.array([[2, 3],[4, 3],[6, 4],[8, 6],[10, 7],[12, 8],[14, 9]])\n",
    "y_data = np.array([0, 0, 0, 1, 1, 1,1]).reshape(7, 1)\n",
    "# 플레이스 홀더 정의\n",
    "X = tf.placeholder(tf.float64, shape=[None, 2])\n",
    "Y = tf.placeholder(tf.float64, shape=[None, 1])"
   ]
  },
  {
   "cell_type": "code",
   "execution_count": 2,
   "metadata": {},
   "outputs": [],
   "source": [
    "# 기울기 a와 bias b의 값을 임의로 정함.\n",
    "a = tf.Variable(tf.random_uniform([2,1], dtype=tf.float64)) # 2행 1열의 난수 발생\n",
    "b = tf.Variable(tf.random_uniform([1], dtype=tf.float64)) # 1개의 난수 발생\n",
    "# y 시그모이드 함수의 방정식을 세움\n",
    "y = tf.sigmoid(tf.matmul(X, a) + b)\n",
    "# 오차를 구하는 함수\n",
    "loss = -tf.reduce_mean(Y * tf.log(y) + (1 - Y) * tf.log(1 - y))\n",
    "# 학습률 값\n",
    "learning_rate=0.1\n",
    "# 경사 하강법으로 오차(비용)를 최소로 하는 값 찾기\n",
    "gradient_decent = tf.train.GradientDescentOptimizer(learning_rate).minimize(loss)\n",
    "predicted = tf.cast(y > 0.5, dtype=tf.float64)  # tf.cast()함수는 True면 1, Flase면 0을 리턴함\n",
    "accuracy = tf.reduce_mean(tf.cast(tf.equal(predicted, Y), dtype=tf.float64))"
   ]
  },
  {
   "cell_type": "code",
   "execution_count": 3,
   "metadata": {},
   "outputs": [
    {
     "output_type": "stream",
     "name": "stdout",
     "text": "step=300, a1=0.8426, a2=-0.5997, b=-2.3907, loss=0.2694\nstep=600, a1=0.8348, a2=-0.3166, b=-3.8630, loss=0.1932\nstep=900, a1=0.7423, a2=0.0153, b=-4.9311, loss=0.1510\nstep=1200, a1=0.6372, a2=0.3245, b=-5.7765, loss=0.1235\nstep=1500, a1=0.5373, a2=0.5996, b=-6.4775, loss=0.1042\nstep=1800, a1=0.4471, a2=0.8421, b=-7.0768, loss=0.0900\nstep=2100, a1=0.3670, a2=1.0561, b=-7.6003, loss=0.0791\nstep=2400, a1=0.2962, a2=1.2458, b=-8.0652, loss=0.0705\nstep=2700, a1=0.2336, a2=1.4152, b=-8.4834, loss=0.0636\nstep=3000, a1=0.1779, a2=1.5675, b=-8.8635, loss=0.0579\n공부 시갂: 7, 개인 과외 수: 6\n합격 가능성:  85.66 %\n"
    }
   ],
   "source": [
    "with tf.Session() as sess:\n",
    "    sess.run(tf.global_variables_initializer())\n",
    "    for i in range(3001): # 3000번 학습\n",
    "        a_, b_, loss_, _ = sess.run([a, b, loss, gradient_decent], feed_dict={X: x_data, Y: y_data})\n",
    "        if (i + 1) % 300 == 0:\n",
    "            print(\"step=%d, a1=%.4f, a2=%.4f, b=%.4f, loss=%.4f\" % (i + 1, a_[0], a_[1], b_, loss_))\n",
    "\n",
    "    # 공부시간, 개인 과외수, 합격 가능성\n",
    "    new_x = np.array([7, 6]).reshape(1, 2) #[7, 6]은 각각 공부 시간과 과외 수업수.\n",
    "    new_y = sess.run(y, feed_dict={X: new_x})\n",
    "    print(\"공부 시간: %d, 개인 과외 수: %d\" % (new_x[:,0], new_x[:,1]))\n",
    "    print(\"합격 가능성: %6.2f %%\" % (new_y*100))"
   ]
  }
 ]
}