{
 "nbformat": 4,
 "nbformat_minor": 2,
 "metadata": {
  "language_info": {
   "name": "python",
   "codemirror_mode": {
    "name": "ipython",
    "version": 3
   },
   "version": "3.7.4-final"
  },
  "orig_nbformat": 2,
  "file_extension": ".py",
  "mimetype": "text/x-python",
  "name": "python",
  "npconvert_exporter": "python",
  "pygments_lexer": "ipython3",
  "version": 3,
  "kernelspec": {
   "name": "python37464bitanaconda3condae788c5fa592f4db3927eca9f2fe371f6",
   "display_name": "Python 3.7.4 64-bit ('anaconda3': conda)"
  }
 },
 "cells": [
  {
   "cell_type": "code",
   "execution_count": 5,
   "metadata": {},
   "outputs": [],
   "source": [
    "import tensorflow.compat.v1 as tf\n",
    "tf.disable_v2_behavior()\n",
    "\n",
    "# 실행결과가 매번 동일하게 출력 되도록 seed를 설정\n",
    "tf.set_random_seed(777)\n",
    "x_data = [[1, 2, 1, 1],\n",
    "          [2, 1, 3, 2],\n",
    "          [3, 1, 3, 4],\n",
    "          [4, 1, 5, 5],\n",
    "          [1, 7, 5, 5],\n",
    "          [1, 2, 5, 6],\n",
    "          [1, 6, 6, 6],\n",
    "          [1, 7, 7, 7]]\n",
    "\n",
    "y_data = [[0, 0, 1],\n",
    "          [0, 0, 1],\n",
    "          [0, 0, 1],\n",
    "          [0, 1, 0],\n",
    "          [0, 1, 0],\n",
    "          [0, 1, 0],\n",
    "          [1, 0, 0],\n",
    "          [1, 0, 0]]\n",
    ""
   ]
  },
  {
   "cell_type": "code",
   "execution_count": 6,
   "metadata": {},
   "outputs": [],
   "source": [
    "X = tf.placeholder(\"float\", [None, 4]) # 4열\n",
    "Y = tf.placeholder(\"float\", [None, 3]) # 3열\n",
    "nb_classes = 3\n",
    "\n",
    "# softmax함수에 입력값: 4 , 출력값: nb_classes=3\n",
    "W = tf.Variable(tf.random_normal([4, nb_classes]), name='weight')\n",
    "b = tf.Variable(tf.random_normal([nb_classes]), name='bias')\n",
    "# tf.nn.softmax computes softmax activations\n",
    "\n",
    "# softmax = exp(logits) / reduce_sum(exp(logits), dim)\n",
    "hypothesis = tf.nn.softmax(tf.matmul(X, W) + b)\n",
    "# Cross entropy cost/loss\n",
    "cost = tf.reduce_mean(-tf.reduce_sum(Y * tf.log(hypothesis), axis=1))"
   ]
  },
  {
   "cell_type": "code",
   "execution_count": 7,
   "metadata": {},
   "outputs": [
    {
     "output_type": "stream",
     "name": "stdout",
     "text": "0 5.4190874\n200 0.5461495\n400 0.44480357\n600 0.3692953\n800 0.29841435\n1000 0.23387071\n1200 0.21112336\n1400 0.19283476\n1600 0.17738736\n1800 0.16416891\n2000 0.15273383\n--------------\n[[3.1222620e-03 9.9686629e-01 1.1442447e-05]] [1]\n--------------\n[[0.8855558  0.0953151  0.01912906]] [0]\n--------------\n[[1.4553346e-08 3.3987890e-04 9.9966013e-01]] [2]\n--------------\n[[3.1222620e-03 9.9686629e-01 1.1442447e-05]\n [8.8555580e-01 9.5315143e-02 1.9129077e-02]\n [1.4553346e-08 3.3987890e-04 9.9966013e-01]] [1 0 2]\n"
    }
   ],
   "source": [
    "# 경사하강법을 이용해서 cost가 최소가 되도록 학습시킨다.\n",
    "optimizer = tf.train.GradientDescentOptimizer(learning_rate=0.1).minimize(cost)\n",
    "# Launch graph\n",
    "with tf.Session() as sess:\n",
    "    sess.run(tf.global_variables_initializer())\n",
    "    for step in range(2001): # 2000번 학습\n",
    "        sess.run(optimizer, feed_dict={X: x_data, Y: y_data})\n",
    "        if step % 200 == 0:\n",
    "            print(step, sess.run(cost, feed_dict={X: x_data, Y: y_data}))\n",
    "    print('--------------')\n",
    "\n",
    "    # Testing & One-hot encoding\n",
    "    a = sess.run(hypothesis, feed_dict={X: [[1, 11, 7, 9]]})\n",
    "    print(a, sess.run(tf.arg_max(a, 1)))\n",
    "    # agr_max 확률이 높은 1개를 출력\n",
    "    # 1, 11, 7, 9 의 속성으로 가장 확률이 높은 특징의 인덱스 출력 \n",
    "    # 1번째 인덱스의 특징이 가장 확률이 높음 \n",
    "    \n",
    "    print('--------------')\n",
    "\n",
    "    b = sess.run(hypothesis, feed_dict={X: [[1, 3, 4, 3]]})\n",
    "    print(b, sess.run(tf.arg_max(b, 1))) # arg_max()함수 : one-hot-encoding을 맊들어 주는 함수\n",
    "    print('--------------')\n",
    "\n",
    "    c = sess.run(hypothesis, feed_dict={X: [[1, 1, 0, 1]]})\n",
    "    print(c, sess.run(tf.arg_max(c, 1)))\n",
    "    print('--------------')\n",
    "\n",
    "    all = sess.run(hypothesis, feed_dict={X: [[1, 11, 7, 9], [1, 3, 4, 3], [1, 1, 0, 1]]})\n",
    "    print(all, sess.run(tf.arg_max(all, 1)))"
   ]
  }
 ]
}