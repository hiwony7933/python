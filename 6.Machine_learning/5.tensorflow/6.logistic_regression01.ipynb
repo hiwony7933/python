{
 "nbformat": 4,
 "nbformat_minor": 2,
 "metadata": {
  "language_info": {
   "name": "python",
   "codemirror_mode": {
    "name": "ipython",
    "version": 3
   },
   "version": "3.7.4-final"
  },
  "orig_nbformat": 2,
  "file_extension": ".py",
  "mimetype": "text/x-python",
  "name": "python",
  "npconvert_exporter": "python",
  "pygments_lexer": "ipython3",
  "version": 3,
  "kernelspec": {
   "name": "python37464bitanaconda3condae788c5fa592f4db3927eca9f2fe371f6",
   "display_name": "Python 3.7.4 64-bit ('anaconda3': conda)"
  }
 },
 "cells": [
  {
   "cell_type": "code",
   "execution_count": 2,
   "metadata": {},
   "outputs": [
    {
     "output_type": "stream",
     "name": "stdout",
     "text": "step= 0 cost= 1.3547035\nstep= 200 cost= 0.84107906\nstep= 400 cost= 0.64625955\nstep= 600 cost= 0.5624483\nstep= 800 cost= 0.51835567\nstep= 1000 cost= 0.48953435\nstep= 1200 cost= 0.4674833\nstep= 1400 cost= 0.4488927\nstep= 1600 cost= 0.4323324\nstep= 1800 cost= 0.41713014\nstep= 2000 cost= 0.40294603\nstep= 2200 cost= 0.3895949\nstep= 2400 cost= 0.37696815\nstep= 2600 cost= 0.36499503\nstep= 2800 cost= 0.3536251\nstep= 3000 cost= 0.3428186\nstep= 3200 cost= 0.33254158\nstep= 3400 cost= 0.32276383\nstep= 3600 cost= 0.31345755\nstep= 3800 cost= 0.30459645\nstep= 4000 cost= 0.29615602\nstep= 4200 cost= 0.2881125\nstep= 4400 cost= 0.28044385\nstep= 4600 cost= 0.27312884\nstep= 4800 cost= 0.2661476\nstep= 5000 cost= 0.2594812\nstep= 5200 cost= 0.25311175\nstep= 5400 cost= 0.24702257\nstep= 5600 cost= 0.24119781\nstep= 5800 cost= 0.23562272\nstep= 6000 cost= 0.23028322\nstep= 6200 cost= 0.22516634\nstep= 6400 cost= 0.22025979\nstep= 6600 cost= 0.2155521\nstep= 6800 cost= 0.21103238\nstep= 7000 cost= 0.2066905\nstep= 7200 cost= 0.20251717\nstep= 7400 cost= 0.19850321\nstep= 7600 cost= 0.19464053\nstep= 7800 cost= 0.19092119\nstep= 8000 cost= 0.18733788\nstep= 8200 cost= 0.18388362\nstep= 8400 cost= 0.18055208\nstep= 8600 cost= 0.17733717\nstep= 8800 cost= 0.17423312\nstep= 9000 cost= 0.1712345\nstep= 9200 cost= 0.16833639\nstep= 9400 cost= 0.16553399\nstep= 9600 cost= 0.16282281\nstep= 9800 cost= 0.16019866\nstep= 10000 cost= 0.15765755\n\nHypothesis: [[0.03424705]\n [0.16334398]\n [0.3212283 ]\n [0.77400464]\n [0.93483037]\n [0.9785897 ]] \nCorrect (y): [[0.]\n [0.]\n [0.]\n [1.]\n [1.]\n [1.]] \nAccuracy: 1.0\n"
    }
   ],
   "source": [
    "import tensorflow.compat.v1 as tf\n",
    "tf.disable_v2_behavior()\n",
    "\n",
    "# [공부시간, 과외받은 횟수]\n",
    "x_data = [[1,2],\n",
    "         [2,3],\n",
    "         [3,1],\n",
    "         [4,3],\n",
    "         [5,3],\n",
    "         [6,2]]\n",
    "\n",
    "# [1:합격, 0:불합격]\n",
    "y_data = [[0],\n",
    "         [0],\n",
    "         [0],\n",
    "         [1],\n",
    "         [1],\n",
    "         [1]]\n",
    "\n",
    "x = tf.placeholder(tf.float32, shape=[None, 2])\n",
    "y = tf.placeholder(tf.float32, shape=[None, 1])\n",
    "\n",
    "w = tf.Variable(tf.random_normal([2,1]), name ='weight')\n",
    "b = tf.Variable(tf.random_normal([1]), name='bias')\n",
    "\n",
    "hypothesis = tf.sigmoid(tf.matmul(x,w) + b)\n",
    "\n",
    "cost = -tf.reduce_mean(y * tf.log(hypothesis) + (1-y)*tf.log(1-hypothesis))\n",
    "train = tf.train.GradientDescentOptimizer(learning_rate=0.01).minimize(cost)\n",
    "\n",
    "# Accuracy computation : 정확도 계산\n",
    "# True if hypothesis>0.5 else False\n",
    "# tf.cast()함수는 True면 1, False면 0을 리턴함\n",
    "predicted = tf.cast(hypothesis > 0.5, dtype=tf.float32)\n",
    "accuracy = tf.reduce_mean(tf.cast(tf.equal(predicted, y), dtype=tf.float32))\n",
    "\n",
    "with tf.Session() as sess : \n",
    "    sess.run(tf.global_variables_initializer())\n",
    "\n",
    "    for step in range(10001) :\n",
    "        cost_val , _ = sess.run([cost, train], feed_dict={x : x_data, y : y_data})\n",
    "        if step % 200 == 0 : \n",
    "            print(\"step=\", step, \"cost=\", cost_val)\n",
    "            \n",
    "    h, c, a = sess.run([hypothesis, predicted, accuracy], feed_dict={x:x_data, y:y_data})\n",
    "    print(\"\\nHypothesis:\", h, \"\\nCorrect (y):\", c, \"\\nAccuracy:\", a)"
   ]
  }
 ]
}