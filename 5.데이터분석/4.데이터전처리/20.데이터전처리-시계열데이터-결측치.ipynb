{
 "nbformat": 4,
 "nbformat_minor": 2,
 "metadata": {
  "language_info": {
   "name": "python",
   "codemirror_mode": {
    "name": "ipython",
    "version": 3
   },
   "version": "3.7.4-final"
  },
  "orig_nbformat": 2,
  "file_extension": ".py",
  "mimetype": "text/x-python",
  "name": "python",
  "npconvert_exporter": "python",
  "pygments_lexer": "ipython3",
  "version": 3,
  "kernelspec": {
   "name": "python37464bitanaconda3condae788c5fa592f4db3927eca9f2fe371f6",
   "display_name": "Python 3.7.4 64-bit ('anaconda3': conda)"
  }
 },
 "cells": [
  {
   "cell_type": "code",
   "execution_count": 1,
   "metadata": {},
   "outputs": [
    {
     "name": "stdout",
     "output_type": "stream",
     "text": "price\n2020-01-31   10.0\n2020-02-29   20.0\n2020-03-31   25.0\n2020-04-30   30.0\n2020-05-31   40.0\n2020-06-30   50.0\n2020-07-31   55.0\n2020-08-31   60.0\n2020-09-30   70.0\n2020-10-31   90.0\n2020-11-30  100.0\n2020-12-31  110.0\n"
    }
   ],
   "source": [
    "import numpy as np \n",
    "import pandas as pd \n",
    "\n",
    "#2020년 1월 1일 부터 월 단위로 12개의 데이터를 생성\n",
    "timeindex = pd.date_range('01/01/2020', periods=12, freq=\"M\")\n",
    "df=pd.DataFrame(index=timeindex)\n",
    "\n",
    "# 누락된 데이터( 결측치 - None, null, np.nan) 만들기\n",
    "df['price'] = [10, 20, np.NaN,30, 40, 50,np.NaN, 60, 70, 90, np.NaN, 110 ]\n",
    "\n",
    "# 선형으로 누락된 값 채우기\n",
    "print(df.interpolate())"
   ]
  },
  {
   "cell_type": "code",
   "execution_count": 2,
   "metadata": {},
   "outputs": [
    {
     "name": "stdout",
     "output_type": "stream",
     "text": "price\n2020-01-31    10.0\n2020-02-29    20.0\n2020-03-31   161.5\n2020-04-30   303.0\n2020-05-31   404.0\n2020-06-30   506.0\n2020-07-31  1769.5\n2020-08-31  3033.0\n2020-09-30   705.0\n2020-10-31  2000.0\n2020-11-30  1655.0\n2020-12-31  1310.0\n"
    }
   ],
   "source": [
    "df['price'] = [10, 20, np.NaN,303, 404, 506,np.NaN, 3033, 705, 2000, np.NaN, 1310 ]\n",
    "\n",
    "# 비선형으로 누락된 값 채우기\n",
    "# method 를 주지 않았을 때는 부자연스러운 값들이 생성됨\n",
    "print(df.interpolate())"
   ]
  },
  {
   "cell_type": "code",
   "execution_count": 3,
   "metadata": {},
   "outputs": [
    {
     "name": "stdout",
     "output_type": "stream",
     "text": "price\n2020-01-31    10.000000\n2020-02-29    20.000000\n2020-03-31   142.901880\n2020-04-30   303.000000\n2020-05-31   404.000000\n2020-06-30   506.000000\n2020-07-31  2356.797735\n2020-08-31  3033.000000\n2020-09-30   705.000000\n2020-10-31  2000.000000\n2020-11-30  2515.422865\n2020-12-31  1310.000000\n"
    }
   ],
   "source": [
    "# 비선형으로 누락된 값 채우기\n",
    "# method='quadratic' 를 입력하니 그렇지 않을때보다 조금은 자연스러워졌다.\n",
    "print(df.interpolate(method='quadratic'))\n"
   ]
  }
 ]
}