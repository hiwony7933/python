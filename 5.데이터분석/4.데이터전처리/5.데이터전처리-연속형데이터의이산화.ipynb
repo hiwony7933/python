{
 "nbformat": 4,
 "nbformat_minor": 2,
 "metadata": {
  "language_info": {
   "name": "python",
   "codemirror_mode": {
    "name": "ipython",
    "version": 3
   },
   "version": "3.7.4-final"
  },
  "orig_nbformat": 2,
  "file_extension": ".py",
  "mimetype": "text/x-python",
  "name": "python",
  "npconvert_exporter": "python",
  "pygments_lexer": "ipython3",
  "version": 3,
  "kernelspec": {
   "name": "python37464bitanaconda3condae788c5fa592f4db3927eca9f2fe371f6",
   "display_name": "Python 3.7.4 64-bit ('anaconda3': conda)"
  }
 },
 "cells": [
  {
   "cell_type": "code",
   "execution_count": 3,
   "metadata": {},
   "outputs": [],
   "source": [
    "import pandas as pd \n",
    "df = pd.read_csv('/Users/jw/python/4.Study/data/auto-mpg.csv', header=None)\n",
    "df.columns = ['mpg', 'cylinders', 'displacement', 'horsepower', 'weight', 'acceleration', 'model year', 'origin', 'name']"
   ]
  },
  {
   "cell_type": "code",
   "execution_count": 4,
   "metadata": {},
   "outputs": [
    {
     "name": "stdout",
     "output_type": "stream",
     "text": "0      130.0\n1      165.0\n2      150.0\n3      150.0\n4      140.0\n       ...  \n393    86.00\n394    52.00\n395    84.00\n396    79.00\n397    82.00\nName: horsepower, Length: 398, dtype: object\n0      307.0\n1      350.0\n2      318.0\n3      304.0\n4      302.0\n       ...  \n393    140.0\n394     97.0\n395    135.0\n396    120.0\n397    119.0\nName: displacement, Length: 398, dtype: float64\n"
    }
   ],
   "source": [
    "print(df['horsepower'])\n",
    "print(df['displacement'])"
   ]
  },
  {
   "cell_type": "code",
   "execution_count": 5,
   "metadata": {},
   "outputs": [
    {
     "name": "stdout",
     "output_type": "stream",
     "text": "[ 68.  145.4 222.8 300.2 377.6 455. ]\n"
    }
   ],
   "source": [
    "# displacement를 초대형, 대형, 중형, 준중형, 소형 으로 새로운 컬럼 만들기\n",
    "\n",
    "# 5등분할 숫자 배열 만들기 \n",
    "import numpy as np \n",
    "\n",
    "count, bin_dividers = np.histogram(df['displacement'], bins=5)\n",
    "print(bin_dividers)"
   ]
  },
  {
   "cell_type": "code",
   "execution_count": 6,
   "metadata": {},
   "outputs": [
    {
     "name": "stdout",
     "output_type": "stream",
     "text": "mpg  cylinders  displacement horsepower  weight  acceleration  \\\n0    18.0          8         307.0      130.0  3504.0          12.0   \n1    15.0          8         350.0      165.0  3693.0          11.5   \n2    18.0          8         318.0      150.0  3436.0          11.0   \n3    16.0          8         304.0      150.0  3433.0          12.0   \n4    17.0          8         302.0      140.0  3449.0          10.5   \n..    ...        ...           ...        ...     ...           ...   \n393  27.0          4         140.0      86.00  2790.0          15.6   \n394  44.0          4          97.0      52.00  2130.0          24.6   \n395  32.0          4         135.0      84.00  2295.0          11.6   \n396  28.0          4         120.0      79.00  2625.0          18.6   \n397  31.0          4         119.0      82.00  2720.0          19.4   \n\n     model year  origin                       name 차량분류  \n0            70       1  chevrolet chevelle malibu   대형  \n1            70       1          buick skylark 320   대형  \n2            70       1         plymouth satellite   대형  \n3            70       1              amc rebel sst   대형  \n4            70       1                ford torino   대형  \n..          ...     ...                        ...  ...  \n393          82       1            ford mustang gl   소형  \n394          82       2                  vw pickup   소형  \n395          82       1              dodge rampage   소형  \n396          82       1                ford ranger   소형  \n397          82       1                 chevy s-10   소형  \n\n[398 rows x 10 columns]\n"
    }
   ],
   "source": [
    "# 치환할 데이터 배열 만들기 \n",
    "bin_names = ['소형', '준중형','중형', '대형', '초대형']\n",
    "\n",
    "# 치환 \n",
    "df['차량분류'] = pd.cut( x= df['displacement'], bins=bin_dividers, labels=bin_names, include_lowest= True)\n",
    "print(df)"
   ]
  },
  {
   "cell_type": "code",
   "execution_count": 9,
   "metadata": {},
   "outputs": [
    {
     "name": "stdout",
     "output_type": "stream",
     "text": "[[0]\n [1]\n [0]\n [1]\n [1]]\n\n[[1]\n [1]\n [0]\n [2]\n [2]]\n\n[[0]\n [1]\n [0]\n [1]\n [2]]\n"
    }
   ],
   "source": [
    "# numpy digitze 이용 \n",
    "age = np.array([[30], [40], [29], [50], [60]])\n",
    "# 40을 기준으로 분할 - 경계값이 다음 그룹으로 분할\n",
    "print(np.digitize(age, bins=[40]))\n",
    "print()\n",
    "print(np.digitize(age, bins=[30, 50]))\n",
    "print()\n",
    "# right를 이용하면 경계값이 아래 그룹으로 분할\n",
    "print(np.digitize(age, bins=[30, 50], right=True))"
   ]
  },
  {
   "cell_type": "code",
   "execution_count": 10,
   "metadata": {},
   "outputs": [
    {
     "name": "stdout",
     "output_type": "stream",
     "text": "0   1\n0  20  30\n1  40  70\n2  30  60\n3  25  34\n4  43  75\n5  38  63\n"
    }
   ],
   "source": [
    "# 여러 개의 열로 구성된 데이터의 이산화 \n",
    "sample = np.array([[20,30],[40,70],[30, 60],[25,34],[43,75],[38, 63]])\n",
    "df = pd.DataFrame(sample)\n",
    "print(df)"
   ]
  },
  {
   "cell_type": "code",
   "execution_count": 12,
   "metadata": {},
   "outputs": [
    {
     "name": "stdout",
     "output_type": "stream",
     "text": "0   1  group\n0  20  30      1\n1  40  70      0\n2  30  60      2\n3  25  34      1\n4  43  75      0\n5  38  63      2\n"
    }
   ],
   "source": [
    "# KMeans 군집 분석을 위한 라이브러리 \n",
    "from sklearn.cluster import KMeans\n",
    "# 군집분석 객체 생성\n",
    "cluster = KMeans(3, random_state=0)\n",
    "# 데이터를 가지고 훈련 \n",
    "cluster.fit(sample)\n",
    "# 예측 - 군집 \n",
    "df['group'] = cluster.predict(sample)\n",
    "print(df)"
   ]
  }
 ]
}