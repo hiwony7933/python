{
 "nbformat": 4,
 "nbformat_minor": 2,
 "metadata": {
  "language_info": {
   "name": "python",
   "codemirror_mode": {
    "name": "ipython",
    "version": 3
   }
  },
  "orig_nbformat": 2,
  "file_extension": ".py",
  "mimetype": "text/x-python",
  "name": "python",
  "npconvert_exporter": "python",
  "pygments_lexer": "ipython3",
  "version": 3
 },
 "cells": [
  {
   "cell_type": "code",
   "execution_count": 15,
   "metadata": {},
   "outputs": [],
   "source": [
    "import numpy as np \n",
    "import pandas as pd "
   ]
  },
  {
   "cell_type": "code",
   "execution_count": 16,
   "metadata": {},
   "outputs": [],
   "source": [
    "# 0이 10개 이고 1이 90개인 ndarray 생성\n",
    "list1 = []\n",
    "for i in range(0, 10, 1) :\n",
    "    list1.append(0)\n",
    "\n",
    "list2 = []\n",
    "for i in range(0, 90, 1) : \n",
    "    list2.append(1)"
   ]
  },
  {
   "cell_type": "code",
   "execution_count": 17,
   "metadata": {},
   "outputs": [
    {
     "name": "stdout",
     "output_type": "stream",
     "text": "[0 0 0 0 0 0 0 0 0 0 1 1 1 1 1 1 1 1 1 1 1 1 1 1 1 1 1 1 1 1 1 1 1 1 1 1 1\n 1 1 1 1 1 1 1 1 1 1 1 1 1 1 1 1 1 1 1 1 1 1 1 1 1 1 1 1 1 1 1 1 1 1 1 1 1\n 1 1 1 1 1 1 1 1 1 1 1 1 1 1 1 1 1 1 1 1 1 1 1 1 1 1]\n"
    }
   ],
   "source": [
    "# 2개의 list를 가지고 하나의 array 생성\n",
    "target = np.array(list1 + list2) \n",
    "print(target)"
   ]
  },
  {
   "cell_type": "code",
   "execution_count": 18,
   "metadata": {},
   "outputs": [
    {
     "name": "stdout",
     "output_type": "stream",
     "text": "RandomForestClassifier(bootstrap=True, class_weight={0: 0.9, 1: 0.1},\n                       criterion='gini', max_depth=None, max_features='auto',\n                       max_leaf_nodes=None, min_impurity_decrease=0.0,\n                       min_impurity_split=None, min_samples_leaf=1,\n                       min_samples_split=2, min_weight_fraction_leaf=0.0,\n                       n_estimators='warn', n_jobs=None, oob_score=False,\n                       random_state=None, verbose=0, warm_start=False)\n"
    }
   ],
   "source": [
    "# 분류 알고리즘에 위의 데이터를 이용하는 경우 \n",
    "# 0:10%, 1:90% \n",
    "\n",
    "# 분류 알고리즘\n",
    "from sklearn.ensemble import RandomForestClassifier\n",
    "# 데이터의 비율이 현저하게 다르기 때문에 가중치 설정 \n",
    "weights = { 0:0.9, 1:.1 }\n",
    "rfc = RandomForestClassifier(class_weight=weights)\n",
    "print(rfc)"
   ]
  },
  {
   "cell_type": "code",
   "execution_count": 19,
   "metadata": {},
   "outputs": [
    {
     "name": "stdout",
     "output_type": "stream",
     "text": "RandomForestClassifier(bootstrap=True, class_weight='balanced',\n                       criterion='gini', max_depth=None, max_features='auto',\n                       max_leaf_nodes=None, min_impurity_decrease=0.0,\n                       min_impurity_split=None, min_samples_leaf=1,\n                       min_samples_split=2, min_weight_fraction_leaf=0.0,\n                       n_estimators='warn', n_jobs=None, oob_score=False,\n                       random_state=None, verbose=0, warm_start=False)\n"
    }
   ],
   "source": [
    "# 가중치를 직접 설정하지 않고 분류기에게 판단하도록 해주는 옵션 \n",
    "rfc = RandomForestClassifier(class_weight='balanced')\n",
    "print(rfc)\n"
   ]
  },
  {
   "cell_type": "code",
   "execution_count": 20,
   "metadata": {},
   "outputs": [
    {
     "name": "stdout",
     "output_type": "stream",
     "text": "10\n90\n"
    }
   ],
   "source": [
    "# 샘플링 비율 조정\n",
    "# np.where 는 array에서 조건에 맞는 데이터만 추출\n",
    "# np.where(target==0)\n",
    "# taget 행렬에서 값이 0인 데이터의 행번호를 리턴\n",
    "#(행번호행렬, 자료형) 으로 결과를 리턴\n",
    "# 행번호행렬만 가져오기 위해서 [0]을 추가 \n",
    "class0 = np.where(target==0)[0]\n",
    "class1 = np.where(target==1)[0]\n",
    "print(len(class0))\n",
    "print(len(class1))\n",
    "# 데이터의 개수 확인 "
   ]
  },
  {
   "cell_type": "code",
   "execution_count": 21,
   "metadata": {},
   "outputs": [
    {
     "name": "stdout",
     "output_type": "stream",
     "text": "[0 0 0 0 0 0 0 0 0 0 1 1 1 1 1 1 1 1 1 1]\n"
    }
   ],
   "source": [
    "# target이 1인 데이터에서 target이 0인 데이터만큼 다운 샘플링을 해서 새로운 데이터셋을 생성\n",
    "# 다운샘플링에서는 비복원추출 해야됨\n",
    "# class1 에서 class0의 데이터 개수만큼 비복원추출(replace) \n",
    "# 비복원추출 - 나온것은 제거 , True로 설정하면 나온게 또 나옴.\n",
    "downsample = np.random.choice(class1, size=len(class0), replace=False)\n",
    "result = np.hstack((target[class0], target[downsample]))  # hstack은 매개변수 1개라 묶어\n",
    "print(result)"
   ]
  },
  {
   "cell_type": "code",
   "execution_count": 22,
   "metadata": {},
   "outputs": [
    {
     "name": "stdout",
     "output_type": "stream",
     "text": "[1 1 1 1 1 1 1 1 1 1 1 1 1 1 1 1 1 1 1 1 1 1 1 1 1 1 1 1 1 1 1 1 1 1 1 1 1\n 1 1 1 1 1 1 1 1 1 1 1 1 1 1 1 1 1 1 1 1 1 1 1 1 1 1 1 1 1 1 1 1 1 1 1 1 1\n 1 1 1 1 1 1 1 1 1 1 1 1 1 1 1 1 0 0 0 0 0 0 0 0 0 0 0 0 0 0 0 0 0 0 0 0 0\n 0 0 0 0 0 0 0 0 0 0 0 0 0 0 0 0 0 0 0 0 0 0 0 0 0 0 0 0 0 0 0 0 0 0 0 0 0\n 0 0 0 0 0 0 0 0 0 0 0 0 0 0 0 0 0 0 0 0 0 0 0 0 0 0 0 0 0 0 0 0]\n"
    }
   ],
   "source": [
    "# 업샘플링 \n",
    "upsample = np.random.choice(class0, size=len(class1), replace=True)\n",
    "result = np.hstack((target[class1], target[upsample]))  # hstack은 매개변수 1개라 묶어\n",
    "print(result)"
   ]
  },
  {
   "cell_type": "code",
   "execution_count": null,
   "metadata": {},
   "outputs": [],
   "source": []
  }
 ]
}