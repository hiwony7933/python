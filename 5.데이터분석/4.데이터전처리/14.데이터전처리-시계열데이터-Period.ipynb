{
 "nbformat": 4,
 "nbformat_minor": 2,
 "metadata": {
  "language_info": {
   "name": "python",
   "codemirror_mode": {
    "name": "ipython",
    "version": 3
   },
   "version": "3.7.4-final"
  },
  "orig_nbformat": 2,
  "file_extension": ".py",
  "mimetype": "text/x-python",
  "name": "python",
  "npconvert_exporter": "python",
  "pygments_lexer": "ipython3",
  "version": 3,
  "kernelspec": {
   "name": "python37464bitanaconda3condae788c5fa592f4db3927eca9f2fe371f6",
   "display_name": "Python 3.7.4 64-bit ('anaconda3': conda)"
  }
 },
 "cells": [
  {
   "cell_type": "code",
   "execution_count": 1,
   "metadata": {},
   "outputs": [
    {
     "name": "stdout",
     "output_type": "stream",
     "text": "DatetimeIndex(['2017-03-01', '2017-06-01', '2019-12-02'], dtype='datetime64[ns]', freq=None)\n"
    }
   ],
   "source": [
    "import pandas as pd \n",
    "\n",
    "# 일정한 간격을 갖는 날짜 만들기\n",
    "dates = ['2017-03-01', '2017-06-01', '2019-12-02']\n",
    "# 날짜로 변경\n",
    "pddates = pd.to_datetime(dates)\n",
    "print(pddates)"
   ]
  },
  {
   "cell_type": "code",
   "execution_count": 2,
   "metadata": {},
   "outputs": [
    {
     "name": "stdout",
     "output_type": "stream",
     "text": "PeriodIndex(['2017-03-01', '2017-06-01', '2019-12-02'], dtype='period[D]', freq='D') \n\nPeriodIndex(['2017-03', '2017-06', '2019-12'], dtype='period[M]', freq='M') \n\nPeriodIndex(['2017Q1', '2017Q2', '2019Q4'], dtype='period[Q-DEC]', freq='Q-DEC') \n\nPeriodIndex(['2017', '2017', '2019'], dtype='period[A-DEC]', freq='A-DEC') \n\n"
    }
   ],
   "source": [
    "# Period로 변환\n",
    "pdperiod = pddates.to_period(freq='D')\n",
    "print(pdperiod,'\\n')\n",
    "\n",
    "pdperiod = pddates.to_period(freq='M')\n",
    "print(pdperiod,'\\n')\n",
    "\n",
    "pdperiod = pddates.to_period(freq='Q')\n",
    "print(pdperiod,'\\n')\n",
    "\n",
    "pdperiod = pddates.to_period(freq='A')\n",
    "print(pdperiod,'\\n')"
   ]
  },
  {
   "cell_type": "code",
   "execution_count": 5,
   "metadata": {},
   "outputs": [
    {
     "name": "stdout",
     "output_type": "stream",
     "text": "DatetimeIndex(['2018-01-01', '2018-01-02', '2018-01-03', '2018-01-04',\n               '2018-01-05', '2018-01-06', '2018-01-07', '2018-01-08',\n               '2018-01-09', '2018-01-10'],\n              dtype='datetime64[ns]', freq='D')\n"
    }
   ],
   "source": [
    "# 일정한 간격을 가진 날짜 데이터 생성\n",
    "ts_ms = pd.date_range(start='2018-01-01', end=None, periods=10, freq='D')\n",
    "print(ts_ms)"
   ]
  }
 ]
}