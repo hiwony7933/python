{
 "nbformat": 4,
 "nbformat_minor": 2,
 "metadata": {
  "language_info": {
   "name": "python",
   "codemirror_mode": {
    "name": "ipython",
    "version": 3
   },
   "version": "3.7.4-final"
  },
  "orig_nbformat": 2,
  "file_extension": ".py",
  "mimetype": "text/x-python",
  "name": "python",
  "npconvert_exporter": "python",
  "pygments_lexer": "ipython3",
  "version": 3,
  "kernelspec": {
   "name": "python37464bitanaconda3condae788c5fa592f4db3927eca9f2fe371f6",
   "display_name": "Python 3.7.4 64-bit ('anaconda3': conda)"
  }
 },
 "cells": [
  {
   "cell_type": "code",
   "execution_count": 4,
   "metadata": {},
   "outputs": [
    {
     "name": "stdout",
     "output_type": "stream",
     "text": "Empty DataFrame\nColumns: []\nIndex: [2020-01-31 00:00:00, 2020-02-29 00:00:00, 2020-03-31 00:00:00, 2020-04-30 00:00:00, 2020-05-31 00:00:00, 2020-06-30 00:00:00, 2020-07-31 00:00:00, 2020-08-31 00:00:00, 2020-09-30 00:00:00, 2020-10-31 00:00:00, 2020-11-30 00:00:00, 2020-12-31 00:00:00]\n"
    }
   ],
   "source": [
    "import pandas as pd \n",
    "import numpy as np \n",
    "\n",
    "# 단순 이동 평균과 지수이동 평균\n",
    "\n",
    "# 월 단위로 12개의 시간 생성\n",
    "ts = pd.date_range('2020/01/01', periods=12, freq='M')\n",
    "df = pd.DataFrame(index=ts)\n",
    "print(df)"
   ]
  },
  {
   "cell_type": "code",
   "execution_count": 5,
   "metadata": {},
   "outputs": [
    {
     "name": "stdout",
     "output_type": "stream",
     "text": "data\n2020-01-31    10\n2020-02-29    20\n2020-03-31    30\n2020-04-30    40\n2020-05-31    50\n2020-06-30    60\n2020-07-31    70\n2020-08-31    80\n2020-09-30    90\n2020-10-31   100\n2020-11-30   110\n2020-12-31   120\n"
    }
   ],
   "source": [
    "# 새로운 컬럼 12개 추가\n",
    "df['data'] = [10, 20, 30, 40, 50, 60, 70, 80, 90, 100, 110, 120]\n",
    "print(df)"
   ]
  },
  {
   "cell_type": "code",
   "execution_count": 6,
   "metadata": {},
   "outputs": [
    {
     "name": "stdout",
     "output_type": "stream",
     "text": "data\n2020-01-31    NaN\n2020-02-29   15.0\n2020-03-31   25.0\n2020-04-30   35.0\n2020-05-31   45.0\n2020-06-30   55.0\n2020-07-31   65.0\n2020-08-31   75.0\n2020-09-30   85.0\n2020-10-31   95.0\n2020-11-30  105.0\n2020-12-31  115.0\n"
    }
   ],
   "source": [
    "# 단순이동평균 - 개수만 설정해서 평균을 구하는 것 \n",
    "print(df.rolling(window=2).mean())"
   ]
  },
  {
   "cell_type": "code",
   "execution_count": null,
   "metadata": {},
   "outputs": [],
   "source": []
  }
 ]
}