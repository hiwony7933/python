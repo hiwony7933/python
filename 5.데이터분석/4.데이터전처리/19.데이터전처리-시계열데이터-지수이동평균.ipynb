{
 "nbformat": 4,
 "nbformat_minor": 2,
 "metadata": {
  "language_info": {
   "name": "python",
   "codemirror_mode": {
    "name": "ipython",
    "version": 3
   },
   "version": "3.7.4-final"
  },
  "orig_nbformat": 2,
  "file_extension": ".py",
  "mimetype": "text/x-python",
  "name": "python",
  "npconvert_exporter": "python",
  "pygments_lexer": "ipython3",
  "version": 3,
  "kernelspec": {
   "name": "python37464bitanaconda3condae788c5fa592f4db3927eca9f2fe371f6",
   "display_name": "Python 3.7.4 64-bit ('anaconda3': conda)"
  }
 },
 "cells": [
  {
   "cell_type": "code",
   "execution_count": 1,
   "metadata": {},
   "outputs": [
    {
     "name": "stdout",
     "output_type": "stream",
     "text": "price\n2020-01-31     10\n2020-02-29     20\n2020-03-31     30\n2020-04-30     40\n2020-05-31     50\n"
    }
   ],
   "source": [
    "import numpy as np \n",
    "import pandas as pd \n",
    "\n",
    "#2020년 1월 1일 부터 월 단위로 5개의 데이터를 생성\n",
    "timeindex = pd.date_range('01/01/2020', periods=5, freq=\"M\")\n",
    "df=pd.DataFrame(index=timeindex)\n",
    "df['price'] = [10, 20, 30, 40, 50 ]\n",
    "print(df)"
   ]
  },
  {
   "cell_type": "code",
   "execution_count": 2,
   "metadata": {},
   "outputs": [
    {
     "name": "stdout",
     "output_type": "stream",
     "text": "price\n2020-01-31  10.000000\n2020-02-29  17.500000\n2020-03-31  26.153846\n2020-04-30  35.500000\n2020-05-31  45.206612\n"
    }
   ],
   "source": [
    "#span을 2로 설정해서 지수이동평균 구하기\n",
    "print(df.ewm(span=2).mean())"
   ]
  }
 ]
}