{
 "nbformat": 4,
 "nbformat_minor": 2,
 "metadata": {
  "language_info": {
   "name": "python",
   "codemirror_mode": {
    "name": "ipython",
    "version": 3
   },
   "version": "3.7.4-final"
  },
  "orig_nbformat": 2,
  "file_extension": ".py",
  "mimetype": "text/x-python",
  "name": "python",
  "npconvert_exporter": "python",
  "pygments_lexer": "ipython3",
  "version": 3,
  "kernelspec": {
   "name": "python37464bitanaconda3condae788c5fa592f4db3927eca9f2fe371f6",
   "display_name": "Python 3.7.4 64-bit ('anaconda3': conda)"
  }
 },
 "cells": [
  {
   "cell_type": "code",
   "execution_count": 10,
   "metadata": {},
   "outputs": [],
   "source": [
    "# 수치연산과 선형대수 , ndarray 자료구조를 가진 패키지\n",
    "import numpy as np \n",
    "# Series와 Dataframe 자료구조를 가진 패키지\n",
    "import pandas as pd \n",
    "# 샘플 데이터와 시각화를 위한 패키지 \n",
    "import seaborn as sns "
   ]
  },
  {
   "cell_type": "code",
   "execution_count": 11,
   "metadata": {},
   "outputs": [
    {
     "name": "stdout",
     "output_type": "stream",
     "text": "820      S\n821      S\n822      S\n823      S\n824      S\n825      Q\n826      S\n827      C\n828      Q\n829    NaN\nName: embarked, dtype: object\n"
    }
   ],
   "source": [
    "titanic = sns.load_dataset('titanic')\n",
    "print(titanic['embarked'][820:830])"
   ]
  },
  {
   "cell_type": "code",
   "execution_count": 12,
   "metadata": {},
   "outputs": [
    {
     "name": "stdout",
     "output_type": "stream",
     "text": "820    S\n821    S\n822    S\n823    S\n824    S\n825    Q\n826    S\n827    C\n828    Q\n829    Q\nName: embarked, dtype: object\n"
    }
   ],
   "source": [
    "# 직접 NaN 값을 다른 값으로 대체 - 앞의 데이터로 채움\n",
    "# 표 형태의 데이터를 가져온 경우 셀 병합이 된 경우에 사용 \n",
    "titanic['embarked'].fillna(method='ffill', inplace=True)\n",
    "print(titanic['embarked'][820:830])"
   ]
  },
  {
   "cell_type": "code",
   "execution_count": 13,
   "metadata": {},
   "outputs": [
    {
     "name": "stdout",
     "output_type": "stream",
     "text": "[[100.]\n [200.]\n [300.]\n [500.]\n [ 40.]\n [200.]]\n"
    }
   ],
   "source": [
    "# 사이킷 런을 이용해서 결측치 채우기\n",
    "features = np.array([[100],[200],[300],[500],[40],[np.NaN]])\n",
    "\n",
    "# 중간값으로 채우는 imputer 생성 \n",
    "from sklearn.impute import SimpleImputer\n",
    "imputers = SimpleImputer(strategy='median') # 중앙값을 NaN에 채움 \n",
    "\n",
    "features_imputed = imputers.fit_transform(features)\n",
    "print(features_imputed)"
   ]
  },
  {
   "cell_type": "code",
   "execution_count": 14,
   "metadata": {},
   "outputs": [
    {
     "name": "stdout",
     "output_type": "stream",
     "text": "[[200.         300.        ]\n [300.         500.        ]\n [400.         410.        ]\n [205.         300.62419767]]\n"
    }
   ],
   "source": [
    "# KNN(분류) 알고리즘을 이용한 결측치 채우기\n",
    "# fancyimpute 설치하고 실행 \n",
    "# KNN을 사용하지 않고 다른 머신러닝을 분류 알고리즘을 사용해도 된다. \n",
    "from fancyimpute import KNN\n",
    "features = np.array([[200, 300], [300, 500], [400,410],[205, np.NaN]])\n",
    "features_imputed = KNN(k=5, verbose=0).fit_transform(features)\n",
    "print(features_imputed)##"
   ]
  },
  {
   "cell_type": "code",
   "execution_count": null,
   "metadata": {},
   "outputs": [],
   "source": []
  }
 ]
}