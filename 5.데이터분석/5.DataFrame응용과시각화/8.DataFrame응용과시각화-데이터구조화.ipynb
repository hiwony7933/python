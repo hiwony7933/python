{
 "nbformat": 4,
 "nbformat_minor": 2,
 "metadata": {
  "language_info": {
   "name": "python",
   "codemirror_mode": {
    "name": "ipython",
    "version": 3
   },
   "version": "3.7.4-final"
  },
  "orig_nbformat": 2,
  "file_extension": ".py",
  "mimetype": "text/x-python",
  "name": "python",
  "npconvert_exporter": "python",
  "pygments_lexer": "ipython3",
  "version": 3,
  "kernelspec": {
   "name": "python37464bitanaconda3condae788c5fa592f4db3927eca9f2fe371f6",
   "display_name": "Python 3.7.4 64-bit ('anaconda3': conda)"
  }
 },
 "cells": [
  {
   "cell_type": "code",
   "execution_count": 17,
   "metadata": {},
   "outputs": [
    {
     "name": "stdout",
     "output_type": "stream",
     "text": "MultiIndex([('cust_1', '2015'),\n            ('cust_1', '2016'),\n            ('cust_2', '2015'),\n            ('cust_2', '2016')],\n           )\n"
    }
   ],
   "source": [
    "import pandas as pd \n",
    "import numpy as np \n",
    "\n",
    "# 1. Stack & Unstack \n",
    "# 멀티 인덱스 만들기\n",
    "# 튜플의 list를 이용해서 멀티 인덱스 만들기 \n",
    "mul_index = pd.MultiIndex.from_tuples([('cust_1', '2015'),('cust_1','2016'),\n",
    "                                        ('cust_2','2015'),('cust_2','2016')])\n",
    "\n",
    "print(mul_index)"
   ]
  },
  {
   "cell_type": "code",
   "execution_count": 18,
   "metadata": {},
   "outputs": [
    {
     "name": "stdout",
     "output_type": "stream",
     "text": "prd_1  prd_2  prd_3  prd_4\ncust_1 2015      0      1      2      3\n       2016      4      5      6      7\ncust_2 2015      8      9     10     11\n       2016     12     13     14     15\n"
    }
   ],
   "source": [
    "# 데이터 프레임 만들기\n",
    "data = pd.DataFrame(data=np.arange(16).reshape(4,4),\n",
    "                    index=mul_index,\n",
    "                    columns=['prd_1', 'prd_2','prd_3','prd_4'])\n",
    "\n",
    "print(data)"
   ]
  },
  {
   "cell_type": "code",
   "execution_count": 19,
   "metadata": {},
   "outputs": [
    {
     "name": "stdout",
     "output_type": "stream",
     "text": "cust_1  2015  prd_1     0\n              prd_2     1\n              prd_3     2\n              prd_4     3\n        2016  prd_1     4\n              prd_2     5\n              prd_3     6\n              prd_4     7\ncust_2  2015  prd_1     8\n              prd_2     9\n              prd_3    10\n              prd_4    11\n        2016  prd_1    12\n              prd_2    13\n              prd_3    14\n              prd_4    15\ndtype: int64\n"
    }
   ],
   "source": [
    "# 컬럼들을 인덱스로 설정 - stack \n",
    "# 모든 열을 세로 방향으로 세워서 하나의 열로 만든다. \n",
    "# index는 1개의 Level이 더 많아 진다. \n",
    "data_stacked = data.stack()\n",
    "print(data_stacked)"
   ]
  },
  {
   "cell_type": "code",
   "execution_count": 20,
   "metadata": {},
   "outputs": [
    {
     "name": "stdout",
     "output_type": "stream",
     "text": "cust_1  cust_2\n2015 prd_1       0       8\n     prd_2       1       9\n     prd_3       2      10\n     prd_4       3      11\n2016 prd_1       4      12\n     prd_2       5      13\n     prd_3       6      14\n     prd_4       7      15\n\n             prd_1  prd_2  prd_3  prd_4\ncust_1 2015      0      1      2      3\n       2016      4      5      6      7\ncust_2 2015      8      9     10     11\n       2016     12     13     14     15\n\n       prd_1      prd_2      prd_3      prd_4     \n        2015 2016  2015 2016  2015 2016  2015 2016\ncust_1     0    4     1    5     2    6     3    7\ncust_2     8   12     9   13    10   14    11   15\n"
    }
   ],
   "source": [
    "# unstack은 데이터를 가로 방향으로 늘어뜨리는 것\n",
    "# level 옵션을 이용해서 원하는 만큼만 열로 만들 수 있다.\n",
    "# 지금같은 경우는 index가 3가지 이므로 0,1,2 가능 \n",
    "print(data_stacked.unstack(level=0))\n",
    "print()\n",
    "print(data_stacked.unstack(level=2))\n",
    "print()\n",
    "print(data_stacked.unstack(level=2).unstack(level=1))"
   ]
  },
  {
   "cell_type": "code",
   "execution_count": 26,
   "metadata": {},
   "outputs": [
    {
     "name": "stdout",
     "output_type": "stream",
     "text": "prd_1  prd_2  prd_3  prd_4\ncust_1 2015      0      1      2      3\n       2016      4      5      6      7\ncust_2 2015      8      9     10     11\n       2016     12     13     14     15\n\n   prd_3  prd_4 variable  value\n0      2      3    prd_1      0\n1      6      7    prd_1      4\n2     10     11    prd_1      8\n3     14     15    prd_1     12\n4      2      3    prd_2      1\n5      6      7    prd_2      5\n6     10     11    prd_2      9\n7     14     15    prd_2     13\n"
    }
   ],
   "source": [
    "# 2. melt \n",
    "\n",
    "# 2개의 컬럼을 합쳐서 1개로 만들기 \n",
    "# 남겨두고자 하는 컬럼의 list를 id_vars에 대입하면 \n",
    "# 나머지 컬럼을 합쳐서 컬럼의 이름은 variable \n",
    "# 값은 value에 설정한다. \n",
    "print(data)\n",
    "print()\n",
    "print(pd.melt(data, id_vars=['prd_3','prd_4']))"
   ]
  }
 ]
}