{
 "nbformat": 4,
 "nbformat_minor": 2,
 "metadata": {
  "language_info": {
   "name": "python",
   "codemirror_mode": {
    "name": "ipython",
    "version": 3
   }
  },
  "orig_nbformat": 2,
  "file_extension": ".py",
  "mimetype": "text/x-python",
  "name": "python",
  "npconvert_exporter": "python",
  "pygments_lexer": "ipython3",
  "version": 3
 },
 "cells": [
  {
   "cell_type": "code",
   "execution_count": 1,
   "metadata": {},
   "outputs": [
    {
     "name": "stdout",
     "output_type": "stream",
     "text": "{\"documents\":[{\"address_name\":\"서울 강남구 삼성동 159\",\"category_group_code\":\"PM9\",\"category_group_name\":\"약국\",\"category_name\":\"의료,건강 \\u003e 약국\",\"distance\":\"\",\"id\":\"16820328\",\"phone\":\"02-6002-3060\",\"place_name\":\"팜엑스약국\",\"place_url\":\"http://place.map.kakao.com/16820328\",\"road_address_name\":\"서울 강남구 봉은사로 524\",\"x\":\"127.058816424151\",\"y\":\"37.5125226317312\"},{\"address_name\":\"서울 강남구 삼성동 159\",\"category_group_code\":\"PM9\",\"category_group_name\":\"약국\",\"category_name\":\"의료,건강 \\u003e 약국\",\"distance\":\"\",\"id\":\"22547729\",\"phone\":\"02-554-4906\",\"place_name\":\"도심공항약국\",\"place_url\":\"http://place.map.kakao.com/22547729\",\"road_address_name\":\"서울 강남구 영동대로 513\",\"x\":\"127.058848190727\",\"y\":\"37.5126451524635\"},{\"address_name\":\"서울 강남구 삼성1동 155-11\",\"category_group_code\":\"PM9\",\"category_group_name\":\"약국\",\"category_name\":\"의료,건강 \\u003e 약국\",\"distance\":\"\",\"id\":\"16059439\",\"phone\":\"02-555-5505\",\"place_name\":\"삼성수약국\",\"place_url\":\"http://place.map.kakao.com/16059439\",\"road_address_name\":\"서울 강남구 삼성로96길 11\",\"x\":\"127.056836574631\",\"y\":\"37.5089448116358\"},{\"address_name\":\"서울 강남구 대치2동 942\",\"category_group_code\":\"PM9\",\"category_group_name\":\"약국\",\"category_name\":\"의료,건강 \\u003e 약국\",\"distance\":\"\",\"id\":\"16037969\",\"phone\":\"02-528-3528\",\"place_name\":\"해성약국\",\"place_url\":\"http://place.map.kakao.com/16037969\",\"road_address_name\":\"서울 강남구 테헤란로 504\",\"x\":\"127.057377712119\",\"y\":\"37.5066487897501\"},{\"address_name\":\"서울 강남구 삼성동 158-16\",\"category_group_code\":\"PM9\",\"category_group_name\":\"약국\",\"category_name\":\"의료,건강 \\u003e 약국\",\"distance\":\"\",\"id\":\"12625052\",\"phone\":\"02-569-4111\",\"place_name\":\"삼성하나약국\",\"place_url\":\"http://place.map.kakao.com/12625052\",\"road_address_name\":\"서울 강남구 테헤란로 509\",\"x\":\"127.05820647978969\",\"y\":\"37.50778004643713\"},{\"address_name\":\"서울 강남구 대치2동 944\",\"category_group_code\":\"PM9\",\"category_group_name\":\"약국\",\"category_name\":\"의료,건강 \\u003e 약국\",\"distance\":\"\",\"id\":\"16068348\",\"phone\":\"070-4127-1351\",\"place_name\":\"미소약국\",\"place_url\":\"http://place.map.kakao.com/16068348\",\"road_address_name\":\"서울 강남구 테헤란로 514\",\"x\":\"127.059771517248\",\"y\":\"37.5074224669726\"},{\"address_name\":\"서울 강남구 삼성동 154-12\",\"category_group_code\":\"PM9\",\"category_group_name\":\"약국\",\"category_name\":\"의료,건강 \\u003e 약국\",\"distance\":\"\",\"id\":\"12012062\",\"phone\":\"02-564-3333\",\"place_name\":\"이도건강약국\",\"place_url\":\"http://place.map.kakao.com/12012062\",\"road_address_name\":\"서울 강남구 테헤란로87길 29\",\"x\":\"127.05799183780103\",\"y\":\"37.509565943282226\"},{\"address_name\":\"서울 강남구 대치동 943-16\",\"category_group_code\":\"PM9\",\"category_group_name\":\"약국\",\"category_name\":\"의료,건강 \\u003e 약국\",\"distance\":\"\",\"id\":\"16618597\",\"phone\":\"02-558-5476\",\"place_name\":\"장생당약국\",\"place_url\":\"http://place.map.kakao.com/16618597\",\"road_address_name\":\"서울 강남구 테헤란로84길 17\",\"x\":\"127.058969686607\",\"y\":\"37.5060533424248\"},{\"address_name\":\"서울 강남구 삼성동 158-14\",\"category_group_code\":\"PM9\",\"category_group_name\":\"약국\",\"category_name\":\"의료,건강 \\u003e 약국\",\"distance\":\"\",\"id\":\"1956474733\",\"phone\":\"02-555-1130\",\"place_name\":\"사랑온누리약국\",\"place_url\":\"http://place.map.kakao.com/1956474733\",\"road_address_name\":\"서울 강남구 삼성로92길 27\",\"x\":\"127.05854963554441\",\"y\":\"37.508367331955526\"},{\"address_name\":\"서울 강남구 삼성동 158-10\",\"category_group_code\":\"PM9\",\"category_group_name\":\"약국\",\"category_name\":\"의료,건강 \\u003e 약국\",\"distance\":\"\",\"id\":\"13508696\",\"phone\":\"02-508-1363\",\"place_name\":\"참좋은온누리약국\",\"place_url\":\"http://place.map.kakao.com/13508696\",\"road_address_name\":\"서울 강남구 테헤란로87길 17\",\"x\":\"127.05852732111232\",\"y\":\"37.508759280055614\"},{\"address_name\":\"서울 강남구 삼성동 158-12\",\"category_group_code\":\"PM9\",\"category_group_name\":\"약국\",\"category_name\":\"의료,건강 \\u003e 약국\",\"distance\":\"\",\"id\":\"16036410\",\"phone\":\"02-555-6806\",\"place_name\":\"소망약국\",\"place_url\":\"http://place.map.kakao.com/16036410\",\"road_address_name\":\"서울 강남구 테헤란로87길 13\",\"x\":\"127.058632414374\",\"y\":\"37.5086411963255\"}],\"meta\":{\"is_end\":true,\"pageable_count\":11,\"same_name\":null,\"total_count\":11}}\n\n"
    }
   ],
   "source": [
    "# 웹에서 정적인 데이터를 가져오기 위한 라이브러리를 import\n",
    "import requests\n",
    "\n",
    "# 다운로드 받을 URL 만들기\n",
    "addr = \"https://dapi.kakao.com/v2/local/search/category.json?category_group_code=PM9&rect=127.0561466,37.5058277,127.0602340,37.5142554\"\n",
    "\n",
    "#header 만들기\n",
    "headers = {'Authorization': 'KakaoAK 0ae14c42ae0198bceb42b4e627d3464f'}\n",
    "\n",
    "resp = requests.get(addr, headers=headers)  # 데이터 가져와서 \n",
    "text = resp.text\n",
    "print(text) # 가져온 데이터는 json 임"
   ]
  },
  {
   "cell_type": "code",
   "execution_count": 2,
   "metadata": {},
   "outputs": [
    {
     "name": "stdout",
     "output_type": "stream",
     "text": "<class 'dict'>\n[{'address_name': '서울 강남구 삼성동 159', 'category_group_code': 'PM9', 'category_group_name': '약국', 'category_name': '의료,건강 > 약국', 'distance': '', 'id': '16820328', 'phone': '02-6002-3060', 'place_name': '팜엑스약국', 'place_url': 'http://place.map.kakao.com/16820328', 'road_address_name': '서울 강남구 봉은사로 524', 'x': '127.058816424151', 'y': '37.5125226317312'}, {'address_name': '서울 강남구 삼성동 159', 'category_group_code': 'PM9', 'category_group_name': '약국', 'category_name': '의료,건강 > 약국', 'distance': '', 'id': '22547729', 'phone': '02-554-4906', 'place_name': '도심공항약국', 'place_url': 'http://place.map.kakao.com/22547729', 'road_address_name': '서울 강남구 영동대로 513', 'x': '127.058848190727', 'y': '37.5126451524635'}, {'address_name': '서울 강남구 삼성1동 155-11', 'category_group_code': 'PM9', 'category_group_name': '약국', 'category_name': '의료,건강 > 약국', 'distance': '', 'id': '16059439', 'phone': '02-555-5505', 'place_name': '삼성수약국', 'place_url': 'http://place.map.kakao.com/16059439', 'road_address_name': '서울 강남구 삼성로96길 11', 'x': '127.056836574631', 'y': '37.5089448116358'}, {'address_name': '서울 강남구 대치2동 942', 'category_group_code': 'PM9', 'category_group_name': '약국', 'category_name': '의료,건강 > 약국', 'distance': '', 'id': '16037969', 'phone': '02-528-3528', 'place_name': '해성약국', 'place_url': 'http://place.map.kakao.com/16037969', 'road_address_name': '서울 강남구 테헤란로 504', 'x': '127.057377712119', 'y': '37.5066487897501'}, {'address_name': '서울 강남구 삼성동 158-16', 'category_group_code': 'PM9', 'category_group_name': '약국', 'category_name': '의료,건강 > 약국', 'distance': '', 'id': '12625052', 'phone': '02-569-4111', 'place_name': '삼성하나약국', 'place_url': 'http://place.map.kakao.com/12625052', 'road_address_name': '서울 강남구 테헤란로 509', 'x': '127.05820647978969', 'y': '37.50778004643713'}, {'address_name': '서울 강남구 대치2동 944', 'category_group_code': 'PM9', 'category_group_name': '약국', 'category_name': '의료,건강 > 약국', 'distance': '', 'id': '16068348', 'phone': '070-4127-1351', 'place_name': '미소약국', 'place_url': 'http://place.map.kakao.com/16068348', 'road_address_name': '서울 강남구 테헤란로 514', 'x': '127.059771517248', 'y': '37.5074224669726'}, {'address_name': '서울 강남구 삼성동 154-12', 'category_group_code': 'PM9', 'category_group_name': '약국', 'category_name': '의료,건강 > 약국', 'distance': '', 'id': '12012062', 'phone': '02-564-3333', 'place_name': '이도건강약국', 'place_url': 'http://place.map.kakao.com/12012062', 'road_address_name': '서울 강남구 테헤란로87길 29', 'x': '127.05799183780103', 'y': '37.509565943282226'}, {'address_name': '서울 강남구 대치동 943-16', 'category_group_code': 'PM9', 'category_group_name': '약국', 'category_name': '의료,건강 > 약국', 'distance': '', 'id': '16618597', 'phone': '02-558-5476', 'place_name': '장생당약국', 'place_url': 'http://place.map.kakao.com/16618597', 'road_address_name': '서울 강남구 테헤란로84길 17', 'x': '127.058969686607', 'y': '37.5060533424248'}, {'address_name': '서울 강남구 삼성동 158-14', 'category_group_code': 'PM9', 'category_group_name': '약국', 'category_name': '의료,건강 > 약국', 'distance': '', 'id': '1956474733', 'phone': '02-555-1130', 'place_name': '사랑온누리약국', 'place_url': 'http://place.map.kakao.com/1956474733', 'road_address_name': '서울 강남구 삼성로92길 27', 'x': '127.05854963554441', 'y': '37.508367331955526'}, {'address_name': '서울 강남구 삼성동 158-10', 'category_group_code': 'PM9', 'category_group_name': '약국', 'category_name': '의료,건강 > 약국', 'distance': '', 'id': '13508696', 'phone': '02-508-1363', 'place_name': '참좋은온누리약국', 'place_url': 'http://place.map.kakao.com/13508696', 'road_address_name': '서울 강남구 테헤란로87길 17', 'x': '127.05852732111232', 'y': '37.508759280055614'}, {'address_name': '서울 강남구 삼성동 158-12', 'category_group_code': 'PM9', 'category_group_name': '약국', 'category_name': '의료,건강 > 약국', 'distance': '', 'id': '16036410', 'phone': '02-555-6806', 'place_name': '소망약국', 'place_url': 'http://place.map.kakao.com/16036410', 'road_address_name': '서울 강남구 테헤란로87길 13', 'x': '127.058632414374', 'y': '37.5086411963255'}]\n"
    }
   ],
   "source": [
    "import json #json 파싱 모듈을 가져오기 \n",
    "jsondata = json.loads(text)\n",
    "print(type(jsondata)) # 맨 처음 시작이 {} 이므로 dict\n",
    "print(jsondata['documents']) # documents 키의 데이터가져오기 - list "
   ]
  },
  {
   "cell_type": "code",
   "execution_count": 5,
   "metadata": {},
   "outputs": [
    {
     "name": "stdout",
     "output_type": "stream",
     "text": "{'명칭': '팜엑스약국', '주소': '서울 강남구 삼성동 159'}\n{'명칭': '도심공항약국', '주소': '서울 강남구 삼성동 159'}\n{'명칭': '삼성수약국', '주소': '서울 강남구 삼성1동 155-11'}\n{'명칭': '해성약국', '주소': '서울 강남구 대치2동 942'}\n{'명칭': '삼성하나약국', '주소': '서울 강남구 삼성동 158-16'}\n{'명칭': '미소약국', '주소': '서울 강남구 대치2동 944'}\n{'명칭': '이도건강약국', '주소': '서울 강남구 삼성동 154-12'}\n{'명칭': '장생당약국', '주소': '서울 강남구 대치동 943-16'}\n{'명칭': '사랑온누리약국', '주소': '서울 강남구 삼성동 158-14'}\n{'명칭': '참좋은온누리약국', '주소': '서울 강남구 삼성동 158-10'}\n{'명칭': '소망약국', '주소': '서울 강남구 삼성동 158-12'}\n"
    }
   ],
   "source": [
    "li=[]\n",
    "# 가져온 배열을 행 단위로 읽어서\n",
    "for imsi in jsondata['documents'] :\n",
    "    # print(imsi['address_name'], ':', imsi['place_name'])\n",
    "    # place_name과 address_name을 가지고 dict를 생성\n",
    "    d = {'명칭' : imsi['place_name'],'주소':imsi['address_name']}\n",
    "    li.append(d) #dict를 list에 추가 \n",
    "\n",
    "# 확인\n",
    "for temp in li :\n",
    "    print(temp)"
   ]
  },
  {
   "cell_type": "code",
   "execution_count": null,
   "metadata": {},
   "outputs": [],
   "source": []
  }
 ]
}