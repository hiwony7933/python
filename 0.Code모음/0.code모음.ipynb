{
 "nbformat": 4,
 "nbformat_minor": 2,
 "metadata": {
  "language_info": {
   "name": "python",
   "codemirror_mode": {
    "name": "ipython",
    "version": 3
   }
  },
  "orig_nbformat": 2,
  "file_extension": ".py",
  "mimetype": "text/x-python",
  "name": "python",
  "npconvert_exporter": "python",
  "pygments_lexer": "ipython3",
  "version": 3
 },
 "cells": [
  {
   "cell_type": "code",
   "execution_count": null,
   "metadata": {},
   "outputs": [],
   "source": [
    "# 배열 자료구조(행렬 포함), 선형대수, 과학 기술 계산을 위한 패키지\n",
    "import numpy as np \n",
    "# Series, DataFrame(자료구조), 기술통계, 간단한 시각화를 위한 패키지\n",
    "import pandas as pd \n",
    "\n",
    "# 시각화 기본 패키지\n",
    "import matplotlib.pyplot as plt \n",
    "\n",
    "# 그래프에서 한글 처리를 위한 패키지\n",
    "import platform\n",
    "from matplotlib import font_manager, rc \n",
    "\n",
    "# 데이터 셋과 화려한 시각화를 위한 패키지\n",
    "import seaborn as sns \n",
    "# 데이터 전처리를 위한 패키지\n",
    "# sklearn 은 데이터셋과 전처리 그리고 머신러닝을 위한 패키지 \n",
    "from sklearn import preprocessing\n",
    "\n",
    "# 지도 시각화(단계구분도)를 위한 패키지 \n",
    "import folium"
   ]
  },
  {
   "cell_type": "code",
   "execution_count": null,
   "metadata": {},
   "outputs": [],
   "source": [
    "# 그래프에서 한글 처리 \n",
    "import platform\n",
    "from matplotlib import font_manager, rc\n",
    "\n",
    "if platform.system() == 'Darwin':\n",
    "    rc('font', family='AppleGothic')\n",
    "elif platform.system() == 'Windows':\n",
    "    font_name = font_manager.FontProperties(fname=\"c:/Windows/Fonts/malgun.ttf\").get_name()\n",
    "    rc('font', family=font_name)"
   ]
  },
  {
   "cell_type": "code",
   "execution_count": null,
   "metadata": {},
   "outputs": [],
   "source": [
    "# 다항식 잔차 그래프 그리기 \n",
    "\n",
    "import matplotlib.pyplot as plt \n",
    "import numpy as np \n",
    "\n",
    "# 다항식\n",
    "fp1 = np.polyfit(df['계'], df['소계'], 1)\n",
    "f1 = np.poly1d(fp1)\n",
    "print(f1)\n",
    "\n",
    "# 잔차 계산\n",
    "df['잔차'] = np.abs(df['소계'] - f1(df['계']))\n",
    "plt.figure(figsize=(14,12))\n",
    "plt.scatter(df['계'], df['소계'], c=df['잔차'], s=50)\n",
    "plt.plot(fx, f1(fx), ls='dashed', lw=3, color='g')\n",
    "\n",
    "# 그래프에 텍스트 출력하기\n",
    "for n in range(25) : \n",
    "    # 각 점들의 좌표 우측 \n",
    "    plt.text(df['계'][n] * 1.02, \n",
    "             df['소계'][n] * 1, \n",
    "             df.index[n], \n",
    "             fontsize=12)             "
   ]
  },
  {
   "cell_type": "code",
   "execution_count": null,
   "metadata": {},
   "outputs": [],
   "source": [
    "# 음수 사용을 위한 설정\n",
    "import matplotlib.pyplot as plt \n",
    "\n",
    "plt.rcParams['axes.unicode_minus'] = False"
   ]
  },
  {
   "cell_type": "code",
   "execution_count": null,
   "metadata": {},
   "outputs": [],
   "source": []
  },
  {
   "cell_type": "code",
   "execution_count": null,
   "metadata": {},
   "outputs": [],
   "source": []
  },
  {
   "cell_type": "code",
   "execution_count": null,
   "metadata": {},
   "outputs": [],
   "source": []
  },
  {
   "cell_type": "code",
   "execution_count": null,
   "metadata": {},
   "outputs": [],
   "source": []
  },
  {
   "cell_type": "code",
   "execution_count": null,
   "metadata": {},
   "outputs": [],
   "source": []
  },
  {
   "cell_type": "code",
   "execution_count": null,
   "metadata": {},
   "outputs": [],
   "source": []
  }
 ]
}